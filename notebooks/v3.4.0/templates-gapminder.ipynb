{
 "cells": [
  {
   "cell_type": "markdown",
   "metadata": {},
   "source": [
    "## Overview\n",
    "This notebook demonstrates how to apply built-in theme templates to plotly.py figures"
   ]
  },
  {
   "cell_type": "code",
   "execution_count": 1,
   "metadata": {},
   "outputs": [],
   "source": [
    "import plotly.graph_objs as go\n",
    "import plotly.io as pio\n",
    "import pandas as pd"
   ]
  },
  {
   "cell_type": "markdown",
   "metadata": {},
   "source": [
    "Load gapminder dataset for 1982"
   ]
  },
  {
   "cell_type": "code",
   "execution_count": 3,
   "metadata": {},
   "outputs": [
    {
     "data": {
      "text/html": [
       "<div>\n",
       "<style scoped>\n",
       "    .dataframe tbody tr th:only-of-type {\n",
       "        vertical-align: middle;\n",
       "    }\n",
       "\n",
       "    .dataframe tbody tr th {\n",
       "        vertical-align: top;\n",
       "    }\n",
       "\n",
       "    .dataframe thead th {\n",
       "        text-align: right;\n",
       "    }\n",
       "</style>\n",
       "<table border=\"1\" class=\"dataframe\">\n",
       "  <thead>\n",
       "    <tr style=\"text-align: right;\">\n",
       "      <th></th>\n",
       "      <th>country</th>\n",
       "      <th>year</th>\n",
       "      <th>pop</th>\n",
       "      <th>continent</th>\n",
       "      <th>lifeExp</th>\n",
       "      <th>gdpPercap</th>\n",
       "    </tr>\n",
       "  </thead>\n",
       "  <tbody>\n",
       "    <tr>\n",
       "      <th>30</th>\n",
       "      <td>Algeria</td>\n",
       "      <td>1982</td>\n",
       "      <td>20033753.0</td>\n",
       "      <td>Africa</td>\n",
       "      <td>61.368</td>\n",
       "      <td>5745.160213</td>\n",
       "    </tr>\n",
       "    <tr>\n",
       "      <th>42</th>\n",
       "      <td>Angola</td>\n",
       "      <td>1982</td>\n",
       "      <td>7016384.0</td>\n",
       "      <td>Africa</td>\n",
       "      <td>39.942</td>\n",
       "      <td>2756.953672</td>\n",
       "    </tr>\n",
       "    <tr>\n",
       "      <th>126</th>\n",
       "      <td>Benin</td>\n",
       "      <td>1982</td>\n",
       "      <td>3641603.0</td>\n",
       "      <td>Africa</td>\n",
       "      <td>50.904</td>\n",
       "      <td>1277.897616</td>\n",
       "    </tr>\n",
       "    <tr>\n",
       "      <th>162</th>\n",
       "      <td>Botswana</td>\n",
       "      <td>1982</td>\n",
       "      <td>970347.0</td>\n",
       "      <td>Africa</td>\n",
       "      <td>61.484</td>\n",
       "      <td>4551.142150</td>\n",
       "    </tr>\n",
       "    <tr>\n",
       "      <th>198</th>\n",
       "      <td>Burkina Faso</td>\n",
       "      <td>1982</td>\n",
       "      <td>6634596.0</td>\n",
       "      <td>Africa</td>\n",
       "      <td>48.122</td>\n",
       "      <td>807.198586</td>\n",
       "    </tr>\n",
       "  </tbody>\n",
       "</table>\n",
       "</div>"
      ],
      "text/plain": [
       "          country  year         pop continent  lifeExp    gdpPercap\n",
       "30        Algeria  1982  20033753.0    Africa   61.368  5745.160213\n",
       "42         Angola  1982   7016384.0    Africa   39.942  2756.953672\n",
       "126         Benin  1982   3641603.0    Africa   50.904  1277.897616\n",
       "162      Botswana  1982    970347.0    Africa   61.484  4551.142150\n",
       "198  Burkina Faso  1982   6634596.0    Africa   48.122   807.198586"
      ]
     },
     "execution_count": 3,
     "metadata": {},
     "output_type": "execute_result"
    }
   ],
   "source": [
    "data = pd.read_csv(\"https://raw.githubusercontent.com/plotly/datasets/master/gapminderDataFiveYear.csv\")\n",
    "df_1982 = data[data['year']==1982]\n",
    "df_1982 = df_1982.sort_values(['continent', 'country'])\n",
    "df_1982.head()"
   ]
  },
  {
   "cell_type": "markdown",
   "metadata": {},
   "source": [
    "Create a scatter plot of Life Expectancy and GDP per capita with markers sized by population"
   ]
  },
  {
   "cell_type": "code",
   "execution_count": 24,
   "metadata": {},
   "outputs": [
    {
     "data": {
      "application/vnd.jupyter.widget-view+json": {
       "model_id": "c120cd1b5fa04a45a9ec9eb6b993b822",
       "version_major": 2,
       "version_minor": 0
      },
      "text/plain": [
       "FigureWidget({\n",
       "    'data': [{'marker': {'size': [20033753.0, 7016384.0, 3641603.0, 970347.0,\n",
       "                 …"
      ]
     },
     "metadata": {},
     "output_type": "display_data"
    }
   ],
   "source": [
    "fig = go.FigureWidget()\n",
    "for continent, continent_df in df_1982.groupby('continent'):\n",
    "    fig.add_scatter(x=continent_df.lifeExp,\n",
    "                    y=continent_df.gdpPercap,\n",
    "                    marker={'size': continent_df['pop'].tolist(), 'sizemode': 'area', 'sizeref': 200000},\n",
    "                    mode='markers',\n",
    "                    text=continent_df.country,\n",
    "                    name=continent)\n",
    "fig.layout.yaxis.type = 'log'\n",
    "fig.layout.xaxis.title = 'Life Expectancy'\n",
    "fig.layout.yaxis.title = 'GDP per capita'\n",
    "fig.layout.title = 'Life Expectancy and GDP per capita (1982)'\n",
    "fig.layout.width = 900\n",
    "fig.layout.height = 700\n",
    "fig"
   ]
  },
  {
   "cell_type": "markdown",
   "metadata": {},
   "source": [
    "Display the available themese"
   ]
  },
  {
   "cell_type": "code",
   "execution_count": 8,
   "metadata": {},
   "outputs": [
    {
     "data": {
      "text/plain": [
       "Templates configuration\n",
       "-----------------------\n",
       "    Default template: None\n",
       "    Available templates:\n",
       "        ['ggplot2', 'seaborn', 'plotly', 'plotly_white', 'plotly_dark',\n",
       "         'presentation', 'xgridoff']"
      ]
     },
     "execution_count": 8,
     "metadata": {},
     "output_type": "execute_result"
    }
   ],
   "source": [
    "pio.templates"
   ]
  },
  {
   "cell_type": "markdown",
   "metadata": {},
   "source": [
    "### Theme templates\n",
    "Copy figure and update template"
   ]
  },
  {
   "cell_type": "code",
   "execution_count": 16,
   "metadata": {},
   "outputs": [
    {
     "data": {
      "application/vnd.jupyter.widget-view+json": {
       "model_id": "11b8bdae3c3e41e4b6fa81e87218c9ea",
       "version_major": 2,
       "version_minor": 0
      },
      "text/plain": [
       "FigureWidget({\n",
       "    'data': [{'marker': {'size': [20033753.0, 7016384.0, 3641603.0, 970347.0,\n",
       "                 …"
      ]
     },
     "metadata": {},
     "output_type": "display_data"
    }
   ],
   "source": [
    "fig_seaborn = go.FigureWidget(fig)\n",
    "fig_seaborn.layout.template = 'seaborn'\n",
    "fig_seaborn"
   ]
  },
  {
   "cell_type": "code",
   "execution_count": 17,
   "metadata": {},
   "outputs": [
    {
     "data": {
      "application/vnd.jupyter.widget-view+json": {
       "model_id": "7aed9948e17846e0bdb0e966a2d6715a",
       "version_major": 2,
       "version_minor": 0
      },
      "text/plain": [
       "FigureWidget({\n",
       "    'data': [{'marker': {'size': [20033753.0, 7016384.0, 3641603.0, 970347.0,\n",
       "                 …"
      ]
     },
     "metadata": {},
     "output_type": "display_data"
    }
   ],
   "source": [
    "fig_ggplot2 = go.FigureWidget(fig)\n",
    "fig_ggplot2.layout.template = 'ggplot2'\n",
    "fig_ggplot2"
   ]
  },
  {
   "cell_type": "code",
   "execution_count": 18,
   "metadata": {},
   "outputs": [
    {
     "data": {
      "application/vnd.jupyter.widget-view+json": {
       "model_id": "214f53186eaa4795bdc09d133e009941",
       "version_major": 2,
       "version_minor": 0
      },
      "text/plain": [
       "FigureWidget({\n",
       "    'data': [{'marker': {'size': [20033753.0, 7016384.0, 3641603.0, 970347.0,\n",
       "                 …"
      ]
     },
     "metadata": {},
     "output_type": "display_data"
    }
   ],
   "source": [
    "fig_plotly = go.FigureWidget(fig)\n",
    "fig_plotly.layout.template = 'plotly'\n",
    "fig_plotly"
   ]
  },
  {
   "cell_type": "code",
   "execution_count": 19,
   "metadata": {},
   "outputs": [
    {
     "data": {
      "application/vnd.jupyter.widget-view+json": {
       "model_id": "d4a5ba8d94ae4bf2a8802edfe11456f2",
       "version_major": 2,
       "version_minor": 0
      },
      "text/plain": [
       "FigureWidget({\n",
       "    'data': [{'marker': {'size': [20033753.0, 7016384.0, 3641603.0, 970347.0,\n",
       "                 …"
      ]
     },
     "metadata": {},
     "output_type": "display_data"
    }
   ],
   "source": [
    "fig_plotly_white = go.FigureWidget(fig)\n",
    "fig_plotly_white.layout.template = 'plotly_white'\n",
    "fig_plotly_white"
   ]
  },
  {
   "cell_type": "code",
   "execution_count": 20,
   "metadata": {},
   "outputs": [
    {
     "data": {
      "application/vnd.jupyter.widget-view+json": {
       "model_id": "bab244f438984a6fb69fd1066b8edfef",
       "version_major": 2,
       "version_minor": 0
      },
      "text/plain": [
       "FigureWidget({\n",
       "    'data': [{'marker': {'size': [20033753.0, 7016384.0, 3641603.0, 970347.0,\n",
       "                 …"
      ]
     },
     "metadata": {},
     "output_type": "display_data"
    }
   ],
   "source": [
    "fig_plotly_dark = go.FigureWidget(fig)\n",
    "fig_plotly_dark.layout.template = 'plotly_dark'\n",
    "fig_plotly_dark"
   ]
  },
  {
   "cell_type": "markdown",
   "metadata": {},
   "source": [
    "### Add on templates\n",
    "Add on templates can be used on their own or combined with other templates to further customize the figure's appearance\n",
    "\n",
    "The `presentation` template increases the size of the font, lines, and markers to make figures more visible from a distance.  Here is `presentation` on its own"
   ]
  },
  {
   "cell_type": "code",
   "execution_count": 26,
   "metadata": {},
   "outputs": [
    {
     "data": {
      "application/vnd.jupyter.widget-view+json": {
       "model_id": "c71788d977a0487cac766eeb89c9b57e",
       "version_major": 2,
       "version_minor": 0
      },
      "text/plain": [
       "FigureWidget({\n",
       "    'data': [{'marker': {'size': [20033753.0, 7016384.0, 3641603.0, 970347.0,\n",
       "                 …"
      ]
     },
     "metadata": {},
     "output_type": "display_data"
    }
   ],
   "source": [
    "fig_presentation = go.FigureWidget(fig)\n",
    "fig_presentation.layout.template = 'presentation'\n",
    "fig_presentation"
   ]
  },
  {
   "cell_type": "markdown",
   "metadata": {},
   "source": [
    "Templates can be combined by joining them together with a `+` character.  Here the `plotly` template combined with with `presentation`"
   ]
  },
  {
   "cell_type": "code",
   "execution_count": 27,
   "metadata": {},
   "outputs": [
    {
     "data": {
      "application/vnd.jupyter.widget-view+json": {
       "model_id": "e11743fee0204c34b3a3facd8423c433",
       "version_major": 2,
       "version_minor": 0
      },
      "text/plain": [
       "FigureWidget({\n",
       "    'data': [{'marker': {'size': [20033753.0, 7016384.0, 3641603.0, 970347.0,\n",
       "                 …"
      ]
     },
     "metadata": {},
     "output_type": "display_data"
    }
   ],
   "source": [
    "fig_plotly_presentation = go.FigureWidget(fig)\n",
    "fig_plotly_presentation.layout.template = 'plotly+presentation'\n",
    "fig_plotly_presentation"
   ]
  },
  {
   "cell_type": "markdown",
   "metadata": {},
   "source": [
    "The `xgridoff` template can be used to remove the x-axis grid lines for a cleaner look"
   ]
  },
  {
   "cell_type": "code",
   "execution_count": 28,
   "metadata": {},
   "outputs": [
    {
     "data": {
      "application/vnd.jupyter.widget-view+json": {
       "model_id": "62ea1c046b314c64a9582106e129803d",
       "version_major": 2,
       "version_minor": 0
      },
      "text/plain": [
       "FigureWidget({\n",
       "    'data': [{'marker': {'size': [20033753.0, 7016384.0, 3641603.0, 970347.0,\n",
       "                 …"
      ]
     },
     "metadata": {},
     "output_type": "display_data"
    }
   ],
   "source": [
    "fig_plotly_presentation_xgridoff = go.FigureWidget(fig)\n",
    "fig_plotly_presentation_xgridoff.layout.template = 'plotly+presentation+xgridoff'\n",
    "fig_plotly_presentation_xgridoff"
   ]
  },
  {
   "cell_type": "markdown",
   "metadata": {},
   "source": [
    "### Export static images of each theme\n",
    "Themed figures can be saved to static raster and vector images using the `plotly.io.write_image` function"
   ]
  },
  {
   "cell_type": "code",
   "execution_count": 29,
   "metadata": {},
   "outputs": [],
   "source": [
    "for template in [None, 'ggplot2', 'seaborn',\n",
    "                 'plotly', 'plotly_white', 'plotly_dark',\n",
    "                 'presentation', 'plotly+presentation', 'plotly+presentation+xgridoff']:\n",
    "    new_fig = go.Figure(fig)\n",
    "    new_fig.layout.template = template\n",
    "    pio.write_image(new_fig, 'images-gapminder/' + str(template) + '.png', scale=1.5)\n",
    "    pio.write_image(new_fig, 'images-gapminder/' + str(template) + '.pdf')"
   ]
  },
  {
   "cell_type": "code",
   "execution_count": null,
   "metadata": {},
   "outputs": [],
   "source": []
  }
 ],
 "metadata": {
  "kernelspec": {
   "display_name": "Python 3",
   "language": "python",
   "name": "python3"
  },
  "language_info": {
   "codemirror_mode": {
    "name": "ipython",
    "version": 3
   },
   "file_extension": ".py",
   "mimetype": "text/x-python",
   "name": "python",
   "nbconvert_exporter": "python",
   "pygments_lexer": "ipython3",
   "version": "3.6.7"
  }
 },
 "nbformat": 4,
 "nbformat_minor": 2
}
