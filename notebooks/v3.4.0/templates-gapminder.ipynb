{
 "cells": [
  {
   "cell_type": "markdown",
   "metadata": {},
   "source": [
    "## Overview\n",
    "This notebook demonstrates how to apply built-in theme templates to plotly.py figures"
   ]
  },
  {
   "cell_type": "code",
   "execution_count": 1,
   "metadata": {},
   "outputs": [],
   "source": [
    "import plotly.graph_objs as go\n",
    "import plotly.io as pio\n",
    "import pandas as pd"
   ]
  },
  {
   "cell_type": "markdown",
   "metadata": {},
   "source": [
    "Load gapminder dataset for 1982"
   ]
  },
  {
   "cell_type": "code",
   "execution_count": 2,
   "metadata": {},
   "outputs": [
    {
     "data": {
      "text/html": [
       "<div>\n",
       "<style scoped>\n",
       "    .dataframe tbody tr th:only-of-type {\n",
       "        vertical-align: middle;\n",
       "    }\n",
       "\n",
       "    .dataframe tbody tr th {\n",
       "        vertical-align: top;\n",
       "    }\n",
       "\n",
       "    .dataframe thead th {\n",
       "        text-align: right;\n",
       "    }\n",
       "</style>\n",
       "<table border=\"1\" class=\"dataframe\">\n",
       "  <thead>\n",
       "    <tr style=\"text-align: right;\">\n",
       "      <th></th>\n",
       "      <th>country</th>\n",
       "      <th>year</th>\n",
       "      <th>pop</th>\n",
       "      <th>continent</th>\n",
       "      <th>lifeExp</th>\n",
       "      <th>gdpPercap</th>\n",
       "    </tr>\n",
       "  </thead>\n",
       "  <tbody>\n",
       "    <tr>\n",
       "      <th>30</th>\n",
       "      <td>Algeria</td>\n",
       "      <td>1982</td>\n",
       "      <td>20033753.0</td>\n",
       "      <td>Africa</td>\n",
       "      <td>61.368</td>\n",
       "      <td>5745.160213</td>\n",
       "    </tr>\n",
       "    <tr>\n",
       "      <th>42</th>\n",
       "      <td>Angola</td>\n",
       "      <td>1982</td>\n",
       "      <td>7016384.0</td>\n",
       "      <td>Africa</td>\n",
       "      <td>39.942</td>\n",
       "      <td>2756.953672</td>\n",
       "    </tr>\n",
       "    <tr>\n",
       "      <th>126</th>\n",
       "      <td>Benin</td>\n",
       "      <td>1982</td>\n",
       "      <td>3641603.0</td>\n",
       "      <td>Africa</td>\n",
       "      <td>50.904</td>\n",
       "      <td>1277.897616</td>\n",
       "    </tr>\n",
       "    <tr>\n",
       "      <th>162</th>\n",
       "      <td>Botswana</td>\n",
       "      <td>1982</td>\n",
       "      <td>970347.0</td>\n",
       "      <td>Africa</td>\n",
       "      <td>61.484</td>\n",
       "      <td>4551.142150</td>\n",
       "    </tr>\n",
       "    <tr>\n",
       "      <th>198</th>\n",
       "      <td>Burkina Faso</td>\n",
       "      <td>1982</td>\n",
       "      <td>6634596.0</td>\n",
       "      <td>Africa</td>\n",
       "      <td>48.122</td>\n",
       "      <td>807.198586</td>\n",
       "    </tr>\n",
       "  </tbody>\n",
       "</table>\n",
       "</div>"
      ],
      "text/plain": [
       "          country  year         pop continent  lifeExp    gdpPercap\n",
       "30        Algeria  1982  20033753.0    Africa   61.368  5745.160213\n",
       "42         Angola  1982   7016384.0    Africa   39.942  2756.953672\n",
       "126         Benin  1982   3641603.0    Africa   50.904  1277.897616\n",
       "162      Botswana  1982    970347.0    Africa   61.484  4551.142150\n",
       "198  Burkina Faso  1982   6634596.0    Africa   48.122   807.198586"
      ]
     },
     "execution_count": 2,
     "metadata": {},
     "output_type": "execute_result"
    }
   ],
   "source": [
    "data = pd.read_csv(\"https://raw.githubusercontent.com/plotly/datasets/master/gapminderDataFiveYear.csv\")\n",
    "df_1982 = data[data['year']==1982]\n",
    "df_1982 = df_1982.sort_values(['continent', 'country'])\n",
    "df_1982.head()"
   ]
  },
  {
   "cell_type": "markdown",
   "metadata": {},
   "source": [
    "Create a scatter plot of Life Expectancy and GDP per capita with markers sized by population"
   ]
  },
  {
   "cell_type": "code",
   "execution_count": 3,
   "metadata": {},
   "outputs": [
    {
     "data": {
      "application/vnd.jupyter.widget-view+json": {
       "model_id": "22cade4d39d24a33a0c375d835866d98",
       "version_major": 2,
       "version_minor": 0
      },
      "text/plain": [
       "FigureWidget({\n",
       "    'data': [{'marker': {'size': [20033753.0, 7016384.0, 3641603.0, 970347.0,\n",
       "                 …"
      ]
     },
     "metadata": {},
     "output_type": "display_data"
    }
   ],
   "source": [
    "fig = go.FigureWidget()\n",
    "for continent, continent_df in df_1982.groupby('continent'):\n",
    "    fig.add_scatter(x=continent_df.lifeExp,\n",
    "                    y=continent_df.gdpPercap,\n",
    "                    marker={'size': continent_df['pop'].tolist(), 'sizemode': 'area', 'sizeref': 200000},\n",
    "                    mode='markers',\n",
    "                    text=continent_df.country,\n",
    "                    name=continent)\n",
    "fig.layout.yaxis.type = 'log'\n",
    "fig.layout.xaxis.title = 'Life Expectancy'\n",
    "fig.layout.yaxis.title = 'GDP per capita'\n",
    "fig.layout.title = 'Life Expectancy and GDP per capita (1982)'\n",
    "fig.layout.width = 900\n",
    "fig.layout.height = 700\n",
    "fig"
   ]
  },
  {
   "cell_type": "markdown",
   "metadata": {},
   "source": [
    "Display the available themese"
   ]
  },
  {
   "cell_type": "code",
   "execution_count": 4,
   "metadata": {},
   "outputs": [
    {
     "data": {
      "text/plain": [
       "Templates configuration\n",
       "-----------------------\n",
       "    Default template: None\n",
       "    Available templates:\n",
       "        ['ggplot2', 'seaborn', 'plotly', 'plotly_white', 'plotly_dark',\n",
       "         'presentation', 'xgridoff']"
      ]
     },
     "execution_count": 4,
     "metadata": {},
     "output_type": "execute_result"
    }
   ],
   "source": [
    "pio.templates"
   ]
  },
  {
   "cell_type": "markdown",
   "metadata": {},
   "source": [
    "### Theme templates\n",
    "Copy figure and update template"
   ]
  },
  {
   "cell_type": "code",
   "execution_count": 5,
   "metadata": {},
   "outputs": [
    {
     "data": {
      "application/vnd.jupyter.widget-view+json": {
       "model_id": "8bfee420bea546f59b0d512cb9af9484",
       "version_major": 2,
       "version_minor": 0
      },
      "text/plain": [
       "FigureWidget({\n",
       "    'data': [{'marker': {'size': [20033753.0, 7016384.0, 3641603.0, 970347.0,\n",
       "                 …"
      ]
     },
     "metadata": {},
     "output_type": "display_data"
    }
   ],
   "source": [
    "fig_seaborn = go.FigureWidget(fig)\n",
    "fig_seaborn.layout.template = 'seaborn'\n",
    "fig_seaborn"
   ]
  },
  {
   "cell_type": "code",
   "execution_count": 6,
   "metadata": {},
   "outputs": [
    {
     "data": {
      "application/vnd.jupyter.widget-view+json": {
       "model_id": "fba20370d77f4327afbff29a990620b6",
       "version_major": 2,
       "version_minor": 0
      },
      "text/plain": [
       "FigureWidget({\n",
       "    'data': [{'marker': {'size': [20033753.0, 7016384.0, 3641603.0, 970347.0,\n",
       "                 …"
      ]
     },
     "metadata": {},
     "output_type": "display_data"
    }
   ],
   "source": [
    "fig_ggplot2 = go.FigureWidget(fig)\n",
    "fig_ggplot2.layout.template = 'ggplot2'\n",
    "fig_ggplot2"
   ]
  },
  {
   "cell_type": "code",
   "execution_count": 7,
   "metadata": {},
   "outputs": [
    {
     "data": {
      "application/vnd.jupyter.widget-view+json": {
       "model_id": "0afdb7bfcd9e47f5a59cdbb2b32905e1",
       "version_major": 2,
       "version_minor": 0
      },
      "text/plain": [
       "FigureWidget({\n",
       "    'data': [{'marker': {'size': [20033753.0, 7016384.0, 3641603.0, 970347.0,\n",
       "                 …"
      ]
     },
     "metadata": {},
     "output_type": "display_data"
    }
   ],
   "source": [
    "fig_plotly = go.FigureWidget(fig)\n",
    "fig_plotly.layout.template = 'plotly'\n",
    "fig_plotly"
   ]
  },
  {
   "cell_type": "code",
   "execution_count": 8,
   "metadata": {},
   "outputs": [
    {
     "data": {
      "application/vnd.jupyter.widget-view+json": {
       "model_id": "8bc2ab88ef29487991b32ad570cfe12d",
       "version_major": 2,
       "version_minor": 0
      },
      "text/plain": [
       "FigureWidget({\n",
       "    'data': [{'marker': {'size': [20033753.0, 7016384.0, 3641603.0, 970347.0,\n",
       "                 …"
      ]
     },
     "metadata": {},
     "output_type": "display_data"
    }
   ],
   "source": [
    "fig_plotly_white = go.FigureWidget(fig)\n",
    "fig_plotly_white.layout.template = 'plotly_white'\n",
    "fig_plotly_white"
   ]
  },
  {
   "cell_type": "code",
   "execution_count": 9,
   "metadata": {},
   "outputs": [
    {
     "data": {
      "application/vnd.jupyter.widget-view+json": {
       "model_id": "a0ae577d7aba48fbba0fb905928d7b1d",
       "version_major": 2,
       "version_minor": 0
      },
      "text/plain": [
       "FigureWidget({\n",
       "    'data': [{'marker': {'size': [20033753.0, 7016384.0, 3641603.0, 970347.0,\n",
       "                 …"
      ]
     },
     "metadata": {},
     "output_type": "display_data"
    }
   ],
   "source": [
    "fig_plotly_dark = go.FigureWidget(fig)\n",
    "fig_plotly_dark.layout.template = 'plotly_dark'\n",
    "fig_plotly_dark"
   ]
  },
  {
   "cell_type": "markdown",
   "metadata": {},
   "source": [
    "### Add on templates\n",
    "Add on templates can be used on their own or combined with other templates to further customize the figure's appearance\n",
    "\n",
    "The `presentation` template increases the size of the font, lines, and markers to make figures more visible from a distance.  Here is `presentation` on its own"
   ]
  },
  {
   "cell_type": "code",
   "execution_count": 10,
   "metadata": {},
   "outputs": [
    {
     "data": {
      "application/vnd.jupyter.widget-view+json": {
       "model_id": "fcd9004e7db64d5bb0545be0371a3755",
       "version_major": 2,
       "version_minor": 0
      },
      "text/plain": [
       "FigureWidget({\n",
       "    'data': [{'marker': {'size': [20033753.0, 7016384.0, 3641603.0, 970347.0,\n",
       "                 …"
      ]
     },
     "metadata": {},
     "output_type": "display_data"
    }
   ],
   "source": [
    "fig_presentation = go.FigureWidget(fig)\n",
    "fig_presentation.layout.template = 'presentation'\n",
    "fig_presentation"
   ]
  },
  {
   "cell_type": "markdown",
   "metadata": {},
   "source": [
    "Templates can be combined by joining them together with a `+` character.  Here the `plotly` template combined with with `presentation`"
   ]
  },
  {
   "cell_type": "code",
   "execution_count": 11,
   "metadata": {},
   "outputs": [
    {
     "data": {
      "application/vnd.jupyter.widget-view+json": {
       "model_id": "aeb80fbe8e2f46b3b32f22b2d840f7a0",
       "version_major": 2,
       "version_minor": 0
      },
      "text/plain": [
       "FigureWidget({\n",
       "    'data': [{'marker': {'size': [20033753.0, 7016384.0, 3641603.0, 970347.0,\n",
       "                 …"
      ]
     },
     "metadata": {},
     "output_type": "display_data"
    }
   ],
   "source": [
    "fig_plotly_presentation = go.FigureWidget(fig)\n",
    "fig_plotly_presentation.layout.template = 'plotly+presentation'\n",
    "fig_plotly_presentation"
   ]
  },
  {
   "cell_type": "markdown",
   "metadata": {},
   "source": [
    "The `xgridoff` template can be used to remove the x-axis grid lines for a cleaner look"
   ]
  },
  {
   "cell_type": "code",
   "execution_count": 12,
   "metadata": {},
   "outputs": [
    {
     "data": {
      "application/vnd.jupyter.widget-view+json": {
       "model_id": "d7245ae73ef14abdade9d4b4cdbcaad4",
       "version_major": 2,
       "version_minor": 0
      },
      "text/plain": [
       "FigureWidget({\n",
       "    'data': [{'marker': {'size': [20033753.0, 7016384.0, 3641603.0, 970347.0,\n",
       "                 …"
      ]
     },
     "metadata": {},
     "output_type": "display_data"
    }
   ],
   "source": [
    "fig_plotly_presentation_xgridoff = go.FigureWidget(fig)\n",
    "fig_plotly_presentation_xgridoff.layout.template = 'plotly+presentation+xgridoff'\n",
    "fig_plotly_presentation_xgridoff"
   ]
  },
  {
   "cell_type": "markdown",
   "metadata": {},
   "source": [
    "### Export static images of each theme\n",
    "Themed figures can be saved to static raster and vector images using the `plotly.io.write_image` function"
   ]
  },
  {
   "cell_type": "code",
   "execution_count": 13,
   "metadata": {},
   "outputs": [],
   "source": [
    "for template in [None, 'ggplot2', 'seaborn',\n",
    "                 'plotly', 'plotly_white', 'plotly_dark',\n",
    "                 'presentation', 'plotly+presentation', 'plotly+presentation+xgridoff']:\n",
    "    new_fig = go.Figure(fig)\n",
    "    new_fig.layout.template = template\n",
    "    pio.write_image(new_fig, 'images-gapminder/' + str(template) + '.png', scale=1.5)\n",
    "    pio.write_image(new_fig, 'images-gapminder/' + str(template) + '.pdf')"
   ]
  },
  {
   "cell_type": "code",
   "execution_count": null,
   "metadata": {},
   "outputs": [],
   "source": []
  }
 ],
 "metadata": {
  "kernelspec": {
   "display_name": "Python 3",
   "language": "python",
   "name": "python3"
  },
  "language_info": {
   "codemirror_mode": {
    "name": "ipython",
    "version": 3
   },
   "file_extension": ".py",
   "mimetype": "text/x-python",
   "name": "python",
   "nbconvert_exporter": "python",
   "pygments_lexer": "ipython3",
   "version": "3.6.7"
  },
  "widgets": {
   "application/vnd.jupyter.widget-state+json": {
    "state": {
     "0afdb7bfcd9e47f5a59cdbb2b32905e1": {
      "buffers": [
       {
        "data": "yXa+nxqvTkB/arx0k/hDQMDKoUW2c0lAyqFFtvO9TkBWDi2ynQ9IQEA1XrpJvEdAX7pJDAJ7SkD2KFyPwiVIQBgEVg4twkhAgZVDi2x3SkAxCKwcWuRHQClcj8L1WExA6Pup8dL9SkAOLbKd72dIQFTjpZvEAExA2/l+arzURUBSuB6F6/FFQGmR7Xw/dUZA1HjpJjFITEAK16NwPcpGQKwcWmQ730pANl66SQxyRUBg5dAi26lDQDZeukkMYk1ARIts5/uJS0CTGARWDm1GQKRwPQrXE09AeOkmMQh8SEAYBFYOLdJGQGmR7Xw/9UVA6SYxCKzMSkAv3SQGga1QQDMzMzMz001A9ihcj8JlRUCWQ4ts53tNQAaBlUOLTEVAfT81XrrpRkBxPQrXo3hRQJZDi2znG0dAsXJoke0sTkCNl24SgzBKQClcj8L1OENACtejcD16RUD4U+OlmxRNQCUGgZVDK0lALIcW2c7HS0Do+6nx0k1JQEA1XrpJvEtAUI2XbhIDUEDpJjEIrOxIQA0CK4cW6UlAWDm0yHYuTkA=",
        "encoding": "base64",
        "path": [
         "_data",
         0,
         "x",
         "value"
        ]
       },
       {
        "data": "ZRu4AylxtkA5RrJH6ImlQHcRpiiX95NAIEHxYyTHsUCun/6zljmJQHdHxmrTfIFAfgG9cPd/okCJ9fwfBuaNQNNTP8pD74hAi28ofGbMk0DbVg6I+w2FQAA49uyBD7NARGtFm2tVpECtUnqm736mQPiL2ZJ1X6tA8QNGTZr+jEDMHUe9AWeAQAQlYM/iDoJAj8cMVK6EzUDnIzoVeh6KQOguibNCYItAaq6JuwDKikA9gnbi/TCKQO2CwTXnEJVAr3IN2BrqiEBCcte3mOGBQH9v058R9dBAejnsvoNblECRsBRubsaDQGGMo80cUINA4Cwly5kkl0CRtYZSE9CsQME3TZ89HaVAMhaX9GHjfEDjwRa7GV+wQEay7O7GbYxA7FG4HuWjmEBIqYQnOJO0QJCQN6+QjItAzxYQWt+InUBq+uyA67mXQEj99QoL5JZAb59VZjpjkkCkVMITIrzAQIz2eCEtnp1AJ94BnsRurkBG6uLb8FGLQIBG6dJPApVAjyCVYnfQq0CMOoQ7IVKFQNdMvtm2ApZA48nJH9emiEA=",
        "encoding": "base64",
        "path": [
         "_data",
         0,
         "y",
         "value"
        ]
       },
       {
        "data": "PzVeukl8UUDKoUW28+1KQF+6SQwCq09AcT0K16PwUkBcj8L1KKRRQG8Sg8DKqVBAzczMzMxcUkDZzvdT421SQJMYBFYO3U9A2c73U+MVUEBaZDvfT01MQKjGSzeJEU1AX7pJDAK7SUAxCKwcWnROQD0K16NwzVFAUrgehevZUECgGi/dJKZNQJHtfD81nlFADi2yne+3UECIFtnO97NOQAAAAAAAcFJAaJHtfD81UUCamZmZmalSQOxRuB6Fs1FAz/dT46UjUUA=",
        "encoding": "base64",
        "path": [
         "_data",
         1,
         "x",
         "value"
        ]
       },
       {
        "data": "hXtl3vKSwUBb7PZZBamoQHLBGfzVdrtAd/hrsrJc1kC1Oc5tquezQKZiY16TLbFAtDukGLyOtEA6cw8J65S8QDfBN00vWqZAaF95kMotvEAaUdobWAKwQGO0jqp+1LJAbyTQYKNsn0D9icqGhWOoQKYKRiUNtLdA6Zyf4pLFwkDlgcgirRyrQFeXUwKaYbtAIhYx7ICisEA7qMR1gCK5QGuad5x+LcRAuOhkqcPPwUB5I/PIY2zYQFjO3hk5CLtA4QZ8fjTIxUA=",
        "encoding": "base64",
        "path": [
         "_data",
         1,
         "y",
         "value"
        ]
       },
       {
        "data": "WmQ730/tQ0AW2c73U0NRQP3UeOkmAUlA0SLb+X56SUCamZmZmWFQQM3MzMzM3FJAQDVeuklMTEAxCKwcWhRMQI/C9Shcz01Av58aL90ET0DNzMzMzJxSQNejcD0KR1NAO99PjZfeT0BmZmZmZkZRQB1aZDvfx1BAsp3vp8bTUUD0/dR46b5QQAAAAAAAAFFAO99PjZe+TEC7SQwCKwdNQHjpJjEIzEhAd76fGi9dT0BOYhBYORRMQNEi2/l+Ck9AqMZLN4mBT0BxPQrXo/BRQJzEILByMFFA9ihcj8IlUEAK16NwPQpSQJHtfD81JlBAnMQgsHJoTUBEi2zn+xlQQFg5tMh2jkhA",
        "encoding": "base64",
        "path": [
         "_data",
         2,
         "x",
         "value"
        ]
       },
       {
        "data": "P785bReQjkAY7IZtycLSQIoIWtzaJ4VAo4+ex82Dg0BgVb38XhOOQBluwOdDcMxAYzcizsm9ikA095DwfbOXQC0HeqhVuL1A8DMuHPRazECGWtO8gwPOQDfg88MG7tJAev1JfGpBsEDRH5p5hgqwQKgZUkXx9rVAX3tmSYKe3kCVCFT/hNi9QPrPmh9bOLNAxR9FnWlCn0AAAAAAAIB6QH32Ehn8coZAZ9DQP2VNyUAZO+EluI2WQJQT7SqMVqRAVOOlm6Vz4EBdhZSflKDNQFMmNbRRwJlAvAD76KxjrUB4B3jSWgK9QJCeIodwsqJAwnrt4+IZhkDKpIY2CPCwQC9W1GA65p5A",
        "encoding": "base64",
        "path": [
         "_data",
         2,
         "y",
         "value"
        ]
       },
       {
        "data": "exSuR+GaUUDsUbgehUtSQOxRuB6Fe1JAXI/C9SisUUCF61G4HsVRQD0K16NwnVFAPQrXo3C9UUC4HoXrUahSQDMzMzMzo1JAKVyPwvW4UkAzMzMzM3NSQI/C9Shcz1JAKVyPwvVYUUCPwvUoXD9TQGZmZmZmRlJAH4XrUbi+UkBYObTIdoZSQDMzMzMzA1NArkfhehT+UkAUrkfhetRRQOF6FK5HMVJACtejcD1qUUDtfD81XopRQDMzMzMzs1FAeekmMQjEUUAzMzMzMxNTQHsUrkfhGlNAPQrXo3ANU0D4U+Olm4ROQMP1KFyPglJA",
        "encoding": "base64",
        "path": [
         "_data",
         3,
         "x",
         "value"
        ]
       },
       {
        "data": "vHX+7cJdrEBSswdaRRfVQIHPDyP2fNRAUG7b95wesECwjuOHGBDAQEaZDTLp0slAwFsgQZ0IzkAJbTmXAi7VQOFASBZKGdJAXhH8b3nR00BSg2kY4oPVQJw4ud810s1Aumbyzf6AyEAUrkfhZrnWQE1/9iMppchA5/up8V4m0EA91SE3S+vFQEc4LXjd5dRANEbrqKiu2UAGZ/D3w4HAQLyReeTr9MZAG4LjMqjCwkAr9pfdi6bNQEOtad5FKsZAeekmMa5y0UCms5PBFTPLQGZmZmbYLtRALa2GxG2720AgQlw5W5GwQCDvVSsbztFA",
        "encoding": "base64",
        "path": [
         "_data",
         3,
         "y",
         "value"
        ]
       },
       {
        "data": "j8L1KFyvUkD2KFyPwnVSQA==",
        "encoding": "base64",
        "path": [
         "_data",
         4,
         "x",
         "value"
        ]
       },
       {
        "data": "ISQLmEAF00CSXP5DGjjRQA==",
        "encoding": "base64",
        "path": [
         "_data",
         4,
         "y",
         "value"
        ]
       }
      ],
      "model_module": "plotlywidget",
      "model_module_version": "^0.5.0-rc.1",
      "model_name": "FigureModel",
      "state": {
       "_data": [
        {
         "marker": {
          "size": [
           20033753,
           7016384,
           3641603,
           970347,
           6634596,
           4580410,
           9250831,
           2476971,
           4875118,
           348643,
           30646495,
           1774735,
           9025951,
           305991,
           45681811,
           285483,
           2637297,
           38111756,
           753874,
           715523,
           11400338,
           4710497,
           825987,
           17661452,
           1411807,
           1956875,
           3344074,
           9171477,
           6502825,
           6998256,
           1622136,
           992040,
           20198730,
           12587223,
           1099010,
           6437188,
           73039376,
           517810,
           5507565,
           98593,
           6147783,
           3464522,
           5828892,
           31140029,
           20367053,
           649901,
           19844382,
           2644765,
           6734098,
           12939400,
           6100407,
           7636524
          ],
          "sizemode": "area",
          "sizeref": 200000
         },
         "mode": "markers",
         "name": "Africa",
         "text": [
          "Algeria",
          "Angola",
          "Benin",
          "Botswana",
          "Burkina Faso",
          "Burundi",
          "Cameroon",
          "Central African Republic",
          "Chad",
          "Comoros",
          "Congo, Dem. Rep.",
          "Congo, Rep.",
          "Cote d'Ivoire",
          "Djibouti",
          "Egypt",
          "Equatorial Guinea",
          "Eritrea",
          "Ethiopia",
          "Gabon",
          "Gambia",
          "Ghana",
          "Guinea",
          "Guinea-Bissau",
          "Kenya",
          "Lesotho",
          "Liberia",
          "Libya",
          "Madagascar",
          "Malawi",
          "Mali",
          "Mauritania",
          "Mauritius",
          "Morocco",
          "Mozambique",
          "Namibia",
          "Niger",
          "Nigeria",
          "Reunion",
          "Rwanda",
          "Sao Tome and Principe",
          "Senegal",
          "Sierra Leone",
          "Somalia",
          "South Africa",
          "Sudan",
          "Swaziland",
          "Tanzania",
          "Togo",
          "Tunisia",
          "Uganda",
          "Zambia",
          "Zimbabwe"
         ],
         "type": "scatter",
         "uid": "e9ca1297-bc1d-43ab-9d3a-17846ccced16",
         "x": {
          "dtype": "float64",
          "shape": [
           52
          ]
         },
         "y": {
          "dtype": "float64",
          "shape": [
           52
          ]
         }
        },
        {
         "marker": {
          "size": [
           29341374,
           5642224,
           128962939,
           25201900,
           11487112,
           27764644,
           2424367,
           9789224,
           5968349,
           8365850,
           4474873,
           6395630,
           5198399,
           3669448,
           2298309,
           71640904,
           2979423,
           2036305,
           3366439,
           18125129,
           3279001,
           1116479,
           232187835,
           2953997,
           15620766
          ],
          "sizemode": "area",
          "sizeref": 200000
         },
         "mode": "markers",
         "name": "Americas",
         "text": [
          "Argentina",
          "Bolivia",
          "Brazil",
          "Canada",
          "Chile",
          "Colombia",
          "Costa Rica",
          "Cuba",
          "Dominican Republic",
          "Ecuador",
          "El Salvador",
          "Guatemala",
          "Haiti",
          "Honduras",
          "Jamaica",
          "Mexico",
          "Nicaragua",
          "Panama",
          "Paraguay",
          "Peru",
          "Puerto Rico",
          "Trinidad and Tobago",
          "United States",
          "Uruguay",
          "Venezuela"
         ],
         "type": "scatter",
         "uid": "71db81d5-3a7d-4b1e-a34a-e0b5c6341d46",
         "x": {
          "dtype": "float64",
          "shape": [
           25
          ]
         },
         "y": {
          "dtype": "float64",
          "shape": [
           25
          ]
         }
        },
        {
         "marker": {
          "size": [
           12881816,
           377967,
           93074406,
           7272485,
           1000281000,
           5264500,
           708000000,
           153343000,
           43072751,
           14173318,
           3858421,
           118454974,
           2347031,
           17647518,
           39326000,
           1497494,
           3086876,
           14441916,
           1756032,
           34680442,
           15796314,
           1301048,
           91462088,
           53456774,
           11254672,
           2651869,
           15410151,
           9410494,
           18501390,
           48827160,
           56142181,
           1425876,
           9657618
          ],
          "sizemode": "area",
          "sizeref": 200000
         },
         "mode": "markers",
         "name": "Asia",
         "text": [
          "Afghanistan",
          "Bahrain",
          "Bangladesh",
          "Cambodia",
          "China",
          "Hong Kong, China",
          "India",
          "Indonesia",
          "Iran",
          "Iraq",
          "Israel",
          "Japan",
          "Jordan",
          "Korea, Dem. Rep.",
          "Korea, Rep.",
          "Kuwait",
          "Lebanon",
          "Malaysia",
          "Mongolia",
          "Myanmar",
          "Nepal",
          "Oman",
          "Pakistan",
          "Philippines",
          "Saudi Arabia",
          "Singapore",
          "Sri Lanka",
          "Syria",
          "Taiwan",
          "Thailand",
          "Vietnam",
          "West Bank and Gaza",
          "Yemen, Rep."
         ],
         "type": "scatter",
         "uid": "5bca85ae-0d78-4d32-86c4-eaffc02d3687",
         "x": {
          "dtype": "float64",
          "shape": [
           33
          ]
         },
         "y": {
          "dtype": "float64",
          "shape": [
           33
          ]
         }
        },
        {
         "marker": {
          "size": [
           2780097,
           7574613,
           9856303,
           4172693,
           8892098,
           4413368,
           10303704,
           5117810,
           4826933,
           54433565,
           78335266,
           9786480,
           10705535,
           233997,
           3480000,
           56535636,
           562548,
           14310401,
           4114787,
           36227381,
           9859650,
           22356726,
           9032824,
           5048043,
           1861252,
           37983310,
           8325260,
           6468126,
           47328791,
           56339704
          ],
          "sizemode": "area",
          "sizeref": 200000
         },
         "mode": "markers",
         "name": "Europe",
         "text": [
          "Albania",
          "Austria",
          "Belgium",
          "Bosnia and Herzegovina",
          "Bulgaria",
          "Croatia",
          "Czech Republic",
          "Denmark",
          "Finland",
          "France",
          "Germany",
          "Greece",
          "Hungary",
          "Iceland",
          "Ireland",
          "Italy",
          "Montenegro",
          "Netherlands",
          "Norway",
          "Poland",
          "Portugal",
          "Romania",
          "Serbia",
          "Slovak Republic",
          "Slovenia",
          "Spain",
          "Sweden",
          "Switzerland",
          "Turkey",
          "United Kingdom"
         ],
         "type": "scatter",
         "uid": "4a70adc1-8103-48da-a5f8-9b6ada7c1d67",
         "x": {
          "dtype": "float64",
          "shape": [
           30
          ]
         },
         "y": {
          "dtype": "float64",
          "shape": [
           30
          ]
         }
        },
        {
         "marker": {
          "size": [
           15184200,
           3210650
          ],
          "sizemode": "area",
          "sizeref": 200000
         },
         "mode": "markers",
         "name": "Oceania",
         "text": [
          "Australia",
          "New Zealand"
         ],
         "type": "scatter",
         "uid": "2fb629de-a3c4-4d52-bcd2-873114e76a29",
         "x": {
          "dtype": "float64",
          "shape": [
           2
          ]
         },
         "y": {
          "dtype": "float64",
          "shape": [
           2
          ]
         }
        }
       ],
       "_js2py_pointsCallback": {},
       "_js2py_relayout": {},
       "_js2py_restyle": {},
       "_js2py_update": {},
       "_last_layout_edit_id": 1,
       "_layout": {
        "height": 700,
        "template": {
         "data": {
          "bar": [
           {
            "marker": {
             "autocolorscale": false,
             "colorbar": {
              "outlinewidth": 0,
              "ticks": ""
             },
             "colorscale": [
              [
               0,
               "#0508b8"
              ],
              [
               0.0893854748603352,
               "#1910d8"
              ],
              [
               0.1787709497206704,
               "#3c19f0"
              ],
              [
               0.2681564245810056,
               "#6b1cfb"
              ],
              [
               0.3575418994413408,
               "#981cfd"
              ],
              [
               0.44692737430167595,
               "#bf1cfd"
              ],
              [
               0.5363128491620112,
               "#dd2bfd"
              ],
              [
               0.6256983240223464,
               "#f246fe"
              ],
              [
               0.7150837988826816,
               "#fc67fd"
              ],
              [
               0.8044692737430168,
               "#fe88fc"
              ],
              [
               0.8938547486033519,
               "#fea5fd"
              ],
              [
               0.9832402234636871,
               "#febefe"
              ],
              [
               1,
               "#fec3fe"
              ]
             ],
             "line": {
              "autocolorscale": false,
              "colorscale": [
               [
                0,
                "#0508b8"
               ],
               [
                0.0893854748603352,
                "#1910d8"
               ],
               [
                0.1787709497206704,
                "#3c19f0"
               ],
               [
                0.2681564245810056,
                "#6b1cfb"
               ],
               [
                0.3575418994413408,
                "#981cfd"
               ],
               [
                0.44692737430167595,
                "#bf1cfd"
               ],
               [
                0.5363128491620112,
                "#dd2bfd"
               ],
               [
                0.6256983240223464,
                "#f246fe"
               ],
               [
                0.7150837988826816,
                "#fc67fd"
               ],
               [
                0.8044692737430168,
                "#fe88fc"
               ],
               [
                0.8938547486033519,
                "#fea5fd"
               ],
               [
                0.9832402234636871,
                "#febefe"
               ],
               [
                1,
                "#fec3fe"
               ]
              ]
             }
            },
            "type": "bar"
           }
          ],
          "carpet": [
           {
            "aaxis": {
             "endlinecolor": "#2a3f5f",
             "gridcolor": "white",
             "linecolor": "white",
             "minorgridcolor": "white",
             "startlinecolor": "#2a3f5f"
            },
            "baxis": {
             "endlinecolor": "#2a3f5f",
             "gridcolor": "white",
             "linecolor": "white",
             "minorgridcolor": "white",
             "startlinecolor": "#2a3f5f"
            },
            "type": "carpet"
           }
          ],
          "choropleth": [
           {
            "autocolorscale": false,
            "colorbar": {
             "outlinewidth": 0,
             "ticks": ""
            },
            "colorscale": [
             [
              0,
              "#0508b8"
             ],
             [
              0.0893854748603352,
              "#1910d8"
             ],
             [
              0.1787709497206704,
              "#3c19f0"
             ],
             [
              0.2681564245810056,
              "#6b1cfb"
             ],
             [
              0.3575418994413408,
              "#981cfd"
             ],
             [
              0.44692737430167595,
              "#bf1cfd"
             ],
             [
              0.5363128491620112,
              "#dd2bfd"
             ],
             [
              0.6256983240223464,
              "#f246fe"
             ],
             [
              0.7150837988826816,
              "#fc67fd"
             ],
             [
              0.8044692737430168,
              "#fe88fc"
             ],
             [
              0.8938547486033519,
              "#fea5fd"
             ],
             [
              0.9832402234636871,
              "#febefe"
             ],
             [
              1,
              "#fec3fe"
             ]
            ],
            "type": "choropleth"
           }
          ],
          "contour": [
           {
            "autocolorscale": false,
            "colorbar": {
             "outlinewidth": 0,
             "ticks": ""
            },
            "colorscale": [
             [
              0,
              "#0508b8"
             ],
             [
              0.0893854748603352,
              "#1910d8"
             ],
             [
              0.1787709497206704,
              "#3c19f0"
             ],
             [
              0.2681564245810056,
              "#6b1cfb"
             ],
             [
              0.3575418994413408,
              "#981cfd"
             ],
             [
              0.44692737430167595,
              "#bf1cfd"
             ],
             [
              0.5363128491620112,
              "#dd2bfd"
             ],
             [
              0.6256983240223464,
              "#f246fe"
             ],
             [
              0.7150837988826816,
              "#fc67fd"
             ],
             [
              0.8044692737430168,
              "#fe88fc"
             ],
             [
              0.8938547486033519,
              "#fea5fd"
             ],
             [
              0.9832402234636871,
              "#febefe"
             ],
             [
              1,
              "#fec3fe"
             ]
            ],
            "type": "contour"
           }
          ],
          "contourcarpet": [
           {
            "autocolorscale": false,
            "colorbar": {
             "outlinewidth": 0,
             "ticks": ""
            },
            "colorscale": [
             [
              0,
              "#0508b8"
             ],
             [
              0.0893854748603352,
              "#1910d8"
             ],
             [
              0.1787709497206704,
              "#3c19f0"
             ],
             [
              0.2681564245810056,
              "#6b1cfb"
             ],
             [
              0.3575418994413408,
              "#981cfd"
             ],
             [
              0.44692737430167595,
              "#bf1cfd"
             ],
             [
              0.5363128491620112,
              "#dd2bfd"
             ],
             [
              0.6256983240223464,
              "#f246fe"
             ],
             [
              0.7150837988826816,
              "#fc67fd"
             ],
             [
              0.8044692737430168,
              "#fe88fc"
             ],
             [
              0.8938547486033519,
              "#fea5fd"
             ],
             [
              0.9832402234636871,
              "#febefe"
             ],
             [
              1,
              "#fec3fe"
             ]
            ],
            "type": "contourcarpet"
           }
          ],
          "heatmap": [
           {
            "autocolorscale": false,
            "colorbar": {
             "outlinewidth": 0,
             "ticks": ""
            },
            "colorscale": [
             [
              0,
              "#0508b8"
             ],
             [
              0.0893854748603352,
              "#1910d8"
             ],
             [
              0.1787709497206704,
              "#3c19f0"
             ],
             [
              0.2681564245810056,
              "#6b1cfb"
             ],
             [
              0.3575418994413408,
              "#981cfd"
             ],
             [
              0.44692737430167595,
              "#bf1cfd"
             ],
             [
              0.5363128491620112,
              "#dd2bfd"
             ],
             [
              0.6256983240223464,
              "#f246fe"
             ],
             [
              0.7150837988826816,
              "#fc67fd"
             ],
             [
              0.8044692737430168,
              "#fe88fc"
             ],
             [
              0.8938547486033519,
              "#fea5fd"
             ],
             [
              0.9832402234636871,
              "#febefe"
             ],
             [
              1,
              "#fec3fe"
             ]
            ],
            "type": "heatmap"
           }
          ],
          "heatmapgl": [
           {
            "autocolorscale": false,
            "colorbar": {
             "outlinewidth": 0,
             "ticks": ""
            },
            "colorscale": [
             [
              0,
              "#0508b8"
             ],
             [
              0.0893854748603352,
              "#1910d8"
             ],
             [
              0.1787709497206704,
              "#3c19f0"
             ],
             [
              0.2681564245810056,
              "#6b1cfb"
             ],
             [
              0.3575418994413408,
              "#981cfd"
             ],
             [
              0.44692737430167595,
              "#bf1cfd"
             ],
             [
              0.5363128491620112,
              "#dd2bfd"
             ],
             [
              0.6256983240223464,
              "#f246fe"
             ],
             [
              0.7150837988826816,
              "#fc67fd"
             ],
             [
              0.8044692737430168,
              "#fe88fc"
             ],
             [
              0.8938547486033519,
              "#fea5fd"
             ],
             [
              0.9832402234636871,
              "#febefe"
             ],
             [
              1,
              "#fec3fe"
             ]
            ],
            "type": "heatmapgl"
           }
          ],
          "histogram": [
           {
            "marker": {
             "autocolorscale": false,
             "colorbar": {
              "outlinewidth": 0,
              "ticks": ""
             },
             "colorscale": [
              [
               0,
               "#0508b8"
              ],
              [
               0.0893854748603352,
               "#1910d8"
              ],
              [
               0.1787709497206704,
               "#3c19f0"
              ],
              [
               0.2681564245810056,
               "#6b1cfb"
              ],
              [
               0.3575418994413408,
               "#981cfd"
              ],
              [
               0.44692737430167595,
               "#bf1cfd"
              ],
              [
               0.5363128491620112,
               "#dd2bfd"
              ],
              [
               0.6256983240223464,
               "#f246fe"
              ],
              [
               0.7150837988826816,
               "#fc67fd"
              ],
              [
               0.8044692737430168,
               "#fe88fc"
              ],
              [
               0.8938547486033519,
               "#fea5fd"
              ],
              [
               0.9832402234636871,
               "#febefe"
              ],
              [
               1,
               "#fec3fe"
              ]
             ]
            },
            "type": "histogram"
           }
          ],
          "histogram2d": [
           {
            "autocolorscale": false,
            "colorbar": {
             "outlinewidth": 0,
             "ticks": ""
            },
            "colorscale": [
             [
              0,
              "#0508b8"
             ],
             [
              0.0893854748603352,
              "#1910d8"
             ],
             [
              0.1787709497206704,
              "#3c19f0"
             ],
             [
              0.2681564245810056,
              "#6b1cfb"
             ],
             [
              0.3575418994413408,
              "#981cfd"
             ],
             [
              0.44692737430167595,
              "#bf1cfd"
             ],
             [
              0.5363128491620112,
              "#dd2bfd"
             ],
             [
              0.6256983240223464,
              "#f246fe"
             ],
             [
              0.7150837988826816,
              "#fc67fd"
             ],
             [
              0.8044692737430168,
              "#fe88fc"
             ],
             [
              0.8938547486033519,
              "#fea5fd"
             ],
             [
              0.9832402234636871,
              "#febefe"
             ],
             [
              1,
              "#fec3fe"
             ]
            ],
            "type": "histogram2d"
           }
          ],
          "histogram2dcontour": [
           {
            "autocolorscale": false,
            "colorbar": {
             "outlinewidth": 0,
             "ticks": ""
            },
            "colorscale": [
             [
              0,
              "#0508b8"
             ],
             [
              0.0893854748603352,
              "#1910d8"
             ],
             [
              0.1787709497206704,
              "#3c19f0"
             ],
             [
              0.2681564245810056,
              "#6b1cfb"
             ],
             [
              0.3575418994413408,
              "#981cfd"
             ],
             [
              0.44692737430167595,
              "#bf1cfd"
             ],
             [
              0.5363128491620112,
              "#dd2bfd"
             ],
             [
              0.6256983240223464,
              "#f246fe"
             ],
             [
              0.7150837988826816,
              "#fc67fd"
             ],
             [
              0.8044692737430168,
              "#fe88fc"
             ],
             [
              0.8938547486033519,
              "#fea5fd"
             ],
             [
              0.9832402234636871,
              "#febefe"
             ],
             [
              1,
              "#fec3fe"
             ]
            ],
            "type": "histogram2dcontour"
           }
          ],
          "mesh3d": [
           {
            "autocolorscale": false,
            "colorbar": {
             "outlinewidth": 0,
             "ticks": ""
            },
            "colorscale": [
             [
              0,
              "#0508b8"
             ],
             [
              0.0893854748603352,
              "#1910d8"
             ],
             [
              0.1787709497206704,
              "#3c19f0"
             ],
             [
              0.2681564245810056,
              "#6b1cfb"
             ],
             [
              0.3575418994413408,
              "#981cfd"
             ],
             [
              0.44692737430167595,
              "#bf1cfd"
             ],
             [
              0.5363128491620112,
              "#dd2bfd"
             ],
             [
              0.6256983240223464,
              "#f246fe"
             ],
             [
              0.7150837988826816,
              "#fc67fd"
             ],
             [
              0.8044692737430168,
              "#fe88fc"
             ],
             [
              0.8938547486033519,
              "#fea5fd"
             ],
             [
              0.9832402234636871,
              "#febefe"
             ],
             [
              1,
              "#fec3fe"
             ]
            ],
            "type": "mesh3d"
           }
          ],
          "parcoords": [
           {
            "line": {
             "autocolorscale": false,
             "colorbar": {
              "outlinewidth": 0,
              "ticks": ""
             },
             "colorscale": [
              [
               0,
               "#0508b8"
              ],
              [
               0.0893854748603352,
               "#1910d8"
              ],
              [
               0.1787709497206704,
               "#3c19f0"
              ],
              [
               0.2681564245810056,
               "#6b1cfb"
              ],
              [
               0.3575418994413408,
               "#981cfd"
              ],
              [
               0.44692737430167595,
               "#bf1cfd"
              ],
              [
               0.5363128491620112,
               "#dd2bfd"
              ],
              [
               0.6256983240223464,
               "#f246fe"
              ],
              [
               0.7150837988826816,
               "#fc67fd"
              ],
              [
               0.8044692737430168,
               "#fe88fc"
              ],
              [
               0.8938547486033519,
               "#fea5fd"
              ],
              [
               0.9832402234636871,
               "#febefe"
              ],
              [
               1,
               "#fec3fe"
              ]
             ]
            },
            "type": "parcoords"
           }
          ],
          "scatter": [
           {
            "marker": {
             "autocolorscale": false,
             "colorbar": {
              "outlinewidth": 0,
              "ticks": ""
             },
             "colorscale": [
              [
               0,
               "#0508b8"
              ],
              [
               0.0893854748603352,
               "#1910d8"
              ],
              [
               0.1787709497206704,
               "#3c19f0"
              ],
              [
               0.2681564245810056,
               "#6b1cfb"
              ],
              [
               0.3575418994413408,
               "#981cfd"
              ],
              [
               0.44692737430167595,
               "#bf1cfd"
              ],
              [
               0.5363128491620112,
               "#dd2bfd"
              ],
              [
               0.6256983240223464,
               "#f246fe"
              ],
              [
               0.7150837988826816,
               "#fc67fd"
              ],
              [
               0.8044692737430168,
               "#fe88fc"
              ],
              [
               0.8938547486033519,
               "#fea5fd"
              ],
              [
               0.9832402234636871,
               "#febefe"
              ],
              [
               1,
               "#fec3fe"
              ]
             ],
             "line": {
              "autocolorscale": false,
              "colorscale": [
               [
                0,
                "#0508b8"
               ],
               [
                0.0893854748603352,
                "#1910d8"
               ],
               [
                0.1787709497206704,
                "#3c19f0"
               ],
               [
                0.2681564245810056,
                "#6b1cfb"
               ],
               [
                0.3575418994413408,
                "#981cfd"
               ],
               [
                0.44692737430167595,
                "#bf1cfd"
               ],
               [
                0.5363128491620112,
                "#dd2bfd"
               ],
               [
                0.6256983240223464,
                "#f246fe"
               ],
               [
                0.7150837988826816,
                "#fc67fd"
               ],
               [
                0.8044692737430168,
                "#fe88fc"
               ],
               [
                0.8938547486033519,
                "#fea5fd"
               ],
               [
                0.9832402234636871,
                "#febefe"
               ],
               [
                1,
                "#fec3fe"
               ]
              ]
             }
            },
            "type": "scatter"
           }
          ],
          "scatter3d": [
           {
            "line": {
             "autocolorscale": false,
             "colorscale": [
              [
               0,
               "#0508b8"
              ],
              [
               0.0893854748603352,
               "#1910d8"
              ],
              [
               0.1787709497206704,
               "#3c19f0"
              ],
              [
               0.2681564245810056,
               "#6b1cfb"
              ],
              [
               0.3575418994413408,
               "#981cfd"
              ],
              [
               0.44692737430167595,
               "#bf1cfd"
              ],
              [
               0.5363128491620112,
               "#dd2bfd"
              ],
              [
               0.6256983240223464,
               "#f246fe"
              ],
              [
               0.7150837988826816,
               "#fc67fd"
              ],
              [
               0.8044692737430168,
               "#fe88fc"
              ],
              [
               0.8938547486033519,
               "#fea5fd"
              ],
              [
               0.9832402234636871,
               "#febefe"
              ],
              [
               1,
               "#fec3fe"
              ]
             ]
            },
            "marker": {
             "autocolorscale": false,
             "colorbar": {
              "outlinewidth": 0,
              "ticks": ""
             },
             "colorscale": [
              [
               0,
               "#0508b8"
              ],
              [
               0.0893854748603352,
               "#1910d8"
              ],
              [
               0.1787709497206704,
               "#3c19f0"
              ],
              [
               0.2681564245810056,
               "#6b1cfb"
              ],
              [
               0.3575418994413408,
               "#981cfd"
              ],
              [
               0.44692737430167595,
               "#bf1cfd"
              ],
              [
               0.5363128491620112,
               "#dd2bfd"
              ],
              [
               0.6256983240223464,
               "#f246fe"
              ],
              [
               0.7150837988826816,
               "#fc67fd"
              ],
              [
               0.8044692737430168,
               "#fe88fc"
              ],
              [
               0.8938547486033519,
               "#fea5fd"
              ],
              [
               0.9832402234636871,
               "#febefe"
              ],
              [
               1,
               "#fec3fe"
              ]
             ]
            },
            "type": "scatter3d"
           }
          ],
          "scattercarpet": [
           {
            "marker": {
             "autocolorscale": false,
             "colorbar": {
              "outlinewidth": 0,
              "ticks": ""
             },
             "colorscale": [
              [
               0,
               "#0508b8"
              ],
              [
               0.0893854748603352,
               "#1910d8"
              ],
              [
               0.1787709497206704,
               "#3c19f0"
              ],
              [
               0.2681564245810056,
               "#6b1cfb"
              ],
              [
               0.3575418994413408,
               "#981cfd"
              ],
              [
               0.44692737430167595,
               "#bf1cfd"
              ],
              [
               0.5363128491620112,
               "#dd2bfd"
              ],
              [
               0.6256983240223464,
               "#f246fe"
              ],
              [
               0.7150837988826816,
               "#fc67fd"
              ],
              [
               0.8044692737430168,
               "#fe88fc"
              ],
              [
               0.8938547486033519,
               "#fea5fd"
              ],
              [
               0.9832402234636871,
               "#febefe"
              ],
              [
               1,
               "#fec3fe"
              ]
             ]
            },
            "type": "scattercarpet"
           }
          ],
          "scattergeo": [
           {
            "marker": {
             "autocolorscale": false,
             "colorbar": {
              "outlinewidth": 0,
              "ticks": ""
             },
             "colorscale": [
              [
               0,
               "#0508b8"
              ],
              [
               0.0893854748603352,
               "#1910d8"
              ],
              [
               0.1787709497206704,
               "#3c19f0"
              ],
              [
               0.2681564245810056,
               "#6b1cfb"
              ],
              [
               0.3575418994413408,
               "#981cfd"
              ],
              [
               0.44692737430167595,
               "#bf1cfd"
              ],
              [
               0.5363128491620112,
               "#dd2bfd"
              ],
              [
               0.6256983240223464,
               "#f246fe"
              ],
              [
               0.7150837988826816,
               "#fc67fd"
              ],
              [
               0.8044692737430168,
               "#fe88fc"
              ],
              [
               0.8938547486033519,
               "#fea5fd"
              ],
              [
               0.9832402234636871,
               "#febefe"
              ],
              [
               1,
               "#fec3fe"
              ]
             ]
            },
            "type": "scattergeo"
           }
          ],
          "scattergl": [
           {
            "marker": {
             "autocolorscale": false,
             "colorbar": {
              "outlinewidth": 0,
              "ticks": ""
             },
             "colorscale": [
              [
               0,
               "#0508b8"
              ],
              [
               0.0893854748603352,
               "#1910d8"
              ],
              [
               0.1787709497206704,
               "#3c19f0"
              ],
              [
               0.2681564245810056,
               "#6b1cfb"
              ],
              [
               0.3575418994413408,
               "#981cfd"
              ],
              [
               0.44692737430167595,
               "#bf1cfd"
              ],
              [
               0.5363128491620112,
               "#dd2bfd"
              ],
              [
               0.6256983240223464,
               "#f246fe"
              ],
              [
               0.7150837988826816,
               "#fc67fd"
              ],
              [
               0.8044692737430168,
               "#fe88fc"
              ],
              [
               0.8938547486033519,
               "#fea5fd"
              ],
              [
               0.9832402234636871,
               "#febefe"
              ],
              [
               1,
               "#fec3fe"
              ]
             ]
            },
            "type": "scattergl"
           }
          ],
          "scattermapbox": [
           {
            "marker": {
             "autocolorscale": false,
             "colorbar": {
              "outlinewidth": 0,
              "ticks": ""
             },
             "colorscale": [
              [
               0,
               "#0508b8"
              ],
              [
               0.0893854748603352,
               "#1910d8"
              ],
              [
               0.1787709497206704,
               "#3c19f0"
              ],
              [
               0.2681564245810056,
               "#6b1cfb"
              ],
              [
               0.3575418994413408,
               "#981cfd"
              ],
              [
               0.44692737430167595,
               "#bf1cfd"
              ],
              [
               0.5363128491620112,
               "#dd2bfd"
              ],
              [
               0.6256983240223464,
               "#f246fe"
              ],
              [
               0.7150837988826816,
               "#fc67fd"
              ],
              [
               0.8044692737430168,
               "#fe88fc"
              ],
              [
               0.8938547486033519,
               "#fea5fd"
              ],
              [
               0.9832402234636871,
               "#febefe"
              ],
              [
               1,
               "#fec3fe"
              ]
             ]
            },
            "type": "scattermapbox"
           }
          ],
          "scatterpolar": [
           {
            "marker": {
             "autocolorscale": false,
             "colorbar": {
              "outlinewidth": 0,
              "ticks": ""
             },
             "colorscale": [
              [
               0,
               "#0508b8"
              ],
              [
               0.0893854748603352,
               "#1910d8"
              ],
              [
               0.1787709497206704,
               "#3c19f0"
              ],
              [
               0.2681564245810056,
               "#6b1cfb"
              ],
              [
               0.3575418994413408,
               "#981cfd"
              ],
              [
               0.44692737430167595,
               "#bf1cfd"
              ],
              [
               0.5363128491620112,
               "#dd2bfd"
              ],
              [
               0.6256983240223464,
               "#f246fe"
              ],
              [
               0.7150837988826816,
               "#fc67fd"
              ],
              [
               0.8044692737430168,
               "#fe88fc"
              ],
              [
               0.8938547486033519,
               "#fea5fd"
              ],
              [
               0.9832402234636871,
               "#febefe"
              ],
              [
               1,
               "#fec3fe"
              ]
             ]
            },
            "type": "scatterpolar"
           }
          ],
          "scatterpolargl": [
           {
            "marker": {
             "autocolorscale": false,
             "colorbar": {
              "outlinewidth": 0,
              "ticks": ""
             },
             "colorscale": [
              [
               0,
               "#0508b8"
              ],
              [
               0.0893854748603352,
               "#1910d8"
              ],
              [
               0.1787709497206704,
               "#3c19f0"
              ],
              [
               0.2681564245810056,
               "#6b1cfb"
              ],
              [
               0.3575418994413408,
               "#981cfd"
              ],
              [
               0.44692737430167595,
               "#bf1cfd"
              ],
              [
               0.5363128491620112,
               "#dd2bfd"
              ],
              [
               0.6256983240223464,
               "#f246fe"
              ],
              [
               0.7150837988826816,
               "#fc67fd"
              ],
              [
               0.8044692737430168,
               "#fe88fc"
              ],
              [
               0.8938547486033519,
               "#fea5fd"
              ],
              [
               0.9832402234636871,
               "#febefe"
              ],
              [
               1,
               "#fec3fe"
              ]
             ],
             "line": {
              "autocolorscale": false,
              "colorscale": [
               [
                0,
                "#0508b8"
               ],
               [
                0.0893854748603352,
                "#1910d8"
               ],
               [
                0.1787709497206704,
                "#3c19f0"
               ],
               [
                0.2681564245810056,
                "#6b1cfb"
               ],
               [
                0.3575418994413408,
                "#981cfd"
               ],
               [
                0.44692737430167595,
                "#bf1cfd"
               ],
               [
                0.5363128491620112,
                "#dd2bfd"
               ],
               [
                0.6256983240223464,
                "#f246fe"
               ],
               [
                0.7150837988826816,
                "#fc67fd"
               ],
               [
                0.8044692737430168,
                "#fe88fc"
               ],
               [
                0.8938547486033519,
                "#fea5fd"
               ],
               [
                0.9832402234636871,
                "#febefe"
               ],
               [
                1,
                "#fec3fe"
               ]
              ]
             }
            },
            "type": "scatterpolargl"
           }
          ],
          "scatterternary": [
           {
            "marker": {
             "autocolorscale": false,
             "colorbar": {
              "outlinewidth": 0,
              "ticks": ""
             },
             "colorscale": [
              [
               0,
               "#0508b8"
              ],
              [
               0.0893854748603352,
               "#1910d8"
              ],
              [
               0.1787709497206704,
               "#3c19f0"
              ],
              [
               0.2681564245810056,
               "#6b1cfb"
              ],
              [
               0.3575418994413408,
               "#981cfd"
              ],
              [
               0.44692737430167595,
               "#bf1cfd"
              ],
              [
               0.5363128491620112,
               "#dd2bfd"
              ],
              [
               0.6256983240223464,
               "#f246fe"
              ],
              [
               0.7150837988826816,
               "#fc67fd"
              ],
              [
               0.8044692737430168,
               "#fe88fc"
              ],
              [
               0.8938547486033519,
               "#fea5fd"
              ],
              [
               0.9832402234636871,
               "#febefe"
              ],
              [
               1,
               "#fec3fe"
              ]
             ]
            },
            "type": "scatterternary"
           }
          ],
          "surface": [
           {
            "autocolorscale": false,
            "colorbar": {
             "outlinewidth": 0,
             "ticks": ""
            },
            "colorscale": [
             [
              0,
              "#0508b8"
             ],
             [
              0.0893854748603352,
              "#1910d8"
             ],
             [
              0.1787709497206704,
              "#3c19f0"
             ],
             [
              0.2681564245810056,
              "#6b1cfb"
             ],
             [
              0.3575418994413408,
              "#981cfd"
             ],
             [
              0.44692737430167595,
              "#bf1cfd"
             ],
             [
              0.5363128491620112,
              "#dd2bfd"
             ],
             [
              0.6256983240223464,
              "#f246fe"
             ],
             [
              0.7150837988826816,
              "#fc67fd"
             ],
             [
              0.8044692737430168,
              "#fe88fc"
             ],
             [
              0.8938547486033519,
              "#fea5fd"
             ],
             [
              0.9832402234636871,
              "#febefe"
             ],
             [
              1,
              "#fec3fe"
             ]
            ],
            "type": "surface"
           }
          ],
          "table": [
           {
            "cells": {
             "fill": {
              "color": "#EBF0F8"
             },
             "line": {
              "color": "white"
             }
            },
            "header": {
             "fill": {
              "color": "#C8D4E3"
             },
             "line": {
              "color": "white"
             }
            },
            "type": "table"
           }
          ]
         },
         "layout": {
          "annotationdefaults": {
           "arrowcolor": "#506784",
           "arrowhead": 0,
           "arrowwidth": 1
          },
          "colorway": [
           "#636efa",
           "#EF553B",
           "#00cc96",
           "#ab63fa",
           "#19d3f3",
           "#e763fa"
          ],
          "font": {
           "color": "#2a3f5f"
          },
          "geo": {
           "bgcolor": "white",
           "lakecolor": "white",
           "landcolor": "#E5ECF6",
           "showlakes": true,
           "showland": true,
           "subunitcolor": "white"
          },
          "paper_bgcolor": "white",
          "plot_bgcolor": "#E5ECF6",
          "polar": {
           "angularaxis": {
            "gridcolor": "white",
            "linecolor": "white",
            "ticks": ""
           },
           "bgcolor": "#E5ECF6",
           "radialaxis": {
            "gridcolor": "white",
            "linecolor": "white",
            "ticks": ""
           }
          },
          "scene": {
           "xaxis": {
            "backgroundcolor": "#E5ECF6",
            "gridcolor": "white",
            "gridwidth": 2,
            "linecolor": "white",
            "showbackground": true,
            "ticks": "",
            "zerolinecolor": "white"
           },
           "yaxis": {
            "backgroundcolor": "#E5ECF6",
            "gridcolor": "white",
            "gridwidth": 2,
            "linecolor": "white",
            "showbackground": true,
            "ticks": "",
            "zerolinecolor": "white"
           },
           "zaxis": {
            "backgroundcolor": "#E5ECF6",
            "gridcolor": "white",
            "gridwidth": 2,
            "linecolor": "white",
            "showbackground": true,
            "ticks": "",
            "zerolinecolor": "white"
           }
          },
          "shapedefaults": {
           "fillcolor": "#506784",
           "line": {
            "width": 0
           },
           "opacity": 0.4
          },
          "ternary": {
           "aaxis": {
            "gridcolor": "white",
            "linecolor": "white",
            "ticks": ""
           },
           "baxis": {
            "gridcolor": "white",
            "linecolor": "white",
            "ticks": ""
           },
           "bgcolor": "#E5ECF6",
           "caxis": {
            "gridcolor": "white",
            "linecolor": "white",
            "ticks": ""
           }
          },
          "xaxis": {
           "gridcolor": "white",
           "linecolor": "white",
           "ticks": "",
           "zerolinecolor": "white",
           "zerolinewidth": 2
          },
          "yaxis": {
           "gridcolor": "white",
           "linecolor": "white",
           "ticks": "",
           "zerolinecolor": "white",
           "zerolinewidth": 2
          }
         }
        },
        "title": "Life Expectancy and GDP per capita (1982)",
        "width": 900,
        "xaxis": {
         "title": "Life Expectancy"
        },
        "yaxis": {
         "title": "GDP per capita",
         "type": "log"
        }
       },
       "_py2js_addTraces": {},
       "_py2js_animate": {},
       "_py2js_deleteTraces": {},
       "_py2js_moveTraces": {},
       "_py2js_removeLayoutProps": {},
       "_py2js_removeTraceProps": {},
       "_py2js_restyle": {},
       "_py2js_update": {},
       "_view_count": 1
      }
     },
     "22cade4d39d24a33a0c375d835866d98": {
      "buffers": [
       {
        "data": "yXa+nxqvTkB/arx0k/hDQMDKoUW2c0lAyqFFtvO9TkBWDi2ynQ9IQEA1XrpJvEdAX7pJDAJ7SkD2KFyPwiVIQBgEVg4twkhAgZVDi2x3SkAxCKwcWuRHQClcj8L1WExA6Pup8dL9SkAOLbKd72dIQFTjpZvEAExA2/l+arzURUBSuB6F6/FFQGmR7Xw/dUZA1HjpJjFITEAK16NwPcpGQKwcWmQ730pANl66SQxyRUBg5dAi26lDQDZeukkMYk1ARIts5/uJS0CTGARWDm1GQKRwPQrXE09AeOkmMQh8SEAYBFYOLdJGQGmR7Xw/9UVA6SYxCKzMSkAv3SQGga1QQDMzMzMz001A9ihcj8JlRUCWQ4ts53tNQAaBlUOLTEVAfT81XrrpRkBxPQrXo3hRQJZDi2znG0dAsXJoke0sTkCNl24SgzBKQClcj8L1OENACtejcD16RUD4U+OlmxRNQCUGgZVDK0lALIcW2c7HS0Do+6nx0k1JQEA1XrpJvEtAUI2XbhIDUEDpJjEIrOxIQA0CK4cW6UlAWDm0yHYuTkA=",
        "encoding": "base64",
        "path": [
         "_data",
         0,
         "x",
         "value"
        ]
       },
       {
        "data": "ZRu4AylxtkA5RrJH6ImlQHcRpiiX95NAIEHxYyTHsUCun/6zljmJQHdHxmrTfIFAfgG9cPd/okCJ9fwfBuaNQNNTP8pD74hAi28ofGbMk0DbVg6I+w2FQAA49uyBD7NARGtFm2tVpECtUnqm736mQPiL2ZJ1X6tA8QNGTZr+jEDMHUe9AWeAQAQlYM/iDoJAj8cMVK6EzUDnIzoVeh6KQOguibNCYItAaq6JuwDKikA9gnbi/TCKQO2CwTXnEJVAr3IN2BrqiEBCcte3mOGBQH9v058R9dBAejnsvoNblECRsBRubsaDQGGMo80cUINA4Cwly5kkl0CRtYZSE9CsQME3TZ89HaVAMhaX9GHjfEDjwRa7GV+wQEay7O7GbYxA7FG4HuWjmEBIqYQnOJO0QJCQN6+QjItAzxYQWt+InUBq+uyA67mXQEj99QoL5JZAb59VZjpjkkCkVMITIrzAQIz2eCEtnp1AJ94BnsRurkBG6uLb8FGLQIBG6dJPApVAjyCVYnfQq0CMOoQ7IVKFQNdMvtm2ApZA48nJH9emiEA=",
        "encoding": "base64",
        "path": [
         "_data",
         0,
         "y",
         "value"
        ]
       },
       {
        "data": "PzVeukl8UUDKoUW28+1KQF+6SQwCq09AcT0K16PwUkBcj8L1KKRRQG8Sg8DKqVBAzczMzMxcUkDZzvdT421SQJMYBFYO3U9A2c73U+MVUEBaZDvfT01MQKjGSzeJEU1AX7pJDAK7SUAxCKwcWnROQD0K16NwzVFAUrgehevZUECgGi/dJKZNQJHtfD81nlFADi2yne+3UECIFtnO97NOQAAAAAAAcFJAaJHtfD81UUCamZmZmalSQOxRuB6Fs1FAz/dT46UjUUA=",
        "encoding": "base64",
        "path": [
         "_data",
         1,
         "x",
         "value"
        ]
       },
       {
        "data": "hXtl3vKSwUBb7PZZBamoQHLBGfzVdrtAd/hrsrJc1kC1Oc5tquezQKZiY16TLbFAtDukGLyOtEA6cw8J65S8QDfBN00vWqZAaF95kMotvEAaUdobWAKwQGO0jqp+1LJAbyTQYKNsn0D9icqGhWOoQKYKRiUNtLdA6Zyf4pLFwkDlgcgirRyrQFeXUwKaYbtAIhYx7ICisEA7qMR1gCK5QGuad5x+LcRAuOhkqcPPwUB5I/PIY2zYQFjO3hk5CLtA4QZ8fjTIxUA=",
        "encoding": "base64",
        "path": [
         "_data",
         1,
         "y",
         "value"
        ]
       },
       {
        "data": "WmQ730/tQ0AW2c73U0NRQP3UeOkmAUlA0SLb+X56SUCamZmZmWFQQM3MzMzM3FJAQDVeuklMTEAxCKwcWhRMQI/C9Shcz01Av58aL90ET0DNzMzMzJxSQNejcD0KR1NAO99PjZfeT0BmZmZmZkZRQB1aZDvfx1BAsp3vp8bTUUD0/dR46b5QQAAAAAAAAFFAO99PjZe+TEC7SQwCKwdNQHjpJjEIzEhAd76fGi9dT0BOYhBYORRMQNEi2/l+Ck9AqMZLN4mBT0BxPQrXo/BRQJzEILByMFFA9ihcj8IlUEAK16NwPQpSQJHtfD81JlBAnMQgsHJoTUBEi2zn+xlQQFg5tMh2jkhA",
        "encoding": "base64",
        "path": [
         "_data",
         2,
         "x",
         "value"
        ]
       },
       {
        "data": "P785bReQjkAY7IZtycLSQIoIWtzaJ4VAo4+ex82Dg0BgVb38XhOOQBluwOdDcMxAYzcizsm9ikA095DwfbOXQC0HeqhVuL1A8DMuHPRazECGWtO8gwPOQDfg88MG7tJAev1JfGpBsEDRH5p5hgqwQKgZUkXx9rVAX3tmSYKe3kCVCFT/hNi9QPrPmh9bOLNAxR9FnWlCn0AAAAAAAIB6QH32Ehn8coZAZ9DQP2VNyUAZO+EluI2WQJQT7SqMVqRAVOOlm6Vz4EBdhZSflKDNQFMmNbRRwJlAvAD76KxjrUB4B3jSWgK9QJCeIodwsqJAwnrt4+IZhkDKpIY2CPCwQC9W1GA65p5A",
        "encoding": "base64",
        "path": [
         "_data",
         2,
         "y",
         "value"
        ]
       },
       {
        "data": "exSuR+GaUUDsUbgehUtSQOxRuB6Fe1JAXI/C9SisUUCF61G4HsVRQD0K16NwnVFAPQrXo3C9UUC4HoXrUahSQDMzMzMzo1JAKVyPwvW4UkAzMzMzM3NSQI/C9Shcz1JAKVyPwvVYUUCPwvUoXD9TQGZmZmZmRlJAH4XrUbi+UkBYObTIdoZSQDMzMzMzA1NArkfhehT+UkAUrkfhetRRQOF6FK5HMVJACtejcD1qUUDtfD81XopRQDMzMzMzs1FAeekmMQjEUUAzMzMzMxNTQHsUrkfhGlNAPQrXo3ANU0D4U+Olm4ROQMP1KFyPglJA",
        "encoding": "base64",
        "path": [
         "_data",
         3,
         "x",
         "value"
        ]
       },
       {
        "data": "vHX+7cJdrEBSswdaRRfVQIHPDyP2fNRAUG7b95wesECwjuOHGBDAQEaZDTLp0slAwFsgQZ0IzkAJbTmXAi7VQOFASBZKGdJAXhH8b3nR00BSg2kY4oPVQJw4ud810s1Aumbyzf6AyEAUrkfhZrnWQE1/9iMppchA5/up8V4m0EA91SE3S+vFQEc4LXjd5dRANEbrqKiu2UAGZ/D3w4HAQLyReeTr9MZAG4LjMqjCwkAr9pfdi6bNQEOtad5FKsZAeekmMa5y0UCms5PBFTPLQGZmZmbYLtRALa2GxG2720AgQlw5W5GwQCDvVSsbztFA",
        "encoding": "base64",
        "path": [
         "_data",
         3,
         "y",
         "value"
        ]
       },
       {
        "data": "j8L1KFyvUkD2KFyPwnVSQA==",
        "encoding": "base64",
        "path": [
         "_data",
         4,
         "x",
         "value"
        ]
       },
       {
        "data": "ISQLmEAF00CSXP5DGjjRQA==",
        "encoding": "base64",
        "path": [
         "_data",
         4,
         "y",
         "value"
        ]
       }
      ],
      "model_module": "plotlywidget",
      "model_module_version": "^0.5.0-rc.1",
      "model_name": "FigureModel",
      "state": {
       "_data": [
        {
         "marker": {
          "size": [
           20033753,
           7016384,
           3641603,
           970347,
           6634596,
           4580410,
           9250831,
           2476971,
           4875118,
           348643,
           30646495,
           1774735,
           9025951,
           305991,
           45681811,
           285483,
           2637297,
           38111756,
           753874,
           715523,
           11400338,
           4710497,
           825987,
           17661452,
           1411807,
           1956875,
           3344074,
           9171477,
           6502825,
           6998256,
           1622136,
           992040,
           20198730,
           12587223,
           1099010,
           6437188,
           73039376,
           517810,
           5507565,
           98593,
           6147783,
           3464522,
           5828892,
           31140029,
           20367053,
           649901,
           19844382,
           2644765,
           6734098,
           12939400,
           6100407,
           7636524
          ],
          "sizemode": "area",
          "sizeref": 200000
         },
         "mode": "markers",
         "name": "Africa",
         "text": [
          "Algeria",
          "Angola",
          "Benin",
          "Botswana",
          "Burkina Faso",
          "Burundi",
          "Cameroon",
          "Central African Republic",
          "Chad",
          "Comoros",
          "Congo, Dem. Rep.",
          "Congo, Rep.",
          "Cote d'Ivoire",
          "Djibouti",
          "Egypt",
          "Equatorial Guinea",
          "Eritrea",
          "Ethiopia",
          "Gabon",
          "Gambia",
          "Ghana",
          "Guinea",
          "Guinea-Bissau",
          "Kenya",
          "Lesotho",
          "Liberia",
          "Libya",
          "Madagascar",
          "Malawi",
          "Mali",
          "Mauritania",
          "Mauritius",
          "Morocco",
          "Mozambique",
          "Namibia",
          "Niger",
          "Nigeria",
          "Reunion",
          "Rwanda",
          "Sao Tome and Principe",
          "Senegal",
          "Sierra Leone",
          "Somalia",
          "South Africa",
          "Sudan",
          "Swaziland",
          "Tanzania",
          "Togo",
          "Tunisia",
          "Uganda",
          "Zambia",
          "Zimbabwe"
         ],
         "type": "scatter",
         "uid": "4485aeeb-ce47-45a6-afe9-ef31a6bcf3a2",
         "x": {
          "dtype": "float64",
          "shape": [
           52
          ]
         },
         "y": {
          "dtype": "float64",
          "shape": [
           52
          ]
         }
        },
        {
         "marker": {
          "size": [
           29341374,
           5642224,
           128962939,
           25201900,
           11487112,
           27764644,
           2424367,
           9789224,
           5968349,
           8365850,
           4474873,
           6395630,
           5198399,
           3669448,
           2298309,
           71640904,
           2979423,
           2036305,
           3366439,
           18125129,
           3279001,
           1116479,
           232187835,
           2953997,
           15620766
          ],
          "sizemode": "area",
          "sizeref": 200000
         },
         "mode": "markers",
         "name": "Americas",
         "text": [
          "Argentina",
          "Bolivia",
          "Brazil",
          "Canada",
          "Chile",
          "Colombia",
          "Costa Rica",
          "Cuba",
          "Dominican Republic",
          "Ecuador",
          "El Salvador",
          "Guatemala",
          "Haiti",
          "Honduras",
          "Jamaica",
          "Mexico",
          "Nicaragua",
          "Panama",
          "Paraguay",
          "Peru",
          "Puerto Rico",
          "Trinidad and Tobago",
          "United States",
          "Uruguay",
          "Venezuela"
         ],
         "type": "scatter",
         "uid": "a8b701eb-2745-4b43-a76c-422d16b08472",
         "x": {
          "dtype": "float64",
          "shape": [
           25
          ]
         },
         "y": {
          "dtype": "float64",
          "shape": [
           25
          ]
         }
        },
        {
         "marker": {
          "size": [
           12881816,
           377967,
           93074406,
           7272485,
           1000281000,
           5264500,
           708000000,
           153343000,
           43072751,
           14173318,
           3858421,
           118454974,
           2347031,
           17647518,
           39326000,
           1497494,
           3086876,
           14441916,
           1756032,
           34680442,
           15796314,
           1301048,
           91462088,
           53456774,
           11254672,
           2651869,
           15410151,
           9410494,
           18501390,
           48827160,
           56142181,
           1425876,
           9657618
          ],
          "sizemode": "area",
          "sizeref": 200000
         },
         "mode": "markers",
         "name": "Asia",
         "text": [
          "Afghanistan",
          "Bahrain",
          "Bangladesh",
          "Cambodia",
          "China",
          "Hong Kong, China",
          "India",
          "Indonesia",
          "Iran",
          "Iraq",
          "Israel",
          "Japan",
          "Jordan",
          "Korea, Dem. Rep.",
          "Korea, Rep.",
          "Kuwait",
          "Lebanon",
          "Malaysia",
          "Mongolia",
          "Myanmar",
          "Nepal",
          "Oman",
          "Pakistan",
          "Philippines",
          "Saudi Arabia",
          "Singapore",
          "Sri Lanka",
          "Syria",
          "Taiwan",
          "Thailand",
          "Vietnam",
          "West Bank and Gaza",
          "Yemen, Rep."
         ],
         "type": "scatter",
         "uid": "fa5875e4-23a7-4e5e-a431-3170c769cf5b",
         "x": {
          "dtype": "float64",
          "shape": [
           33
          ]
         },
         "y": {
          "dtype": "float64",
          "shape": [
           33
          ]
         }
        },
        {
         "marker": {
          "size": [
           2780097,
           7574613,
           9856303,
           4172693,
           8892098,
           4413368,
           10303704,
           5117810,
           4826933,
           54433565,
           78335266,
           9786480,
           10705535,
           233997,
           3480000,
           56535636,
           562548,
           14310401,
           4114787,
           36227381,
           9859650,
           22356726,
           9032824,
           5048043,
           1861252,
           37983310,
           8325260,
           6468126,
           47328791,
           56339704
          ],
          "sizemode": "area",
          "sizeref": 200000
         },
         "mode": "markers",
         "name": "Europe",
         "text": [
          "Albania",
          "Austria",
          "Belgium",
          "Bosnia and Herzegovina",
          "Bulgaria",
          "Croatia",
          "Czech Republic",
          "Denmark",
          "Finland",
          "France",
          "Germany",
          "Greece",
          "Hungary",
          "Iceland",
          "Ireland",
          "Italy",
          "Montenegro",
          "Netherlands",
          "Norway",
          "Poland",
          "Portugal",
          "Romania",
          "Serbia",
          "Slovak Republic",
          "Slovenia",
          "Spain",
          "Sweden",
          "Switzerland",
          "Turkey",
          "United Kingdom"
         ],
         "type": "scatter",
         "uid": "50a16e42-f1d4-48c5-8b7b-8df38485256c",
         "x": {
          "dtype": "float64",
          "shape": [
           30
          ]
         },
         "y": {
          "dtype": "float64",
          "shape": [
           30
          ]
         }
        },
        {
         "marker": {
          "size": [
           15184200,
           3210650
          ],
          "sizemode": "area",
          "sizeref": 200000
         },
         "mode": "markers",
         "name": "Oceania",
         "text": [
          "Australia",
          "New Zealand"
         ],
         "type": "scatter",
         "uid": "0f88627d-802d-41fb-bb33-b5dd66f129a9",
         "x": {
          "dtype": "float64",
          "shape": [
           2
          ]
         },
         "y": {
          "dtype": "float64",
          "shape": [
           2
          ]
         }
        }
       ],
       "_js2py_pointsCallback": {},
       "_js2py_relayout": {},
       "_js2py_restyle": {},
       "_js2py_update": {},
       "_last_layout_edit_id": 11,
       "_last_trace_edit_id": 5,
       "_layout": {
        "height": 700,
        "template": {},
        "title": "Life Expectancy and GDP per capita (1982)",
        "width": 900,
        "xaxis": {
         "title": "Life Expectancy"
        },
        "yaxis": {
         "title": "GDP per capita",
         "type": "log"
        }
       },
       "_py2js_animate": {},
       "_py2js_deleteTraces": {},
       "_py2js_moveTraces": {},
       "_py2js_removeLayoutProps": {},
       "_py2js_removeTraceProps": {},
       "_py2js_restyle": {},
       "_py2js_update": {},
       "_view_count": 1
      }
     },
     "8bc2ab88ef29487991b32ad570cfe12d": {
      "buffers": [
       {
        "data": "yXa+nxqvTkB/arx0k/hDQMDKoUW2c0lAyqFFtvO9TkBWDi2ynQ9IQEA1XrpJvEdAX7pJDAJ7SkD2KFyPwiVIQBgEVg4twkhAgZVDi2x3SkAxCKwcWuRHQClcj8L1WExA6Pup8dL9SkAOLbKd72dIQFTjpZvEAExA2/l+arzURUBSuB6F6/FFQGmR7Xw/dUZA1HjpJjFITEAK16NwPcpGQKwcWmQ730pANl66SQxyRUBg5dAi26lDQDZeukkMYk1ARIts5/uJS0CTGARWDm1GQKRwPQrXE09AeOkmMQh8SEAYBFYOLdJGQGmR7Xw/9UVA6SYxCKzMSkAv3SQGga1QQDMzMzMz001A9ihcj8JlRUCWQ4ts53tNQAaBlUOLTEVAfT81XrrpRkBxPQrXo3hRQJZDi2znG0dAsXJoke0sTkCNl24SgzBKQClcj8L1OENACtejcD16RUD4U+OlmxRNQCUGgZVDK0lALIcW2c7HS0Do+6nx0k1JQEA1XrpJvEtAUI2XbhIDUEDpJjEIrOxIQA0CK4cW6UlAWDm0yHYuTkA=",
        "encoding": "base64",
        "path": [
         "_data",
         0,
         "x",
         "value"
        ]
       },
       {
        "data": "ZRu4AylxtkA5RrJH6ImlQHcRpiiX95NAIEHxYyTHsUCun/6zljmJQHdHxmrTfIFAfgG9cPd/okCJ9fwfBuaNQNNTP8pD74hAi28ofGbMk0DbVg6I+w2FQAA49uyBD7NARGtFm2tVpECtUnqm736mQPiL2ZJ1X6tA8QNGTZr+jEDMHUe9AWeAQAQlYM/iDoJAj8cMVK6EzUDnIzoVeh6KQOguibNCYItAaq6JuwDKikA9gnbi/TCKQO2CwTXnEJVAr3IN2BrqiEBCcte3mOGBQH9v058R9dBAejnsvoNblECRsBRubsaDQGGMo80cUINA4Cwly5kkl0CRtYZSE9CsQME3TZ89HaVAMhaX9GHjfEDjwRa7GV+wQEay7O7GbYxA7FG4HuWjmEBIqYQnOJO0QJCQN6+QjItAzxYQWt+InUBq+uyA67mXQEj99QoL5JZAb59VZjpjkkCkVMITIrzAQIz2eCEtnp1AJ94BnsRurkBG6uLb8FGLQIBG6dJPApVAjyCVYnfQq0CMOoQ7IVKFQNdMvtm2ApZA48nJH9emiEA=",
        "encoding": "base64",
        "path": [
         "_data",
         0,
         "y",
         "value"
        ]
       },
       {
        "data": "PzVeukl8UUDKoUW28+1KQF+6SQwCq09AcT0K16PwUkBcj8L1KKRRQG8Sg8DKqVBAzczMzMxcUkDZzvdT421SQJMYBFYO3U9A2c73U+MVUEBaZDvfT01MQKjGSzeJEU1AX7pJDAK7SUAxCKwcWnROQD0K16NwzVFAUrgehevZUECgGi/dJKZNQJHtfD81nlFADi2yne+3UECIFtnO97NOQAAAAAAAcFJAaJHtfD81UUCamZmZmalSQOxRuB6Fs1FAz/dT46UjUUA=",
        "encoding": "base64",
        "path": [
         "_data",
         1,
         "x",
         "value"
        ]
       },
       {
        "data": "hXtl3vKSwUBb7PZZBamoQHLBGfzVdrtAd/hrsrJc1kC1Oc5tquezQKZiY16TLbFAtDukGLyOtEA6cw8J65S8QDfBN00vWqZAaF95kMotvEAaUdobWAKwQGO0jqp+1LJAbyTQYKNsn0D9icqGhWOoQKYKRiUNtLdA6Zyf4pLFwkDlgcgirRyrQFeXUwKaYbtAIhYx7ICisEA7qMR1gCK5QGuad5x+LcRAuOhkqcPPwUB5I/PIY2zYQFjO3hk5CLtA4QZ8fjTIxUA=",
        "encoding": "base64",
        "path": [
         "_data",
         1,
         "y",
         "value"
        ]
       },
       {
        "data": "WmQ730/tQ0AW2c73U0NRQP3UeOkmAUlA0SLb+X56SUCamZmZmWFQQM3MzMzM3FJAQDVeuklMTEAxCKwcWhRMQI/C9Shcz01Av58aL90ET0DNzMzMzJxSQNejcD0KR1NAO99PjZfeT0BmZmZmZkZRQB1aZDvfx1BAsp3vp8bTUUD0/dR46b5QQAAAAAAAAFFAO99PjZe+TEC7SQwCKwdNQHjpJjEIzEhAd76fGi9dT0BOYhBYORRMQNEi2/l+Ck9AqMZLN4mBT0BxPQrXo/BRQJzEILByMFFA9ihcj8IlUEAK16NwPQpSQJHtfD81JlBAnMQgsHJoTUBEi2zn+xlQQFg5tMh2jkhA",
        "encoding": "base64",
        "path": [
         "_data",
         2,
         "x",
         "value"
        ]
       },
       {
        "data": "P785bReQjkAY7IZtycLSQIoIWtzaJ4VAo4+ex82Dg0BgVb38XhOOQBluwOdDcMxAYzcizsm9ikA095DwfbOXQC0HeqhVuL1A8DMuHPRazECGWtO8gwPOQDfg88MG7tJAev1JfGpBsEDRH5p5hgqwQKgZUkXx9rVAX3tmSYKe3kCVCFT/hNi9QPrPmh9bOLNAxR9FnWlCn0AAAAAAAIB6QH32Ehn8coZAZ9DQP2VNyUAZO+EluI2WQJQT7SqMVqRAVOOlm6Vz4EBdhZSflKDNQFMmNbRRwJlAvAD76KxjrUB4B3jSWgK9QJCeIodwsqJAwnrt4+IZhkDKpIY2CPCwQC9W1GA65p5A",
        "encoding": "base64",
        "path": [
         "_data",
         2,
         "y",
         "value"
        ]
       },
       {
        "data": "exSuR+GaUUDsUbgehUtSQOxRuB6Fe1JAXI/C9SisUUCF61G4HsVRQD0K16NwnVFAPQrXo3C9UUC4HoXrUahSQDMzMzMzo1JAKVyPwvW4UkAzMzMzM3NSQI/C9Shcz1JAKVyPwvVYUUCPwvUoXD9TQGZmZmZmRlJAH4XrUbi+UkBYObTIdoZSQDMzMzMzA1NArkfhehT+UkAUrkfhetRRQOF6FK5HMVJACtejcD1qUUDtfD81XopRQDMzMzMzs1FAeekmMQjEUUAzMzMzMxNTQHsUrkfhGlNAPQrXo3ANU0D4U+Olm4ROQMP1KFyPglJA",
        "encoding": "base64",
        "path": [
         "_data",
         3,
         "x",
         "value"
        ]
       },
       {
        "data": "vHX+7cJdrEBSswdaRRfVQIHPDyP2fNRAUG7b95wesECwjuOHGBDAQEaZDTLp0slAwFsgQZ0IzkAJbTmXAi7VQOFASBZKGdJAXhH8b3nR00BSg2kY4oPVQJw4ud810s1Aumbyzf6AyEAUrkfhZrnWQE1/9iMppchA5/up8V4m0EA91SE3S+vFQEc4LXjd5dRANEbrqKiu2UAGZ/D3w4HAQLyReeTr9MZAG4LjMqjCwkAr9pfdi6bNQEOtad5FKsZAeekmMa5y0UCms5PBFTPLQGZmZmbYLtRALa2GxG2720AgQlw5W5GwQCDvVSsbztFA",
        "encoding": "base64",
        "path": [
         "_data",
         3,
         "y",
         "value"
        ]
       },
       {
        "data": "j8L1KFyvUkD2KFyPwnVSQA==",
        "encoding": "base64",
        "path": [
         "_data",
         4,
         "x",
         "value"
        ]
       },
       {
        "data": "ISQLmEAF00CSXP5DGjjRQA==",
        "encoding": "base64",
        "path": [
         "_data",
         4,
         "y",
         "value"
        ]
       }
      ],
      "model_module": "plotlywidget",
      "model_module_version": "^0.5.0-rc.1",
      "model_name": "FigureModel",
      "state": {
       "_data": [
        {
         "marker": {
          "size": [
           20033753,
           7016384,
           3641603,
           970347,
           6634596,
           4580410,
           9250831,
           2476971,
           4875118,
           348643,
           30646495,
           1774735,
           9025951,
           305991,
           45681811,
           285483,
           2637297,
           38111756,
           753874,
           715523,
           11400338,
           4710497,
           825987,
           17661452,
           1411807,
           1956875,
           3344074,
           9171477,
           6502825,
           6998256,
           1622136,
           992040,
           20198730,
           12587223,
           1099010,
           6437188,
           73039376,
           517810,
           5507565,
           98593,
           6147783,
           3464522,
           5828892,
           31140029,
           20367053,
           649901,
           19844382,
           2644765,
           6734098,
           12939400,
           6100407,
           7636524
          ],
          "sizemode": "area",
          "sizeref": 200000
         },
         "mode": "markers",
         "name": "Africa",
         "text": [
          "Algeria",
          "Angola",
          "Benin",
          "Botswana",
          "Burkina Faso",
          "Burundi",
          "Cameroon",
          "Central African Republic",
          "Chad",
          "Comoros",
          "Congo, Dem. Rep.",
          "Congo, Rep.",
          "Cote d'Ivoire",
          "Djibouti",
          "Egypt",
          "Equatorial Guinea",
          "Eritrea",
          "Ethiopia",
          "Gabon",
          "Gambia",
          "Ghana",
          "Guinea",
          "Guinea-Bissau",
          "Kenya",
          "Lesotho",
          "Liberia",
          "Libya",
          "Madagascar",
          "Malawi",
          "Mali",
          "Mauritania",
          "Mauritius",
          "Morocco",
          "Mozambique",
          "Namibia",
          "Niger",
          "Nigeria",
          "Reunion",
          "Rwanda",
          "Sao Tome and Principe",
          "Senegal",
          "Sierra Leone",
          "Somalia",
          "South Africa",
          "Sudan",
          "Swaziland",
          "Tanzania",
          "Togo",
          "Tunisia",
          "Uganda",
          "Zambia",
          "Zimbabwe"
         ],
         "type": "scatter",
         "uid": "b10c24e7-7aa8-4851-9b27-ce7e737c50b6",
         "x": {
          "dtype": "float64",
          "shape": [
           52
          ]
         },
         "y": {
          "dtype": "float64",
          "shape": [
           52
          ]
         }
        },
        {
         "marker": {
          "size": [
           29341374,
           5642224,
           128962939,
           25201900,
           11487112,
           27764644,
           2424367,
           9789224,
           5968349,
           8365850,
           4474873,
           6395630,
           5198399,
           3669448,
           2298309,
           71640904,
           2979423,
           2036305,
           3366439,
           18125129,
           3279001,
           1116479,
           232187835,
           2953997,
           15620766
          ],
          "sizemode": "area",
          "sizeref": 200000
         },
         "mode": "markers",
         "name": "Americas",
         "text": [
          "Argentina",
          "Bolivia",
          "Brazil",
          "Canada",
          "Chile",
          "Colombia",
          "Costa Rica",
          "Cuba",
          "Dominican Republic",
          "Ecuador",
          "El Salvador",
          "Guatemala",
          "Haiti",
          "Honduras",
          "Jamaica",
          "Mexico",
          "Nicaragua",
          "Panama",
          "Paraguay",
          "Peru",
          "Puerto Rico",
          "Trinidad and Tobago",
          "United States",
          "Uruguay",
          "Venezuela"
         ],
         "type": "scatter",
         "uid": "5acf39f2-51b1-419f-8641-cd9222d23c34",
         "x": {
          "dtype": "float64",
          "shape": [
           25
          ]
         },
         "y": {
          "dtype": "float64",
          "shape": [
           25
          ]
         }
        },
        {
         "marker": {
          "size": [
           12881816,
           377967,
           93074406,
           7272485,
           1000281000,
           5264500,
           708000000,
           153343000,
           43072751,
           14173318,
           3858421,
           118454974,
           2347031,
           17647518,
           39326000,
           1497494,
           3086876,
           14441916,
           1756032,
           34680442,
           15796314,
           1301048,
           91462088,
           53456774,
           11254672,
           2651869,
           15410151,
           9410494,
           18501390,
           48827160,
           56142181,
           1425876,
           9657618
          ],
          "sizemode": "area",
          "sizeref": 200000
         },
         "mode": "markers",
         "name": "Asia",
         "text": [
          "Afghanistan",
          "Bahrain",
          "Bangladesh",
          "Cambodia",
          "China",
          "Hong Kong, China",
          "India",
          "Indonesia",
          "Iran",
          "Iraq",
          "Israel",
          "Japan",
          "Jordan",
          "Korea, Dem. Rep.",
          "Korea, Rep.",
          "Kuwait",
          "Lebanon",
          "Malaysia",
          "Mongolia",
          "Myanmar",
          "Nepal",
          "Oman",
          "Pakistan",
          "Philippines",
          "Saudi Arabia",
          "Singapore",
          "Sri Lanka",
          "Syria",
          "Taiwan",
          "Thailand",
          "Vietnam",
          "West Bank and Gaza",
          "Yemen, Rep."
         ],
         "type": "scatter",
         "uid": "9f811dba-19fb-4414-a861-6192ee7710e3",
         "x": {
          "dtype": "float64",
          "shape": [
           33
          ]
         },
         "y": {
          "dtype": "float64",
          "shape": [
           33
          ]
         }
        },
        {
         "marker": {
          "size": [
           2780097,
           7574613,
           9856303,
           4172693,
           8892098,
           4413368,
           10303704,
           5117810,
           4826933,
           54433565,
           78335266,
           9786480,
           10705535,
           233997,
           3480000,
           56535636,
           562548,
           14310401,
           4114787,
           36227381,
           9859650,
           22356726,
           9032824,
           5048043,
           1861252,
           37983310,
           8325260,
           6468126,
           47328791,
           56339704
          ],
          "sizemode": "area",
          "sizeref": 200000
         },
         "mode": "markers",
         "name": "Europe",
         "text": [
          "Albania",
          "Austria",
          "Belgium",
          "Bosnia and Herzegovina",
          "Bulgaria",
          "Croatia",
          "Czech Republic",
          "Denmark",
          "Finland",
          "France",
          "Germany",
          "Greece",
          "Hungary",
          "Iceland",
          "Ireland",
          "Italy",
          "Montenegro",
          "Netherlands",
          "Norway",
          "Poland",
          "Portugal",
          "Romania",
          "Serbia",
          "Slovak Republic",
          "Slovenia",
          "Spain",
          "Sweden",
          "Switzerland",
          "Turkey",
          "United Kingdom"
         ],
         "type": "scatter",
         "uid": "3aafb74c-a09d-42e2-9c69-ca19130c4824",
         "x": {
          "dtype": "float64",
          "shape": [
           30
          ]
         },
         "y": {
          "dtype": "float64",
          "shape": [
           30
          ]
         }
        },
        {
         "marker": {
          "size": [
           15184200,
           3210650
          ],
          "sizemode": "area",
          "sizeref": 200000
         },
         "mode": "markers",
         "name": "Oceania",
         "text": [
          "Australia",
          "New Zealand"
         ],
         "type": "scatter",
         "uid": "9dd67e23-3771-4fab-a2d2-1697c6ba002f",
         "x": {
          "dtype": "float64",
          "shape": [
           2
          ]
         },
         "y": {
          "dtype": "float64",
          "shape": [
           2
          ]
         }
        }
       ],
       "_js2py_pointsCallback": {},
       "_js2py_relayout": {},
       "_js2py_restyle": {},
       "_js2py_update": {},
       "_last_layout_edit_id": 1,
       "_layout": {
        "height": 700,
        "template": {
         "data": {
          "bar": [
           {
            "marker": {
             "autocolorscale": false,
             "colorbar": {
              "outlinewidth": 0,
              "ticks": ""
             },
             "colorscale": [
              [
               0,
               "#0508b8"
              ],
              [
               0.0893854748603352,
               "#1910d8"
              ],
              [
               0.1787709497206704,
               "#3c19f0"
              ],
              [
               0.2681564245810056,
               "#6b1cfb"
              ],
              [
               0.3575418994413408,
               "#981cfd"
              ],
              [
               0.44692737430167595,
               "#bf1cfd"
              ],
              [
               0.5363128491620112,
               "#dd2bfd"
              ],
              [
               0.6256983240223464,
               "#f246fe"
              ],
              [
               0.7150837988826816,
               "#fc67fd"
              ],
              [
               0.8044692737430168,
               "#fe88fc"
              ],
              [
               0.8938547486033519,
               "#fea5fd"
              ],
              [
               0.9832402234636871,
               "#febefe"
              ],
              [
               1,
               "#fec3fe"
              ]
             ],
             "line": {
              "autocolorscale": false,
              "colorscale": [
               [
                0,
                "#0508b8"
               ],
               [
                0.0893854748603352,
                "#1910d8"
               ],
               [
                0.1787709497206704,
                "#3c19f0"
               ],
               [
                0.2681564245810056,
                "#6b1cfb"
               ],
               [
                0.3575418994413408,
                "#981cfd"
               ],
               [
                0.44692737430167595,
                "#bf1cfd"
               ],
               [
                0.5363128491620112,
                "#dd2bfd"
               ],
               [
                0.6256983240223464,
                "#f246fe"
               ],
               [
                0.7150837988826816,
                "#fc67fd"
               ],
               [
                0.8044692737430168,
                "#fe88fc"
               ],
               [
                0.8938547486033519,
                "#fea5fd"
               ],
               [
                0.9832402234636871,
                "#febefe"
               ],
               [
                1,
                "#fec3fe"
               ]
              ]
             }
            },
            "type": "bar"
           }
          ],
          "carpet": [
           {
            "aaxis": {
             "endlinecolor": "#2a3f5f",
             "gridcolor": "#C8D4E3",
             "linecolor": "#C8D4E3",
             "minorgridcolor": "#C8D4E3",
             "startlinecolor": "#2a3f5f"
            },
            "baxis": {
             "endlinecolor": "#2a3f5f",
             "gridcolor": "#C8D4E3",
             "linecolor": "#C8D4E3",
             "minorgridcolor": "#C8D4E3",
             "startlinecolor": "#2a3f5f"
            },
            "type": "carpet"
           }
          ],
          "choropleth": [
           {
            "autocolorscale": false,
            "colorbar": {
             "outlinewidth": 0,
             "ticks": ""
            },
            "colorscale": [
             [
              0,
              "#0508b8"
             ],
             [
              0.0893854748603352,
              "#1910d8"
             ],
             [
              0.1787709497206704,
              "#3c19f0"
             ],
             [
              0.2681564245810056,
              "#6b1cfb"
             ],
             [
              0.3575418994413408,
              "#981cfd"
             ],
             [
              0.44692737430167595,
              "#bf1cfd"
             ],
             [
              0.5363128491620112,
              "#dd2bfd"
             ],
             [
              0.6256983240223464,
              "#f246fe"
             ],
             [
              0.7150837988826816,
              "#fc67fd"
             ],
             [
              0.8044692737430168,
              "#fe88fc"
             ],
             [
              0.8938547486033519,
              "#fea5fd"
             ],
             [
              0.9832402234636871,
              "#febefe"
             ],
             [
              1,
              "#fec3fe"
             ]
            ],
            "type": "choropleth"
           }
          ],
          "contour": [
           {
            "autocolorscale": false,
            "colorbar": {
             "outlinewidth": 0,
             "ticks": ""
            },
            "colorscale": [
             [
              0,
              "#0508b8"
             ],
             [
              0.0893854748603352,
              "#1910d8"
             ],
             [
              0.1787709497206704,
              "#3c19f0"
             ],
             [
              0.2681564245810056,
              "#6b1cfb"
             ],
             [
              0.3575418994413408,
              "#981cfd"
             ],
             [
              0.44692737430167595,
              "#bf1cfd"
             ],
             [
              0.5363128491620112,
              "#dd2bfd"
             ],
             [
              0.6256983240223464,
              "#f246fe"
             ],
             [
              0.7150837988826816,
              "#fc67fd"
             ],
             [
              0.8044692737430168,
              "#fe88fc"
             ],
             [
              0.8938547486033519,
              "#fea5fd"
             ],
             [
              0.9832402234636871,
              "#febefe"
             ],
             [
              1,
              "#fec3fe"
             ]
            ],
            "type": "contour"
           }
          ],
          "contourcarpet": [
           {
            "autocolorscale": false,
            "colorbar": {
             "outlinewidth": 0,
             "ticks": ""
            },
            "colorscale": [
             [
              0,
              "#0508b8"
             ],
             [
              0.0893854748603352,
              "#1910d8"
             ],
             [
              0.1787709497206704,
              "#3c19f0"
             ],
             [
              0.2681564245810056,
              "#6b1cfb"
             ],
             [
              0.3575418994413408,
              "#981cfd"
             ],
             [
              0.44692737430167595,
              "#bf1cfd"
             ],
             [
              0.5363128491620112,
              "#dd2bfd"
             ],
             [
              0.6256983240223464,
              "#f246fe"
             ],
             [
              0.7150837988826816,
              "#fc67fd"
             ],
             [
              0.8044692737430168,
              "#fe88fc"
             ],
             [
              0.8938547486033519,
              "#fea5fd"
             ],
             [
              0.9832402234636871,
              "#febefe"
             ],
             [
              1,
              "#fec3fe"
             ]
            ],
            "type": "contourcarpet"
           }
          ],
          "heatmap": [
           {
            "autocolorscale": false,
            "colorbar": {
             "outlinewidth": 0,
             "ticks": ""
            },
            "colorscale": [
             [
              0,
              "#0508b8"
             ],
             [
              0.0893854748603352,
              "#1910d8"
             ],
             [
              0.1787709497206704,
              "#3c19f0"
             ],
             [
              0.2681564245810056,
              "#6b1cfb"
             ],
             [
              0.3575418994413408,
              "#981cfd"
             ],
             [
              0.44692737430167595,
              "#bf1cfd"
             ],
             [
              0.5363128491620112,
              "#dd2bfd"
             ],
             [
              0.6256983240223464,
              "#f246fe"
             ],
             [
              0.7150837988826816,
              "#fc67fd"
             ],
             [
              0.8044692737430168,
              "#fe88fc"
             ],
             [
              0.8938547486033519,
              "#fea5fd"
             ],
             [
              0.9832402234636871,
              "#febefe"
             ],
             [
              1,
              "#fec3fe"
             ]
            ],
            "type": "heatmap"
           }
          ],
          "heatmapgl": [
           {
            "autocolorscale": false,
            "colorbar": {
             "outlinewidth": 0,
             "ticks": ""
            },
            "colorscale": [
             [
              0,
              "#0508b8"
             ],
             [
              0.0893854748603352,
              "#1910d8"
             ],
             [
              0.1787709497206704,
              "#3c19f0"
             ],
             [
              0.2681564245810056,
              "#6b1cfb"
             ],
             [
              0.3575418994413408,
              "#981cfd"
             ],
             [
              0.44692737430167595,
              "#bf1cfd"
             ],
             [
              0.5363128491620112,
              "#dd2bfd"
             ],
             [
              0.6256983240223464,
              "#f246fe"
             ],
             [
              0.7150837988826816,
              "#fc67fd"
             ],
             [
              0.8044692737430168,
              "#fe88fc"
             ],
             [
              0.8938547486033519,
              "#fea5fd"
             ],
             [
              0.9832402234636871,
              "#febefe"
             ],
             [
              1,
              "#fec3fe"
             ]
            ],
            "type": "heatmapgl"
           }
          ],
          "histogram": [
           {
            "marker": {
             "autocolorscale": false,
             "colorbar": {
              "outlinewidth": 0,
              "ticks": ""
             },
             "colorscale": [
              [
               0,
               "#0508b8"
              ],
              [
               0.0893854748603352,
               "#1910d8"
              ],
              [
               0.1787709497206704,
               "#3c19f0"
              ],
              [
               0.2681564245810056,
               "#6b1cfb"
              ],
              [
               0.3575418994413408,
               "#981cfd"
              ],
              [
               0.44692737430167595,
               "#bf1cfd"
              ],
              [
               0.5363128491620112,
               "#dd2bfd"
              ],
              [
               0.6256983240223464,
               "#f246fe"
              ],
              [
               0.7150837988826816,
               "#fc67fd"
              ],
              [
               0.8044692737430168,
               "#fe88fc"
              ],
              [
               0.8938547486033519,
               "#fea5fd"
              ],
              [
               0.9832402234636871,
               "#febefe"
              ],
              [
               1,
               "#fec3fe"
              ]
             ]
            },
            "type": "histogram"
           }
          ],
          "histogram2d": [
           {
            "autocolorscale": false,
            "colorbar": {
             "outlinewidth": 0,
             "ticks": ""
            },
            "colorscale": [
             [
              0,
              "#0508b8"
             ],
             [
              0.0893854748603352,
              "#1910d8"
             ],
             [
              0.1787709497206704,
              "#3c19f0"
             ],
             [
              0.2681564245810056,
              "#6b1cfb"
             ],
             [
              0.3575418994413408,
              "#981cfd"
             ],
             [
              0.44692737430167595,
              "#bf1cfd"
             ],
             [
              0.5363128491620112,
              "#dd2bfd"
             ],
             [
              0.6256983240223464,
              "#f246fe"
             ],
             [
              0.7150837988826816,
              "#fc67fd"
             ],
             [
              0.8044692737430168,
              "#fe88fc"
             ],
             [
              0.8938547486033519,
              "#fea5fd"
             ],
             [
              0.9832402234636871,
              "#febefe"
             ],
             [
              1,
              "#fec3fe"
             ]
            ],
            "type": "histogram2d"
           }
          ],
          "histogram2dcontour": [
           {
            "autocolorscale": false,
            "colorbar": {
             "outlinewidth": 0,
             "ticks": ""
            },
            "colorscale": [
             [
              0,
              "#0508b8"
             ],
             [
              0.0893854748603352,
              "#1910d8"
             ],
             [
              0.1787709497206704,
              "#3c19f0"
             ],
             [
              0.2681564245810056,
              "#6b1cfb"
             ],
             [
              0.3575418994413408,
              "#981cfd"
             ],
             [
              0.44692737430167595,
              "#bf1cfd"
             ],
             [
              0.5363128491620112,
              "#dd2bfd"
             ],
             [
              0.6256983240223464,
              "#f246fe"
             ],
             [
              0.7150837988826816,
              "#fc67fd"
             ],
             [
              0.8044692737430168,
              "#fe88fc"
             ],
             [
              0.8938547486033519,
              "#fea5fd"
             ],
             [
              0.9832402234636871,
              "#febefe"
             ],
             [
              1,
              "#fec3fe"
             ]
            ],
            "type": "histogram2dcontour"
           }
          ],
          "mesh3d": [
           {
            "autocolorscale": false,
            "colorbar": {
             "outlinewidth": 0,
             "ticks": ""
            },
            "colorscale": [
             [
              0,
              "#0508b8"
             ],
             [
              0.0893854748603352,
              "#1910d8"
             ],
             [
              0.1787709497206704,
              "#3c19f0"
             ],
             [
              0.2681564245810056,
              "#6b1cfb"
             ],
             [
              0.3575418994413408,
              "#981cfd"
             ],
             [
              0.44692737430167595,
              "#bf1cfd"
             ],
             [
              0.5363128491620112,
              "#dd2bfd"
             ],
             [
              0.6256983240223464,
              "#f246fe"
             ],
             [
              0.7150837988826816,
              "#fc67fd"
             ],
             [
              0.8044692737430168,
              "#fe88fc"
             ],
             [
              0.8938547486033519,
              "#fea5fd"
             ],
             [
              0.9832402234636871,
              "#febefe"
             ],
             [
              1,
              "#fec3fe"
             ]
            ],
            "type": "mesh3d"
           }
          ],
          "parcoords": [
           {
            "line": {
             "autocolorscale": false,
             "colorbar": {
              "outlinewidth": 0,
              "ticks": ""
             },
             "colorscale": [
              [
               0,
               "#0508b8"
              ],
              [
               0.0893854748603352,
               "#1910d8"
              ],
              [
               0.1787709497206704,
               "#3c19f0"
              ],
              [
               0.2681564245810056,
               "#6b1cfb"
              ],
              [
               0.3575418994413408,
               "#981cfd"
              ],
              [
               0.44692737430167595,
               "#bf1cfd"
              ],
              [
               0.5363128491620112,
               "#dd2bfd"
              ],
              [
               0.6256983240223464,
               "#f246fe"
              ],
              [
               0.7150837988826816,
               "#fc67fd"
              ],
              [
               0.8044692737430168,
               "#fe88fc"
              ],
              [
               0.8938547486033519,
               "#fea5fd"
              ],
              [
               0.9832402234636871,
               "#febefe"
              ],
              [
               1,
               "#fec3fe"
              ]
             ]
            },
            "type": "parcoords"
           }
          ],
          "scatter": [
           {
            "marker": {
             "autocolorscale": false,
             "colorbar": {
              "outlinewidth": 0,
              "ticks": ""
             },
             "colorscale": [
              [
               0,
               "#0508b8"
              ],
              [
               0.0893854748603352,
               "#1910d8"
              ],
              [
               0.1787709497206704,
               "#3c19f0"
              ],
              [
               0.2681564245810056,
               "#6b1cfb"
              ],
              [
               0.3575418994413408,
               "#981cfd"
              ],
              [
               0.44692737430167595,
               "#bf1cfd"
              ],
              [
               0.5363128491620112,
               "#dd2bfd"
              ],
              [
               0.6256983240223464,
               "#f246fe"
              ],
              [
               0.7150837988826816,
               "#fc67fd"
              ],
              [
               0.8044692737430168,
               "#fe88fc"
              ],
              [
               0.8938547486033519,
               "#fea5fd"
              ],
              [
               0.9832402234636871,
               "#febefe"
              ],
              [
               1,
               "#fec3fe"
              ]
             ],
             "line": {
              "autocolorscale": false,
              "colorscale": [
               [
                0,
                "#0508b8"
               ],
               [
                0.0893854748603352,
                "#1910d8"
               ],
               [
                0.1787709497206704,
                "#3c19f0"
               ],
               [
                0.2681564245810056,
                "#6b1cfb"
               ],
               [
                0.3575418994413408,
                "#981cfd"
               ],
               [
                0.44692737430167595,
                "#bf1cfd"
               ],
               [
                0.5363128491620112,
                "#dd2bfd"
               ],
               [
                0.6256983240223464,
                "#f246fe"
               ],
               [
                0.7150837988826816,
                "#fc67fd"
               ],
               [
                0.8044692737430168,
                "#fe88fc"
               ],
               [
                0.8938547486033519,
                "#fea5fd"
               ],
               [
                0.9832402234636871,
                "#febefe"
               ],
               [
                1,
                "#fec3fe"
               ]
              ]
             }
            },
            "type": "scatter"
           }
          ],
          "scatter3d": [
           {
            "line": {
             "autocolorscale": false,
             "colorscale": [
              [
               0,
               "#0508b8"
              ],
              [
               0.0893854748603352,
               "#1910d8"
              ],
              [
               0.1787709497206704,
               "#3c19f0"
              ],
              [
               0.2681564245810056,
               "#6b1cfb"
              ],
              [
               0.3575418994413408,
               "#981cfd"
              ],
              [
               0.44692737430167595,
               "#bf1cfd"
              ],
              [
               0.5363128491620112,
               "#dd2bfd"
              ],
              [
               0.6256983240223464,
               "#f246fe"
              ],
              [
               0.7150837988826816,
               "#fc67fd"
              ],
              [
               0.8044692737430168,
               "#fe88fc"
              ],
              [
               0.8938547486033519,
               "#fea5fd"
              ],
              [
               0.9832402234636871,
               "#febefe"
              ],
              [
               1,
               "#fec3fe"
              ]
             ]
            },
            "marker": {
             "autocolorscale": false,
             "colorbar": {
              "outlinewidth": 0,
              "ticks": ""
             },
             "colorscale": [
              [
               0,
               "#0508b8"
              ],
              [
               0.0893854748603352,
               "#1910d8"
              ],
              [
               0.1787709497206704,
               "#3c19f0"
              ],
              [
               0.2681564245810056,
               "#6b1cfb"
              ],
              [
               0.3575418994413408,
               "#981cfd"
              ],
              [
               0.44692737430167595,
               "#bf1cfd"
              ],
              [
               0.5363128491620112,
               "#dd2bfd"
              ],
              [
               0.6256983240223464,
               "#f246fe"
              ],
              [
               0.7150837988826816,
               "#fc67fd"
              ],
              [
               0.8044692737430168,
               "#fe88fc"
              ],
              [
               0.8938547486033519,
               "#fea5fd"
              ],
              [
               0.9832402234636871,
               "#febefe"
              ],
              [
               1,
               "#fec3fe"
              ]
             ]
            },
            "type": "scatter3d"
           }
          ],
          "scattercarpet": [
           {
            "marker": {
             "autocolorscale": false,
             "colorbar": {
              "outlinewidth": 0,
              "ticks": ""
             },
             "colorscale": [
              [
               0,
               "#0508b8"
              ],
              [
               0.0893854748603352,
               "#1910d8"
              ],
              [
               0.1787709497206704,
               "#3c19f0"
              ],
              [
               0.2681564245810056,
               "#6b1cfb"
              ],
              [
               0.3575418994413408,
               "#981cfd"
              ],
              [
               0.44692737430167595,
               "#bf1cfd"
              ],
              [
               0.5363128491620112,
               "#dd2bfd"
              ],
              [
               0.6256983240223464,
               "#f246fe"
              ],
              [
               0.7150837988826816,
               "#fc67fd"
              ],
              [
               0.8044692737430168,
               "#fe88fc"
              ],
              [
               0.8938547486033519,
               "#fea5fd"
              ],
              [
               0.9832402234636871,
               "#febefe"
              ],
              [
               1,
               "#fec3fe"
              ]
             ]
            },
            "type": "scattercarpet"
           }
          ],
          "scattergeo": [
           {
            "marker": {
             "autocolorscale": false,
             "colorbar": {
              "outlinewidth": 0,
              "ticks": ""
             },
             "colorscale": [
              [
               0,
               "#0508b8"
              ],
              [
               0.0893854748603352,
               "#1910d8"
              ],
              [
               0.1787709497206704,
               "#3c19f0"
              ],
              [
               0.2681564245810056,
               "#6b1cfb"
              ],
              [
               0.3575418994413408,
               "#981cfd"
              ],
              [
               0.44692737430167595,
               "#bf1cfd"
              ],
              [
               0.5363128491620112,
               "#dd2bfd"
              ],
              [
               0.6256983240223464,
               "#f246fe"
              ],
              [
               0.7150837988826816,
               "#fc67fd"
              ],
              [
               0.8044692737430168,
               "#fe88fc"
              ],
              [
               0.8938547486033519,
               "#fea5fd"
              ],
              [
               0.9832402234636871,
               "#febefe"
              ],
              [
               1,
               "#fec3fe"
              ]
             ]
            },
            "type": "scattergeo"
           }
          ],
          "scattergl": [
           {
            "marker": {
             "autocolorscale": false,
             "colorbar": {
              "outlinewidth": 0,
              "ticks": ""
             },
             "colorscale": [
              [
               0,
               "#0508b8"
              ],
              [
               0.0893854748603352,
               "#1910d8"
              ],
              [
               0.1787709497206704,
               "#3c19f0"
              ],
              [
               0.2681564245810056,
               "#6b1cfb"
              ],
              [
               0.3575418994413408,
               "#981cfd"
              ],
              [
               0.44692737430167595,
               "#bf1cfd"
              ],
              [
               0.5363128491620112,
               "#dd2bfd"
              ],
              [
               0.6256983240223464,
               "#f246fe"
              ],
              [
               0.7150837988826816,
               "#fc67fd"
              ],
              [
               0.8044692737430168,
               "#fe88fc"
              ],
              [
               0.8938547486033519,
               "#fea5fd"
              ],
              [
               0.9832402234636871,
               "#febefe"
              ],
              [
               1,
               "#fec3fe"
              ]
             ]
            },
            "type": "scattergl"
           }
          ],
          "scattermapbox": [
           {
            "marker": {
             "autocolorscale": false,
             "colorbar": {
              "outlinewidth": 0,
              "ticks": ""
             },
             "colorscale": [
              [
               0,
               "#0508b8"
              ],
              [
               0.0893854748603352,
               "#1910d8"
              ],
              [
               0.1787709497206704,
               "#3c19f0"
              ],
              [
               0.2681564245810056,
               "#6b1cfb"
              ],
              [
               0.3575418994413408,
               "#981cfd"
              ],
              [
               0.44692737430167595,
               "#bf1cfd"
              ],
              [
               0.5363128491620112,
               "#dd2bfd"
              ],
              [
               0.6256983240223464,
               "#f246fe"
              ],
              [
               0.7150837988826816,
               "#fc67fd"
              ],
              [
               0.8044692737430168,
               "#fe88fc"
              ],
              [
               0.8938547486033519,
               "#fea5fd"
              ],
              [
               0.9832402234636871,
               "#febefe"
              ],
              [
               1,
               "#fec3fe"
              ]
             ]
            },
            "type": "scattermapbox"
           }
          ],
          "scatterpolar": [
           {
            "marker": {
             "autocolorscale": false,
             "colorbar": {
              "outlinewidth": 0,
              "ticks": ""
             },
             "colorscale": [
              [
               0,
               "#0508b8"
              ],
              [
               0.0893854748603352,
               "#1910d8"
              ],
              [
               0.1787709497206704,
               "#3c19f0"
              ],
              [
               0.2681564245810056,
               "#6b1cfb"
              ],
              [
               0.3575418994413408,
               "#981cfd"
              ],
              [
               0.44692737430167595,
               "#bf1cfd"
              ],
              [
               0.5363128491620112,
               "#dd2bfd"
              ],
              [
               0.6256983240223464,
               "#f246fe"
              ],
              [
               0.7150837988826816,
               "#fc67fd"
              ],
              [
               0.8044692737430168,
               "#fe88fc"
              ],
              [
               0.8938547486033519,
               "#fea5fd"
              ],
              [
               0.9832402234636871,
               "#febefe"
              ],
              [
               1,
               "#fec3fe"
              ]
             ]
            },
            "type": "scatterpolar"
           }
          ],
          "scatterpolargl": [
           {
            "marker": {
             "autocolorscale": false,
             "colorbar": {
              "outlinewidth": 0,
              "ticks": ""
             },
             "colorscale": [
              [
               0,
               "#0508b8"
              ],
              [
               0.0893854748603352,
               "#1910d8"
              ],
              [
               0.1787709497206704,
               "#3c19f0"
              ],
              [
               0.2681564245810056,
               "#6b1cfb"
              ],
              [
               0.3575418994413408,
               "#981cfd"
              ],
              [
               0.44692737430167595,
               "#bf1cfd"
              ],
              [
               0.5363128491620112,
               "#dd2bfd"
              ],
              [
               0.6256983240223464,
               "#f246fe"
              ],
              [
               0.7150837988826816,
               "#fc67fd"
              ],
              [
               0.8044692737430168,
               "#fe88fc"
              ],
              [
               0.8938547486033519,
               "#fea5fd"
              ],
              [
               0.9832402234636871,
               "#febefe"
              ],
              [
               1,
               "#fec3fe"
              ]
             ],
             "line": {
              "autocolorscale": false,
              "colorscale": [
               [
                0,
                "#0508b8"
               ],
               [
                0.0893854748603352,
                "#1910d8"
               ],
               [
                0.1787709497206704,
                "#3c19f0"
               ],
               [
                0.2681564245810056,
                "#6b1cfb"
               ],
               [
                0.3575418994413408,
                "#981cfd"
               ],
               [
                0.44692737430167595,
                "#bf1cfd"
               ],
               [
                0.5363128491620112,
                "#dd2bfd"
               ],
               [
                0.6256983240223464,
                "#f246fe"
               ],
               [
                0.7150837988826816,
                "#fc67fd"
               ],
               [
                0.8044692737430168,
                "#fe88fc"
               ],
               [
                0.8938547486033519,
                "#fea5fd"
               ],
               [
                0.9832402234636871,
                "#febefe"
               ],
               [
                1,
                "#fec3fe"
               ]
              ]
             }
            },
            "type": "scatterpolargl"
           }
          ],
          "scatterternary": [
           {
            "marker": {
             "autocolorscale": false,
             "colorbar": {
              "outlinewidth": 0,
              "ticks": ""
             },
             "colorscale": [
              [
               0,
               "#0508b8"
              ],
              [
               0.0893854748603352,
               "#1910d8"
              ],
              [
               0.1787709497206704,
               "#3c19f0"
              ],
              [
               0.2681564245810056,
               "#6b1cfb"
              ],
              [
               0.3575418994413408,
               "#981cfd"
              ],
              [
               0.44692737430167595,
               "#bf1cfd"
              ],
              [
               0.5363128491620112,
               "#dd2bfd"
              ],
              [
               0.6256983240223464,
               "#f246fe"
              ],
              [
               0.7150837988826816,
               "#fc67fd"
              ],
              [
               0.8044692737430168,
               "#fe88fc"
              ],
              [
               0.8938547486033519,
               "#fea5fd"
              ],
              [
               0.9832402234636871,
               "#febefe"
              ],
              [
               1,
               "#fec3fe"
              ]
             ]
            },
            "type": "scatterternary"
           }
          ],
          "surface": [
           {
            "autocolorscale": false,
            "colorbar": {
             "outlinewidth": 0,
             "ticks": ""
            },
            "colorscale": [
             [
              0,
              "#0508b8"
             ],
             [
              0.0893854748603352,
              "#1910d8"
             ],
             [
              0.1787709497206704,
              "#3c19f0"
             ],
             [
              0.2681564245810056,
              "#6b1cfb"
             ],
             [
              0.3575418994413408,
              "#981cfd"
             ],
             [
              0.44692737430167595,
              "#bf1cfd"
             ],
             [
              0.5363128491620112,
              "#dd2bfd"
             ],
             [
              0.6256983240223464,
              "#f246fe"
             ],
             [
              0.7150837988826816,
              "#fc67fd"
             ],
             [
              0.8044692737430168,
              "#fe88fc"
             ],
             [
              0.8938547486033519,
              "#fea5fd"
             ],
             [
              0.9832402234636871,
              "#febefe"
             ],
             [
              1,
              "#fec3fe"
             ]
            ],
            "type": "surface"
           }
          ],
          "table": [
           {
            "cells": {
             "fill": {
              "color": "#EBF0F8"
             },
             "line": {
              "color": "white"
             }
            },
            "header": {
             "fill": {
              "color": "#C8D4E3"
             },
             "line": {
              "color": "white"
             }
            },
            "type": "table"
           }
          ]
         },
         "layout": {
          "annotationdefaults": {
           "arrowcolor": "#506784",
           "arrowhead": 0,
           "arrowwidth": 1
          },
          "colorway": [
           "#636efa",
           "#EF553B",
           "#00cc96",
           "#ab63fa",
           "#19d3f3",
           "#e763fa"
          ],
          "font": {
           "color": "#2a3f5f"
          },
          "geo": {
           "bgcolor": "white",
           "lakecolor": "white",
           "landcolor": "white",
           "showlakes": true,
           "showland": true,
           "subunitcolor": "#C8D4E3"
          },
          "paper_bgcolor": "white",
          "plot_bgcolor": "white",
          "polar": {
           "angularaxis": {
            "gridcolor": "#EBF0F8",
            "linecolor": "#EBF0F8",
            "ticks": ""
           },
           "bgcolor": "white",
           "radialaxis": {
            "gridcolor": "#EBF0F8",
            "linecolor": "#EBF0F8",
            "ticks": ""
           }
          },
          "scene": {
           "xaxis": {
            "backgroundcolor": "white",
            "gridcolor": "#DFE8F3",
            "gridwidth": 2,
            "linecolor": "#EBF0F8",
            "showbackground": true,
            "ticks": "",
            "zerolinecolor": "#EBF0F8"
           },
           "yaxis": {
            "backgroundcolor": "white",
            "gridcolor": "#DFE8F3",
            "gridwidth": 2,
            "linecolor": "#EBF0F8",
            "showbackground": true,
            "ticks": "",
            "zerolinecolor": "#EBF0F8"
           },
           "zaxis": {
            "backgroundcolor": "white",
            "gridcolor": "#DFE8F3",
            "gridwidth": 2,
            "linecolor": "#EBF0F8",
            "showbackground": true,
            "ticks": "",
            "zerolinecolor": "#EBF0F8"
           }
          },
          "shapedefaults": {
           "fillcolor": "#506784",
           "line": {
            "width": 0
           },
           "opacity": 0.4
          },
          "ternary": {
           "aaxis": {
            "gridcolor": "#DFE8F3",
            "linecolor": "#A2B1C6",
            "ticks": ""
           },
           "baxis": {
            "gridcolor": "#DFE8F3",
            "linecolor": "#A2B1C6",
            "ticks": ""
           },
           "bgcolor": "white",
           "caxis": {
            "gridcolor": "#DFE8F3",
            "linecolor": "#A2B1C6",
            "ticks": ""
           }
          },
          "xaxis": {
           "gridcolor": "#EBF0F8",
           "linecolor": "#EBF0F8",
           "ticks": "",
           "zerolinecolor": "#EBF0F8",
           "zerolinewidth": 2
          },
          "yaxis": {
           "gridcolor": "#EBF0F8",
           "linecolor": "#EBF0F8",
           "ticks": "",
           "zerolinecolor": "#EBF0F8",
           "zerolinewidth": 2
          }
         }
        },
        "title": "Life Expectancy and GDP per capita (1982)",
        "width": 900,
        "xaxis": {
         "title": "Life Expectancy"
        },
        "yaxis": {
         "title": "GDP per capita",
         "type": "log"
        }
       },
       "_py2js_addTraces": {},
       "_py2js_animate": {},
       "_py2js_deleteTraces": {},
       "_py2js_moveTraces": {},
       "_py2js_removeLayoutProps": {},
       "_py2js_removeTraceProps": {},
       "_py2js_restyle": {},
       "_py2js_update": {},
       "_view_count": 1
      }
     },
     "8bfee420bea546f59b0d512cb9af9484": {
      "buffers": [
       {
        "data": "yXa+nxqvTkB/arx0k/hDQMDKoUW2c0lAyqFFtvO9TkBWDi2ynQ9IQEA1XrpJvEdAX7pJDAJ7SkD2KFyPwiVIQBgEVg4twkhAgZVDi2x3SkAxCKwcWuRHQClcj8L1WExA6Pup8dL9SkAOLbKd72dIQFTjpZvEAExA2/l+arzURUBSuB6F6/FFQGmR7Xw/dUZA1HjpJjFITEAK16NwPcpGQKwcWmQ730pANl66SQxyRUBg5dAi26lDQDZeukkMYk1ARIts5/uJS0CTGARWDm1GQKRwPQrXE09AeOkmMQh8SEAYBFYOLdJGQGmR7Xw/9UVA6SYxCKzMSkAv3SQGga1QQDMzMzMz001A9ihcj8JlRUCWQ4ts53tNQAaBlUOLTEVAfT81XrrpRkBxPQrXo3hRQJZDi2znG0dAsXJoke0sTkCNl24SgzBKQClcj8L1OENACtejcD16RUD4U+OlmxRNQCUGgZVDK0lALIcW2c7HS0Do+6nx0k1JQEA1XrpJvEtAUI2XbhIDUEDpJjEIrOxIQA0CK4cW6UlAWDm0yHYuTkA=",
        "encoding": "base64",
        "path": [
         "_data",
         0,
         "x",
         "value"
        ]
       },
       {
        "data": "ZRu4AylxtkA5RrJH6ImlQHcRpiiX95NAIEHxYyTHsUCun/6zljmJQHdHxmrTfIFAfgG9cPd/okCJ9fwfBuaNQNNTP8pD74hAi28ofGbMk0DbVg6I+w2FQAA49uyBD7NARGtFm2tVpECtUnqm736mQPiL2ZJ1X6tA8QNGTZr+jEDMHUe9AWeAQAQlYM/iDoJAj8cMVK6EzUDnIzoVeh6KQOguibNCYItAaq6JuwDKikA9gnbi/TCKQO2CwTXnEJVAr3IN2BrqiEBCcte3mOGBQH9v058R9dBAejnsvoNblECRsBRubsaDQGGMo80cUINA4Cwly5kkl0CRtYZSE9CsQME3TZ89HaVAMhaX9GHjfEDjwRa7GV+wQEay7O7GbYxA7FG4HuWjmEBIqYQnOJO0QJCQN6+QjItAzxYQWt+InUBq+uyA67mXQEj99QoL5JZAb59VZjpjkkCkVMITIrzAQIz2eCEtnp1AJ94BnsRurkBG6uLb8FGLQIBG6dJPApVAjyCVYnfQq0CMOoQ7IVKFQNdMvtm2ApZA48nJH9emiEA=",
        "encoding": "base64",
        "path": [
         "_data",
         0,
         "y",
         "value"
        ]
       },
       {
        "data": "PzVeukl8UUDKoUW28+1KQF+6SQwCq09AcT0K16PwUkBcj8L1KKRRQG8Sg8DKqVBAzczMzMxcUkDZzvdT421SQJMYBFYO3U9A2c73U+MVUEBaZDvfT01MQKjGSzeJEU1AX7pJDAK7SUAxCKwcWnROQD0K16NwzVFAUrgehevZUECgGi/dJKZNQJHtfD81nlFADi2yne+3UECIFtnO97NOQAAAAAAAcFJAaJHtfD81UUCamZmZmalSQOxRuB6Fs1FAz/dT46UjUUA=",
        "encoding": "base64",
        "path": [
         "_data",
         1,
         "x",
         "value"
        ]
       },
       {
        "data": "hXtl3vKSwUBb7PZZBamoQHLBGfzVdrtAd/hrsrJc1kC1Oc5tquezQKZiY16TLbFAtDukGLyOtEA6cw8J65S8QDfBN00vWqZAaF95kMotvEAaUdobWAKwQGO0jqp+1LJAbyTQYKNsn0D9icqGhWOoQKYKRiUNtLdA6Zyf4pLFwkDlgcgirRyrQFeXUwKaYbtAIhYx7ICisEA7qMR1gCK5QGuad5x+LcRAuOhkqcPPwUB5I/PIY2zYQFjO3hk5CLtA4QZ8fjTIxUA=",
        "encoding": "base64",
        "path": [
         "_data",
         1,
         "y",
         "value"
        ]
       },
       {
        "data": "WmQ730/tQ0AW2c73U0NRQP3UeOkmAUlA0SLb+X56SUCamZmZmWFQQM3MzMzM3FJAQDVeuklMTEAxCKwcWhRMQI/C9Shcz01Av58aL90ET0DNzMzMzJxSQNejcD0KR1NAO99PjZfeT0BmZmZmZkZRQB1aZDvfx1BAsp3vp8bTUUD0/dR46b5QQAAAAAAAAFFAO99PjZe+TEC7SQwCKwdNQHjpJjEIzEhAd76fGi9dT0BOYhBYORRMQNEi2/l+Ck9AqMZLN4mBT0BxPQrXo/BRQJzEILByMFFA9ihcj8IlUEAK16NwPQpSQJHtfD81JlBAnMQgsHJoTUBEi2zn+xlQQFg5tMh2jkhA",
        "encoding": "base64",
        "path": [
         "_data",
         2,
         "x",
         "value"
        ]
       },
       {
        "data": "P785bReQjkAY7IZtycLSQIoIWtzaJ4VAo4+ex82Dg0BgVb38XhOOQBluwOdDcMxAYzcizsm9ikA095DwfbOXQC0HeqhVuL1A8DMuHPRazECGWtO8gwPOQDfg88MG7tJAev1JfGpBsEDRH5p5hgqwQKgZUkXx9rVAX3tmSYKe3kCVCFT/hNi9QPrPmh9bOLNAxR9FnWlCn0AAAAAAAIB6QH32Ehn8coZAZ9DQP2VNyUAZO+EluI2WQJQT7SqMVqRAVOOlm6Vz4EBdhZSflKDNQFMmNbRRwJlAvAD76KxjrUB4B3jSWgK9QJCeIodwsqJAwnrt4+IZhkDKpIY2CPCwQC9W1GA65p5A",
        "encoding": "base64",
        "path": [
         "_data",
         2,
         "y",
         "value"
        ]
       },
       {
        "data": "exSuR+GaUUDsUbgehUtSQOxRuB6Fe1JAXI/C9SisUUCF61G4HsVRQD0K16NwnVFAPQrXo3C9UUC4HoXrUahSQDMzMzMzo1JAKVyPwvW4UkAzMzMzM3NSQI/C9Shcz1JAKVyPwvVYUUCPwvUoXD9TQGZmZmZmRlJAH4XrUbi+UkBYObTIdoZSQDMzMzMzA1NArkfhehT+UkAUrkfhetRRQOF6FK5HMVJACtejcD1qUUDtfD81XopRQDMzMzMzs1FAeekmMQjEUUAzMzMzMxNTQHsUrkfhGlNAPQrXo3ANU0D4U+Olm4ROQMP1KFyPglJA",
        "encoding": "base64",
        "path": [
         "_data",
         3,
         "x",
         "value"
        ]
       },
       {
        "data": "vHX+7cJdrEBSswdaRRfVQIHPDyP2fNRAUG7b95wesECwjuOHGBDAQEaZDTLp0slAwFsgQZ0IzkAJbTmXAi7VQOFASBZKGdJAXhH8b3nR00BSg2kY4oPVQJw4ud810s1Aumbyzf6AyEAUrkfhZrnWQE1/9iMppchA5/up8V4m0EA91SE3S+vFQEc4LXjd5dRANEbrqKiu2UAGZ/D3w4HAQLyReeTr9MZAG4LjMqjCwkAr9pfdi6bNQEOtad5FKsZAeekmMa5y0UCms5PBFTPLQGZmZmbYLtRALa2GxG2720AgQlw5W5GwQCDvVSsbztFA",
        "encoding": "base64",
        "path": [
         "_data",
         3,
         "y",
         "value"
        ]
       },
       {
        "data": "j8L1KFyvUkD2KFyPwnVSQA==",
        "encoding": "base64",
        "path": [
         "_data",
         4,
         "x",
         "value"
        ]
       },
       {
        "data": "ISQLmEAF00CSXP5DGjjRQA==",
        "encoding": "base64",
        "path": [
         "_data",
         4,
         "y",
         "value"
        ]
       }
      ],
      "model_module": "plotlywidget",
      "model_module_version": "^0.5.0-rc.1",
      "model_name": "FigureModel",
      "state": {
       "_data": [
        {
         "marker": {
          "size": [
           20033753,
           7016384,
           3641603,
           970347,
           6634596,
           4580410,
           9250831,
           2476971,
           4875118,
           348643,
           30646495,
           1774735,
           9025951,
           305991,
           45681811,
           285483,
           2637297,
           38111756,
           753874,
           715523,
           11400338,
           4710497,
           825987,
           17661452,
           1411807,
           1956875,
           3344074,
           9171477,
           6502825,
           6998256,
           1622136,
           992040,
           20198730,
           12587223,
           1099010,
           6437188,
           73039376,
           517810,
           5507565,
           98593,
           6147783,
           3464522,
           5828892,
           31140029,
           20367053,
           649901,
           19844382,
           2644765,
           6734098,
           12939400,
           6100407,
           7636524
          ],
          "sizemode": "area",
          "sizeref": 200000
         },
         "mode": "markers",
         "name": "Africa",
         "text": [
          "Algeria",
          "Angola",
          "Benin",
          "Botswana",
          "Burkina Faso",
          "Burundi",
          "Cameroon",
          "Central African Republic",
          "Chad",
          "Comoros",
          "Congo, Dem. Rep.",
          "Congo, Rep.",
          "Cote d'Ivoire",
          "Djibouti",
          "Egypt",
          "Equatorial Guinea",
          "Eritrea",
          "Ethiopia",
          "Gabon",
          "Gambia",
          "Ghana",
          "Guinea",
          "Guinea-Bissau",
          "Kenya",
          "Lesotho",
          "Liberia",
          "Libya",
          "Madagascar",
          "Malawi",
          "Mali",
          "Mauritania",
          "Mauritius",
          "Morocco",
          "Mozambique",
          "Namibia",
          "Niger",
          "Nigeria",
          "Reunion",
          "Rwanda",
          "Sao Tome and Principe",
          "Senegal",
          "Sierra Leone",
          "Somalia",
          "South Africa",
          "Sudan",
          "Swaziland",
          "Tanzania",
          "Togo",
          "Tunisia",
          "Uganda",
          "Zambia",
          "Zimbabwe"
         ],
         "type": "scatter",
         "uid": "fdbde486-5171-4092-be8b-2f550a7a40da",
         "x": {
          "dtype": "float64",
          "shape": [
           52
          ]
         },
         "y": {
          "dtype": "float64",
          "shape": [
           52
          ]
         }
        },
        {
         "marker": {
          "size": [
           29341374,
           5642224,
           128962939,
           25201900,
           11487112,
           27764644,
           2424367,
           9789224,
           5968349,
           8365850,
           4474873,
           6395630,
           5198399,
           3669448,
           2298309,
           71640904,
           2979423,
           2036305,
           3366439,
           18125129,
           3279001,
           1116479,
           232187835,
           2953997,
           15620766
          ],
          "sizemode": "area",
          "sizeref": 200000
         },
         "mode": "markers",
         "name": "Americas",
         "text": [
          "Argentina",
          "Bolivia",
          "Brazil",
          "Canada",
          "Chile",
          "Colombia",
          "Costa Rica",
          "Cuba",
          "Dominican Republic",
          "Ecuador",
          "El Salvador",
          "Guatemala",
          "Haiti",
          "Honduras",
          "Jamaica",
          "Mexico",
          "Nicaragua",
          "Panama",
          "Paraguay",
          "Peru",
          "Puerto Rico",
          "Trinidad and Tobago",
          "United States",
          "Uruguay",
          "Venezuela"
         ],
         "type": "scatter",
         "uid": "182026d0-2ef8-48c7-a094-c1543c014d2b",
         "x": {
          "dtype": "float64",
          "shape": [
           25
          ]
         },
         "y": {
          "dtype": "float64",
          "shape": [
           25
          ]
         }
        },
        {
         "marker": {
          "size": [
           12881816,
           377967,
           93074406,
           7272485,
           1000281000,
           5264500,
           708000000,
           153343000,
           43072751,
           14173318,
           3858421,
           118454974,
           2347031,
           17647518,
           39326000,
           1497494,
           3086876,
           14441916,
           1756032,
           34680442,
           15796314,
           1301048,
           91462088,
           53456774,
           11254672,
           2651869,
           15410151,
           9410494,
           18501390,
           48827160,
           56142181,
           1425876,
           9657618
          ],
          "sizemode": "area",
          "sizeref": 200000
         },
         "mode": "markers",
         "name": "Asia",
         "text": [
          "Afghanistan",
          "Bahrain",
          "Bangladesh",
          "Cambodia",
          "China",
          "Hong Kong, China",
          "India",
          "Indonesia",
          "Iran",
          "Iraq",
          "Israel",
          "Japan",
          "Jordan",
          "Korea, Dem. Rep.",
          "Korea, Rep.",
          "Kuwait",
          "Lebanon",
          "Malaysia",
          "Mongolia",
          "Myanmar",
          "Nepal",
          "Oman",
          "Pakistan",
          "Philippines",
          "Saudi Arabia",
          "Singapore",
          "Sri Lanka",
          "Syria",
          "Taiwan",
          "Thailand",
          "Vietnam",
          "West Bank and Gaza",
          "Yemen, Rep."
         ],
         "type": "scatter",
         "uid": "3ff62220-3109-4fb1-b761-8280fd069148",
         "x": {
          "dtype": "float64",
          "shape": [
           33
          ]
         },
         "y": {
          "dtype": "float64",
          "shape": [
           33
          ]
         }
        },
        {
         "marker": {
          "size": [
           2780097,
           7574613,
           9856303,
           4172693,
           8892098,
           4413368,
           10303704,
           5117810,
           4826933,
           54433565,
           78335266,
           9786480,
           10705535,
           233997,
           3480000,
           56535636,
           562548,
           14310401,
           4114787,
           36227381,
           9859650,
           22356726,
           9032824,
           5048043,
           1861252,
           37983310,
           8325260,
           6468126,
           47328791,
           56339704
          ],
          "sizemode": "area",
          "sizeref": 200000
         },
         "mode": "markers",
         "name": "Europe",
         "text": [
          "Albania",
          "Austria",
          "Belgium",
          "Bosnia and Herzegovina",
          "Bulgaria",
          "Croatia",
          "Czech Republic",
          "Denmark",
          "Finland",
          "France",
          "Germany",
          "Greece",
          "Hungary",
          "Iceland",
          "Ireland",
          "Italy",
          "Montenegro",
          "Netherlands",
          "Norway",
          "Poland",
          "Portugal",
          "Romania",
          "Serbia",
          "Slovak Republic",
          "Slovenia",
          "Spain",
          "Sweden",
          "Switzerland",
          "Turkey",
          "United Kingdom"
         ],
         "type": "scatter",
         "uid": "c9a4ef92-12b9-46b6-a745-90ff3b5535a4",
         "x": {
          "dtype": "float64",
          "shape": [
           30
          ]
         },
         "y": {
          "dtype": "float64",
          "shape": [
           30
          ]
         }
        },
        {
         "marker": {
          "size": [
           15184200,
           3210650
          ],
          "sizemode": "area",
          "sizeref": 200000
         },
         "mode": "markers",
         "name": "Oceania",
         "text": [
          "Australia",
          "New Zealand"
         ],
         "type": "scatter",
         "uid": "9a3b43db-298f-444c-b521-87e459db6f35",
         "x": {
          "dtype": "float64",
          "shape": [
           2
          ]
         },
         "y": {
          "dtype": "float64",
          "shape": [
           2
          ]
         }
        }
       ],
       "_js2py_pointsCallback": {},
       "_js2py_relayout": {},
       "_js2py_restyle": {},
       "_js2py_update": {},
       "_last_layout_edit_id": 1,
       "_layout": {
        "height": 700,
        "template": {
         "data": {
          "bar": [
           {
            "marker": {
             "autocolorscale": false,
             "colorbar": {
              "outlinewidth": 0,
              "tickcolor": "rgb(36,36,36)",
              "ticklen": 8,
              "ticks": "outside",
              "tickwidth": 2
             },
             "colorscale": [
              [
               0,
               "rgb(2,4,25)"
              ],
              [
               0.06274509803921569,
               "rgb(24,15,41)"
              ],
              [
               0.12549019607843137,
               "rgb(47,23,57)"
              ],
              [
               0.18823529411764706,
               "rgb(71,28,72)"
              ],
              [
               0.25098039215686274,
               "rgb(97,30,82)"
              ],
              [
               0.3137254901960784,
               "rgb(123,30,89)"
              ],
              [
               0.3764705882352941,
               "rgb(150,27,91)"
              ],
              [
               0.4392156862745098,
               "rgb(177,22,88)"
              ],
              [
               0.5019607843137255,
               "rgb(203,26,79)"
              ],
              [
               0.5647058823529412,
               "rgb(223,47,67)"
              ],
              [
               0.6274509803921569,
               "rgb(236,76,61)"
              ],
              [
               0.6901960784313725,
               "rgb(242,107,73)"
              ],
              [
               0.7529411764705882,
               "rgb(244,135,95)"
              ],
              [
               0.8156862745098039,
               "rgb(245,162,122)"
              ],
              [
               0.8784313725490196,
               "rgb(246,188,153)"
              ],
              [
               0.9411764705882353,
               "rgb(247,212,187)"
              ],
              [
               1,
               "rgb(250,234,220)"
              ]
             ],
             "line": {
              "autocolorscale": false,
              "colorscale": [
               [
                0,
                "rgb(2,4,25)"
               ],
               [
                0.06274509803921569,
                "rgb(24,15,41)"
               ],
               [
                0.12549019607843137,
                "rgb(47,23,57)"
               ],
               [
                0.18823529411764706,
                "rgb(71,28,72)"
               ],
               [
                0.25098039215686274,
                "rgb(97,30,82)"
               ],
               [
                0.3137254901960784,
                "rgb(123,30,89)"
               ],
               [
                0.3764705882352941,
                "rgb(150,27,91)"
               ],
               [
                0.4392156862745098,
                "rgb(177,22,88)"
               ],
               [
                0.5019607843137255,
                "rgb(203,26,79)"
               ],
               [
                0.5647058823529412,
                "rgb(223,47,67)"
               ],
               [
                0.6274509803921569,
                "rgb(236,76,61)"
               ],
               [
                0.6901960784313725,
                "rgb(242,107,73)"
               ],
               [
                0.7529411764705882,
                "rgb(244,135,95)"
               ],
               [
                0.8156862745098039,
                "rgb(245,162,122)"
               ],
               [
                0.8784313725490196,
                "rgb(246,188,153)"
               ],
               [
                0.9411764705882353,
                "rgb(247,212,187)"
               ],
               [
                1,
                "rgb(250,234,220)"
               ]
              ]
             }
            },
            "type": "bar"
           }
          ],
          "carpet": [
           {
            "aaxis": {
             "endlinecolor": "rgb(36,36,36)",
             "gridcolor": "white",
             "linecolor": "white",
             "minorgridcolor": "white",
             "startlinecolor": "rgb(36,36,36)"
            },
            "baxis": {
             "endlinecolor": "rgb(36,36,36)",
             "gridcolor": "white",
             "linecolor": "white",
             "minorgridcolor": "white",
             "startlinecolor": "rgb(36,36,36)"
            },
            "type": "carpet"
           }
          ],
          "choropleth": [
           {
            "autocolorscale": false,
            "colorbar": {
             "outlinewidth": 0,
             "tickcolor": "rgb(36,36,36)",
             "ticklen": 8,
             "ticks": "outside",
             "tickwidth": 2
            },
            "colorscale": [
             [
              0,
              "rgb(2,4,25)"
             ],
             [
              0.06274509803921569,
              "rgb(24,15,41)"
             ],
             [
              0.12549019607843137,
              "rgb(47,23,57)"
             ],
             [
              0.18823529411764706,
              "rgb(71,28,72)"
             ],
             [
              0.25098039215686274,
              "rgb(97,30,82)"
             ],
             [
              0.3137254901960784,
              "rgb(123,30,89)"
             ],
             [
              0.3764705882352941,
              "rgb(150,27,91)"
             ],
             [
              0.4392156862745098,
              "rgb(177,22,88)"
             ],
             [
              0.5019607843137255,
              "rgb(203,26,79)"
             ],
             [
              0.5647058823529412,
              "rgb(223,47,67)"
             ],
             [
              0.6274509803921569,
              "rgb(236,76,61)"
             ],
             [
              0.6901960784313725,
              "rgb(242,107,73)"
             ],
             [
              0.7529411764705882,
              "rgb(244,135,95)"
             ],
             [
              0.8156862745098039,
              "rgb(245,162,122)"
             ],
             [
              0.8784313725490196,
              "rgb(246,188,153)"
             ],
             [
              0.9411764705882353,
              "rgb(247,212,187)"
             ],
             [
              1,
              "rgb(250,234,220)"
             ]
            ],
            "type": "choropleth"
           }
          ],
          "contour": [
           {
            "autocolorscale": false,
            "colorbar": {
             "outlinewidth": 0,
             "tickcolor": "rgb(36,36,36)",
             "ticklen": 8,
             "ticks": "outside",
             "tickwidth": 2
            },
            "colorscale": [
             [
              0,
              "rgb(2,4,25)"
             ],
             [
              0.06274509803921569,
              "rgb(24,15,41)"
             ],
             [
              0.12549019607843137,
              "rgb(47,23,57)"
             ],
             [
              0.18823529411764706,
              "rgb(71,28,72)"
             ],
             [
              0.25098039215686274,
              "rgb(97,30,82)"
             ],
             [
              0.3137254901960784,
              "rgb(123,30,89)"
             ],
             [
              0.3764705882352941,
              "rgb(150,27,91)"
             ],
             [
              0.4392156862745098,
              "rgb(177,22,88)"
             ],
             [
              0.5019607843137255,
              "rgb(203,26,79)"
             ],
             [
              0.5647058823529412,
              "rgb(223,47,67)"
             ],
             [
              0.6274509803921569,
              "rgb(236,76,61)"
             ],
             [
              0.6901960784313725,
              "rgb(242,107,73)"
             ],
             [
              0.7529411764705882,
              "rgb(244,135,95)"
             ],
             [
              0.8156862745098039,
              "rgb(245,162,122)"
             ],
             [
              0.8784313725490196,
              "rgb(246,188,153)"
             ],
             [
              0.9411764705882353,
              "rgb(247,212,187)"
             ],
             [
              1,
              "rgb(250,234,220)"
             ]
            ],
            "type": "contour"
           }
          ],
          "contourcarpet": [
           {
            "autocolorscale": false,
            "colorbar": {
             "outlinewidth": 0,
             "tickcolor": "rgb(36,36,36)",
             "ticklen": 8,
             "ticks": "outside",
             "tickwidth": 2
            },
            "colorscale": [
             [
              0,
              "rgb(2,4,25)"
             ],
             [
              0.06274509803921569,
              "rgb(24,15,41)"
             ],
             [
              0.12549019607843137,
              "rgb(47,23,57)"
             ],
             [
              0.18823529411764706,
              "rgb(71,28,72)"
             ],
             [
              0.25098039215686274,
              "rgb(97,30,82)"
             ],
             [
              0.3137254901960784,
              "rgb(123,30,89)"
             ],
             [
              0.3764705882352941,
              "rgb(150,27,91)"
             ],
             [
              0.4392156862745098,
              "rgb(177,22,88)"
             ],
             [
              0.5019607843137255,
              "rgb(203,26,79)"
             ],
             [
              0.5647058823529412,
              "rgb(223,47,67)"
             ],
             [
              0.6274509803921569,
              "rgb(236,76,61)"
             ],
             [
              0.6901960784313725,
              "rgb(242,107,73)"
             ],
             [
              0.7529411764705882,
              "rgb(244,135,95)"
             ],
             [
              0.8156862745098039,
              "rgb(245,162,122)"
             ],
             [
              0.8784313725490196,
              "rgb(246,188,153)"
             ],
             [
              0.9411764705882353,
              "rgb(247,212,187)"
             ],
             [
              1,
              "rgb(250,234,220)"
             ]
            ],
            "type": "contourcarpet"
           }
          ],
          "heatmap": [
           {
            "autocolorscale": false,
            "colorbar": {
             "outlinewidth": 0,
             "tickcolor": "rgb(36,36,36)",
             "ticklen": 8,
             "ticks": "outside",
             "tickwidth": 2
            },
            "colorscale": [
             [
              0,
              "rgb(2,4,25)"
             ],
             [
              0.06274509803921569,
              "rgb(24,15,41)"
             ],
             [
              0.12549019607843137,
              "rgb(47,23,57)"
             ],
             [
              0.18823529411764706,
              "rgb(71,28,72)"
             ],
             [
              0.25098039215686274,
              "rgb(97,30,82)"
             ],
             [
              0.3137254901960784,
              "rgb(123,30,89)"
             ],
             [
              0.3764705882352941,
              "rgb(150,27,91)"
             ],
             [
              0.4392156862745098,
              "rgb(177,22,88)"
             ],
             [
              0.5019607843137255,
              "rgb(203,26,79)"
             ],
             [
              0.5647058823529412,
              "rgb(223,47,67)"
             ],
             [
              0.6274509803921569,
              "rgb(236,76,61)"
             ],
             [
              0.6901960784313725,
              "rgb(242,107,73)"
             ],
             [
              0.7529411764705882,
              "rgb(244,135,95)"
             ],
             [
              0.8156862745098039,
              "rgb(245,162,122)"
             ],
             [
              0.8784313725490196,
              "rgb(246,188,153)"
             ],
             [
              0.9411764705882353,
              "rgb(247,212,187)"
             ],
             [
              1,
              "rgb(250,234,220)"
             ]
            ],
            "type": "heatmap"
           }
          ],
          "heatmapgl": [
           {
            "autocolorscale": false,
            "colorbar": {
             "outlinewidth": 0,
             "tickcolor": "rgb(36,36,36)",
             "ticklen": 8,
             "ticks": "outside",
             "tickwidth": 2
            },
            "colorscale": [
             [
              0,
              "rgb(2,4,25)"
             ],
             [
              0.06274509803921569,
              "rgb(24,15,41)"
             ],
             [
              0.12549019607843137,
              "rgb(47,23,57)"
             ],
             [
              0.18823529411764706,
              "rgb(71,28,72)"
             ],
             [
              0.25098039215686274,
              "rgb(97,30,82)"
             ],
             [
              0.3137254901960784,
              "rgb(123,30,89)"
             ],
             [
              0.3764705882352941,
              "rgb(150,27,91)"
             ],
             [
              0.4392156862745098,
              "rgb(177,22,88)"
             ],
             [
              0.5019607843137255,
              "rgb(203,26,79)"
             ],
             [
              0.5647058823529412,
              "rgb(223,47,67)"
             ],
             [
              0.6274509803921569,
              "rgb(236,76,61)"
             ],
             [
              0.6901960784313725,
              "rgb(242,107,73)"
             ],
             [
              0.7529411764705882,
              "rgb(244,135,95)"
             ],
             [
              0.8156862745098039,
              "rgb(245,162,122)"
             ],
             [
              0.8784313725490196,
              "rgb(246,188,153)"
             ],
             [
              0.9411764705882353,
              "rgb(247,212,187)"
             ],
             [
              1,
              "rgb(250,234,220)"
             ]
            ],
            "type": "heatmapgl"
           }
          ],
          "histogram": [
           {
            "marker": {
             "autocolorscale": false,
             "colorbar": {
              "outlinewidth": 0,
              "tickcolor": "rgb(36,36,36)",
              "ticklen": 8,
              "ticks": "outside",
              "tickwidth": 2
             },
             "colorscale": [
              [
               0,
               "rgb(2,4,25)"
              ],
              [
               0.06274509803921569,
               "rgb(24,15,41)"
              ],
              [
               0.12549019607843137,
               "rgb(47,23,57)"
              ],
              [
               0.18823529411764706,
               "rgb(71,28,72)"
              ],
              [
               0.25098039215686274,
               "rgb(97,30,82)"
              ],
              [
               0.3137254901960784,
               "rgb(123,30,89)"
              ],
              [
               0.3764705882352941,
               "rgb(150,27,91)"
              ],
              [
               0.4392156862745098,
               "rgb(177,22,88)"
              ],
              [
               0.5019607843137255,
               "rgb(203,26,79)"
              ],
              [
               0.5647058823529412,
               "rgb(223,47,67)"
              ],
              [
               0.6274509803921569,
               "rgb(236,76,61)"
              ],
              [
               0.6901960784313725,
               "rgb(242,107,73)"
              ],
              [
               0.7529411764705882,
               "rgb(244,135,95)"
              ],
              [
               0.8156862745098039,
               "rgb(245,162,122)"
              ],
              [
               0.8784313725490196,
               "rgb(246,188,153)"
              ],
              [
               0.9411764705882353,
               "rgb(247,212,187)"
              ],
              [
               1,
               "rgb(250,234,220)"
              ]
             ]
            },
            "type": "histogram"
           }
          ],
          "histogram2d": [
           {
            "autocolorscale": false,
            "colorbar": {
             "outlinewidth": 0,
             "tickcolor": "rgb(36,36,36)",
             "ticklen": 8,
             "ticks": "outside",
             "tickwidth": 2
            },
            "colorscale": [
             [
              0,
              "rgb(2,4,25)"
             ],
             [
              0.06274509803921569,
              "rgb(24,15,41)"
             ],
             [
              0.12549019607843137,
              "rgb(47,23,57)"
             ],
             [
              0.18823529411764706,
              "rgb(71,28,72)"
             ],
             [
              0.25098039215686274,
              "rgb(97,30,82)"
             ],
             [
              0.3137254901960784,
              "rgb(123,30,89)"
             ],
             [
              0.3764705882352941,
              "rgb(150,27,91)"
             ],
             [
              0.4392156862745098,
              "rgb(177,22,88)"
             ],
             [
              0.5019607843137255,
              "rgb(203,26,79)"
             ],
             [
              0.5647058823529412,
              "rgb(223,47,67)"
             ],
             [
              0.6274509803921569,
              "rgb(236,76,61)"
             ],
             [
              0.6901960784313725,
              "rgb(242,107,73)"
             ],
             [
              0.7529411764705882,
              "rgb(244,135,95)"
             ],
             [
              0.8156862745098039,
              "rgb(245,162,122)"
             ],
             [
              0.8784313725490196,
              "rgb(246,188,153)"
             ],
             [
              0.9411764705882353,
              "rgb(247,212,187)"
             ],
             [
              1,
              "rgb(250,234,220)"
             ]
            ],
            "type": "histogram2d"
           }
          ],
          "histogram2dcontour": [
           {
            "autocolorscale": false,
            "colorbar": {
             "outlinewidth": 0,
             "tickcolor": "rgb(36,36,36)",
             "ticklen": 8,
             "ticks": "outside",
             "tickwidth": 2
            },
            "colorscale": [
             [
              0,
              "rgb(2,4,25)"
             ],
             [
              0.06274509803921569,
              "rgb(24,15,41)"
             ],
             [
              0.12549019607843137,
              "rgb(47,23,57)"
             ],
             [
              0.18823529411764706,
              "rgb(71,28,72)"
             ],
             [
              0.25098039215686274,
              "rgb(97,30,82)"
             ],
             [
              0.3137254901960784,
              "rgb(123,30,89)"
             ],
             [
              0.3764705882352941,
              "rgb(150,27,91)"
             ],
             [
              0.4392156862745098,
              "rgb(177,22,88)"
             ],
             [
              0.5019607843137255,
              "rgb(203,26,79)"
             ],
             [
              0.5647058823529412,
              "rgb(223,47,67)"
             ],
             [
              0.6274509803921569,
              "rgb(236,76,61)"
             ],
             [
              0.6901960784313725,
              "rgb(242,107,73)"
             ],
             [
              0.7529411764705882,
              "rgb(244,135,95)"
             ],
             [
              0.8156862745098039,
              "rgb(245,162,122)"
             ],
             [
              0.8784313725490196,
              "rgb(246,188,153)"
             ],
             [
              0.9411764705882353,
              "rgb(247,212,187)"
             ],
             [
              1,
              "rgb(250,234,220)"
             ]
            ],
            "type": "histogram2dcontour"
           }
          ],
          "mesh3d": [
           {
            "autocolorscale": false,
            "colorbar": {
             "outlinewidth": 0,
             "tickcolor": "rgb(36,36,36)",
             "ticklen": 8,
             "ticks": "outside",
             "tickwidth": 2
            },
            "colorscale": [
             [
              0,
              "rgb(2,4,25)"
             ],
             [
              0.06274509803921569,
              "rgb(24,15,41)"
             ],
             [
              0.12549019607843137,
              "rgb(47,23,57)"
             ],
             [
              0.18823529411764706,
              "rgb(71,28,72)"
             ],
             [
              0.25098039215686274,
              "rgb(97,30,82)"
             ],
             [
              0.3137254901960784,
              "rgb(123,30,89)"
             ],
             [
              0.3764705882352941,
              "rgb(150,27,91)"
             ],
             [
              0.4392156862745098,
              "rgb(177,22,88)"
             ],
             [
              0.5019607843137255,
              "rgb(203,26,79)"
             ],
             [
              0.5647058823529412,
              "rgb(223,47,67)"
             ],
             [
              0.6274509803921569,
              "rgb(236,76,61)"
             ],
             [
              0.6901960784313725,
              "rgb(242,107,73)"
             ],
             [
              0.7529411764705882,
              "rgb(244,135,95)"
             ],
             [
              0.8156862745098039,
              "rgb(245,162,122)"
             ],
             [
              0.8784313725490196,
              "rgb(246,188,153)"
             ],
             [
              0.9411764705882353,
              "rgb(247,212,187)"
             ],
             [
              1,
              "rgb(250,234,220)"
             ]
            ],
            "type": "mesh3d"
           }
          ],
          "parcoords": [
           {
            "line": {
             "autocolorscale": false,
             "colorbar": {
              "outlinewidth": 0,
              "tickcolor": "rgb(36,36,36)",
              "ticklen": 8,
              "ticks": "outside",
              "tickwidth": 2
             },
             "colorscale": [
              [
               0,
               "rgb(2,4,25)"
              ],
              [
               0.06274509803921569,
               "rgb(24,15,41)"
              ],
              [
               0.12549019607843137,
               "rgb(47,23,57)"
              ],
              [
               0.18823529411764706,
               "rgb(71,28,72)"
              ],
              [
               0.25098039215686274,
               "rgb(97,30,82)"
              ],
              [
               0.3137254901960784,
               "rgb(123,30,89)"
              ],
              [
               0.3764705882352941,
               "rgb(150,27,91)"
              ],
              [
               0.4392156862745098,
               "rgb(177,22,88)"
              ],
              [
               0.5019607843137255,
               "rgb(203,26,79)"
              ],
              [
               0.5647058823529412,
               "rgb(223,47,67)"
              ],
              [
               0.6274509803921569,
               "rgb(236,76,61)"
              ],
              [
               0.6901960784313725,
               "rgb(242,107,73)"
              ],
              [
               0.7529411764705882,
               "rgb(244,135,95)"
              ],
              [
               0.8156862745098039,
               "rgb(245,162,122)"
              ],
              [
               0.8784313725490196,
               "rgb(246,188,153)"
              ],
              [
               0.9411764705882353,
               "rgb(247,212,187)"
              ],
              [
               1,
               "rgb(250,234,220)"
              ]
             ]
            },
            "type": "parcoords"
           }
          ],
          "scatter": [
           {
            "marker": {
             "autocolorscale": false,
             "colorbar": {
              "outlinewidth": 0,
              "tickcolor": "rgb(36,36,36)",
              "ticklen": 8,
              "ticks": "outside",
              "tickwidth": 2
             },
             "colorscale": [
              [
               0,
               "rgb(2,4,25)"
              ],
              [
               0.06274509803921569,
               "rgb(24,15,41)"
              ],
              [
               0.12549019607843137,
               "rgb(47,23,57)"
              ],
              [
               0.18823529411764706,
               "rgb(71,28,72)"
              ],
              [
               0.25098039215686274,
               "rgb(97,30,82)"
              ],
              [
               0.3137254901960784,
               "rgb(123,30,89)"
              ],
              [
               0.3764705882352941,
               "rgb(150,27,91)"
              ],
              [
               0.4392156862745098,
               "rgb(177,22,88)"
              ],
              [
               0.5019607843137255,
               "rgb(203,26,79)"
              ],
              [
               0.5647058823529412,
               "rgb(223,47,67)"
              ],
              [
               0.6274509803921569,
               "rgb(236,76,61)"
              ],
              [
               0.6901960784313725,
               "rgb(242,107,73)"
              ],
              [
               0.7529411764705882,
               "rgb(244,135,95)"
              ],
              [
               0.8156862745098039,
               "rgb(245,162,122)"
              ],
              [
               0.8784313725490196,
               "rgb(246,188,153)"
              ],
              [
               0.9411764705882353,
               "rgb(247,212,187)"
              ],
              [
               1,
               "rgb(250,234,220)"
              ]
             ],
             "line": {
              "autocolorscale": false,
              "colorscale": [
               [
                0,
                "rgb(2,4,25)"
               ],
               [
                0.06274509803921569,
                "rgb(24,15,41)"
               ],
               [
                0.12549019607843137,
                "rgb(47,23,57)"
               ],
               [
                0.18823529411764706,
                "rgb(71,28,72)"
               ],
               [
                0.25098039215686274,
                "rgb(97,30,82)"
               ],
               [
                0.3137254901960784,
                "rgb(123,30,89)"
               ],
               [
                0.3764705882352941,
                "rgb(150,27,91)"
               ],
               [
                0.4392156862745098,
                "rgb(177,22,88)"
               ],
               [
                0.5019607843137255,
                "rgb(203,26,79)"
               ],
               [
                0.5647058823529412,
                "rgb(223,47,67)"
               ],
               [
                0.6274509803921569,
                "rgb(236,76,61)"
               ],
               [
                0.6901960784313725,
                "rgb(242,107,73)"
               ],
               [
                0.7529411764705882,
                "rgb(244,135,95)"
               ],
               [
                0.8156862745098039,
                "rgb(245,162,122)"
               ],
               [
                0.8784313725490196,
                "rgb(246,188,153)"
               ],
               [
                0.9411764705882353,
                "rgb(247,212,187)"
               ],
               [
                1,
                "rgb(250,234,220)"
               ]
              ]
             }
            },
            "type": "scatter"
           }
          ],
          "scatter3d": [
           {
            "line": {
             "autocolorscale": false,
             "colorscale": [
              [
               0,
               "rgb(2,4,25)"
              ],
              [
               0.06274509803921569,
               "rgb(24,15,41)"
              ],
              [
               0.12549019607843137,
               "rgb(47,23,57)"
              ],
              [
               0.18823529411764706,
               "rgb(71,28,72)"
              ],
              [
               0.25098039215686274,
               "rgb(97,30,82)"
              ],
              [
               0.3137254901960784,
               "rgb(123,30,89)"
              ],
              [
               0.3764705882352941,
               "rgb(150,27,91)"
              ],
              [
               0.4392156862745098,
               "rgb(177,22,88)"
              ],
              [
               0.5019607843137255,
               "rgb(203,26,79)"
              ],
              [
               0.5647058823529412,
               "rgb(223,47,67)"
              ],
              [
               0.6274509803921569,
               "rgb(236,76,61)"
              ],
              [
               0.6901960784313725,
               "rgb(242,107,73)"
              ],
              [
               0.7529411764705882,
               "rgb(244,135,95)"
              ],
              [
               0.8156862745098039,
               "rgb(245,162,122)"
              ],
              [
               0.8784313725490196,
               "rgb(246,188,153)"
              ],
              [
               0.9411764705882353,
               "rgb(247,212,187)"
              ],
              [
               1,
               "rgb(250,234,220)"
              ]
             ]
            },
            "marker": {
             "autocolorscale": false,
             "colorbar": {
              "outlinewidth": 0,
              "tickcolor": "rgb(36,36,36)",
              "ticklen": 8,
              "ticks": "outside",
              "tickwidth": 2
             },
             "colorscale": [
              [
               0,
               "rgb(2,4,25)"
              ],
              [
               0.06274509803921569,
               "rgb(24,15,41)"
              ],
              [
               0.12549019607843137,
               "rgb(47,23,57)"
              ],
              [
               0.18823529411764706,
               "rgb(71,28,72)"
              ],
              [
               0.25098039215686274,
               "rgb(97,30,82)"
              ],
              [
               0.3137254901960784,
               "rgb(123,30,89)"
              ],
              [
               0.3764705882352941,
               "rgb(150,27,91)"
              ],
              [
               0.4392156862745098,
               "rgb(177,22,88)"
              ],
              [
               0.5019607843137255,
               "rgb(203,26,79)"
              ],
              [
               0.5647058823529412,
               "rgb(223,47,67)"
              ],
              [
               0.6274509803921569,
               "rgb(236,76,61)"
              ],
              [
               0.6901960784313725,
               "rgb(242,107,73)"
              ],
              [
               0.7529411764705882,
               "rgb(244,135,95)"
              ],
              [
               0.8156862745098039,
               "rgb(245,162,122)"
              ],
              [
               0.8784313725490196,
               "rgb(246,188,153)"
              ],
              [
               0.9411764705882353,
               "rgb(247,212,187)"
              ],
              [
               1,
               "rgb(250,234,220)"
              ]
             ]
            },
            "type": "scatter3d"
           }
          ],
          "scattercarpet": [
           {
            "marker": {
             "autocolorscale": false,
             "colorbar": {
              "outlinewidth": 0,
              "tickcolor": "rgb(36,36,36)",
              "ticklen": 8,
              "ticks": "outside",
              "tickwidth": 2
             },
             "colorscale": [
              [
               0,
               "rgb(2,4,25)"
              ],
              [
               0.06274509803921569,
               "rgb(24,15,41)"
              ],
              [
               0.12549019607843137,
               "rgb(47,23,57)"
              ],
              [
               0.18823529411764706,
               "rgb(71,28,72)"
              ],
              [
               0.25098039215686274,
               "rgb(97,30,82)"
              ],
              [
               0.3137254901960784,
               "rgb(123,30,89)"
              ],
              [
               0.3764705882352941,
               "rgb(150,27,91)"
              ],
              [
               0.4392156862745098,
               "rgb(177,22,88)"
              ],
              [
               0.5019607843137255,
               "rgb(203,26,79)"
              ],
              [
               0.5647058823529412,
               "rgb(223,47,67)"
              ],
              [
               0.6274509803921569,
               "rgb(236,76,61)"
              ],
              [
               0.6901960784313725,
               "rgb(242,107,73)"
              ],
              [
               0.7529411764705882,
               "rgb(244,135,95)"
              ],
              [
               0.8156862745098039,
               "rgb(245,162,122)"
              ],
              [
               0.8784313725490196,
               "rgb(246,188,153)"
              ],
              [
               0.9411764705882353,
               "rgb(247,212,187)"
              ],
              [
               1,
               "rgb(250,234,220)"
              ]
             ]
            },
            "type": "scattercarpet"
           }
          ],
          "scattergeo": [
           {
            "marker": {
             "autocolorscale": false,
             "colorbar": {
              "outlinewidth": 0,
              "tickcolor": "rgb(36,36,36)",
              "ticklen": 8,
              "ticks": "outside",
              "tickwidth": 2
             },
             "colorscale": [
              [
               0,
               "rgb(2,4,25)"
              ],
              [
               0.06274509803921569,
               "rgb(24,15,41)"
              ],
              [
               0.12549019607843137,
               "rgb(47,23,57)"
              ],
              [
               0.18823529411764706,
               "rgb(71,28,72)"
              ],
              [
               0.25098039215686274,
               "rgb(97,30,82)"
              ],
              [
               0.3137254901960784,
               "rgb(123,30,89)"
              ],
              [
               0.3764705882352941,
               "rgb(150,27,91)"
              ],
              [
               0.4392156862745098,
               "rgb(177,22,88)"
              ],
              [
               0.5019607843137255,
               "rgb(203,26,79)"
              ],
              [
               0.5647058823529412,
               "rgb(223,47,67)"
              ],
              [
               0.6274509803921569,
               "rgb(236,76,61)"
              ],
              [
               0.6901960784313725,
               "rgb(242,107,73)"
              ],
              [
               0.7529411764705882,
               "rgb(244,135,95)"
              ],
              [
               0.8156862745098039,
               "rgb(245,162,122)"
              ],
              [
               0.8784313725490196,
               "rgb(246,188,153)"
              ],
              [
               0.9411764705882353,
               "rgb(247,212,187)"
              ],
              [
               1,
               "rgb(250,234,220)"
              ]
             ]
            },
            "type": "scattergeo"
           }
          ],
          "scattergl": [
           {
            "marker": {
             "autocolorscale": false,
             "colorbar": {
              "outlinewidth": 0,
              "tickcolor": "rgb(36,36,36)",
              "ticklen": 8,
              "ticks": "outside",
              "tickwidth": 2
             },
             "colorscale": [
              [
               0,
               "rgb(2,4,25)"
              ],
              [
               0.06274509803921569,
               "rgb(24,15,41)"
              ],
              [
               0.12549019607843137,
               "rgb(47,23,57)"
              ],
              [
               0.18823529411764706,
               "rgb(71,28,72)"
              ],
              [
               0.25098039215686274,
               "rgb(97,30,82)"
              ],
              [
               0.3137254901960784,
               "rgb(123,30,89)"
              ],
              [
               0.3764705882352941,
               "rgb(150,27,91)"
              ],
              [
               0.4392156862745098,
               "rgb(177,22,88)"
              ],
              [
               0.5019607843137255,
               "rgb(203,26,79)"
              ],
              [
               0.5647058823529412,
               "rgb(223,47,67)"
              ],
              [
               0.6274509803921569,
               "rgb(236,76,61)"
              ],
              [
               0.6901960784313725,
               "rgb(242,107,73)"
              ],
              [
               0.7529411764705882,
               "rgb(244,135,95)"
              ],
              [
               0.8156862745098039,
               "rgb(245,162,122)"
              ],
              [
               0.8784313725490196,
               "rgb(246,188,153)"
              ],
              [
               0.9411764705882353,
               "rgb(247,212,187)"
              ],
              [
               1,
               "rgb(250,234,220)"
              ]
             ]
            },
            "type": "scattergl"
           }
          ],
          "scattermapbox": [
           {
            "marker": {
             "autocolorscale": false,
             "colorbar": {
              "outlinewidth": 0,
              "tickcolor": "rgb(36,36,36)",
              "ticklen": 8,
              "ticks": "outside",
              "tickwidth": 2
             },
             "colorscale": [
              [
               0,
               "rgb(2,4,25)"
              ],
              [
               0.06274509803921569,
               "rgb(24,15,41)"
              ],
              [
               0.12549019607843137,
               "rgb(47,23,57)"
              ],
              [
               0.18823529411764706,
               "rgb(71,28,72)"
              ],
              [
               0.25098039215686274,
               "rgb(97,30,82)"
              ],
              [
               0.3137254901960784,
               "rgb(123,30,89)"
              ],
              [
               0.3764705882352941,
               "rgb(150,27,91)"
              ],
              [
               0.4392156862745098,
               "rgb(177,22,88)"
              ],
              [
               0.5019607843137255,
               "rgb(203,26,79)"
              ],
              [
               0.5647058823529412,
               "rgb(223,47,67)"
              ],
              [
               0.6274509803921569,
               "rgb(236,76,61)"
              ],
              [
               0.6901960784313725,
               "rgb(242,107,73)"
              ],
              [
               0.7529411764705882,
               "rgb(244,135,95)"
              ],
              [
               0.8156862745098039,
               "rgb(245,162,122)"
              ],
              [
               0.8784313725490196,
               "rgb(246,188,153)"
              ],
              [
               0.9411764705882353,
               "rgb(247,212,187)"
              ],
              [
               1,
               "rgb(250,234,220)"
              ]
             ]
            },
            "type": "scattermapbox"
           }
          ],
          "scatterpolar": [
           {
            "marker": {
             "autocolorscale": false,
             "colorbar": {
              "outlinewidth": 0,
              "tickcolor": "rgb(36,36,36)",
              "ticklen": 8,
              "ticks": "outside",
              "tickwidth": 2
             },
             "colorscale": [
              [
               0,
               "rgb(2,4,25)"
              ],
              [
               0.06274509803921569,
               "rgb(24,15,41)"
              ],
              [
               0.12549019607843137,
               "rgb(47,23,57)"
              ],
              [
               0.18823529411764706,
               "rgb(71,28,72)"
              ],
              [
               0.25098039215686274,
               "rgb(97,30,82)"
              ],
              [
               0.3137254901960784,
               "rgb(123,30,89)"
              ],
              [
               0.3764705882352941,
               "rgb(150,27,91)"
              ],
              [
               0.4392156862745098,
               "rgb(177,22,88)"
              ],
              [
               0.5019607843137255,
               "rgb(203,26,79)"
              ],
              [
               0.5647058823529412,
               "rgb(223,47,67)"
              ],
              [
               0.6274509803921569,
               "rgb(236,76,61)"
              ],
              [
               0.6901960784313725,
               "rgb(242,107,73)"
              ],
              [
               0.7529411764705882,
               "rgb(244,135,95)"
              ],
              [
               0.8156862745098039,
               "rgb(245,162,122)"
              ],
              [
               0.8784313725490196,
               "rgb(246,188,153)"
              ],
              [
               0.9411764705882353,
               "rgb(247,212,187)"
              ],
              [
               1,
               "rgb(250,234,220)"
              ]
             ]
            },
            "type": "scatterpolar"
           }
          ],
          "scatterpolargl": [
           {
            "marker": {
             "autocolorscale": false,
             "colorbar": {
              "outlinewidth": 0,
              "tickcolor": "rgb(36,36,36)",
              "ticklen": 8,
              "ticks": "outside",
              "tickwidth": 2
             },
             "colorscale": [
              [
               0,
               "rgb(2,4,25)"
              ],
              [
               0.06274509803921569,
               "rgb(24,15,41)"
              ],
              [
               0.12549019607843137,
               "rgb(47,23,57)"
              ],
              [
               0.18823529411764706,
               "rgb(71,28,72)"
              ],
              [
               0.25098039215686274,
               "rgb(97,30,82)"
              ],
              [
               0.3137254901960784,
               "rgb(123,30,89)"
              ],
              [
               0.3764705882352941,
               "rgb(150,27,91)"
              ],
              [
               0.4392156862745098,
               "rgb(177,22,88)"
              ],
              [
               0.5019607843137255,
               "rgb(203,26,79)"
              ],
              [
               0.5647058823529412,
               "rgb(223,47,67)"
              ],
              [
               0.6274509803921569,
               "rgb(236,76,61)"
              ],
              [
               0.6901960784313725,
               "rgb(242,107,73)"
              ],
              [
               0.7529411764705882,
               "rgb(244,135,95)"
              ],
              [
               0.8156862745098039,
               "rgb(245,162,122)"
              ],
              [
               0.8784313725490196,
               "rgb(246,188,153)"
              ],
              [
               0.9411764705882353,
               "rgb(247,212,187)"
              ],
              [
               1,
               "rgb(250,234,220)"
              ]
             ],
             "line": {
              "autocolorscale": false,
              "colorscale": [
               [
                0,
                "rgb(2,4,25)"
               ],
               [
                0.06274509803921569,
                "rgb(24,15,41)"
               ],
               [
                0.12549019607843137,
                "rgb(47,23,57)"
               ],
               [
                0.18823529411764706,
                "rgb(71,28,72)"
               ],
               [
                0.25098039215686274,
                "rgb(97,30,82)"
               ],
               [
                0.3137254901960784,
                "rgb(123,30,89)"
               ],
               [
                0.3764705882352941,
                "rgb(150,27,91)"
               ],
               [
                0.4392156862745098,
                "rgb(177,22,88)"
               ],
               [
                0.5019607843137255,
                "rgb(203,26,79)"
               ],
               [
                0.5647058823529412,
                "rgb(223,47,67)"
               ],
               [
                0.6274509803921569,
                "rgb(236,76,61)"
               ],
               [
                0.6901960784313725,
                "rgb(242,107,73)"
               ],
               [
                0.7529411764705882,
                "rgb(244,135,95)"
               ],
               [
                0.8156862745098039,
                "rgb(245,162,122)"
               ],
               [
                0.8784313725490196,
                "rgb(246,188,153)"
               ],
               [
                0.9411764705882353,
                "rgb(247,212,187)"
               ],
               [
                1,
                "rgb(250,234,220)"
               ]
              ]
             }
            },
            "type": "scatterpolargl"
           }
          ],
          "scatterternary": [
           {
            "marker": {
             "autocolorscale": false,
             "colorbar": {
              "outlinewidth": 0,
              "tickcolor": "rgb(36,36,36)",
              "ticklen": 8,
              "ticks": "outside",
              "tickwidth": 2
             },
             "colorscale": [
              [
               0,
               "rgb(2,4,25)"
              ],
              [
               0.06274509803921569,
               "rgb(24,15,41)"
              ],
              [
               0.12549019607843137,
               "rgb(47,23,57)"
              ],
              [
               0.18823529411764706,
               "rgb(71,28,72)"
              ],
              [
               0.25098039215686274,
               "rgb(97,30,82)"
              ],
              [
               0.3137254901960784,
               "rgb(123,30,89)"
              ],
              [
               0.3764705882352941,
               "rgb(150,27,91)"
              ],
              [
               0.4392156862745098,
               "rgb(177,22,88)"
              ],
              [
               0.5019607843137255,
               "rgb(203,26,79)"
              ],
              [
               0.5647058823529412,
               "rgb(223,47,67)"
              ],
              [
               0.6274509803921569,
               "rgb(236,76,61)"
              ],
              [
               0.6901960784313725,
               "rgb(242,107,73)"
              ],
              [
               0.7529411764705882,
               "rgb(244,135,95)"
              ],
              [
               0.8156862745098039,
               "rgb(245,162,122)"
              ],
              [
               0.8784313725490196,
               "rgb(246,188,153)"
              ],
              [
               0.9411764705882353,
               "rgb(247,212,187)"
              ],
              [
               1,
               "rgb(250,234,220)"
              ]
             ]
            },
            "type": "scatterternary"
           }
          ],
          "surface": [
           {
            "autocolorscale": false,
            "colorbar": {
             "outlinewidth": 0,
             "tickcolor": "rgb(36,36,36)",
             "ticklen": 8,
             "ticks": "outside",
             "tickwidth": 2
            },
            "colorscale": [
             [
              0,
              "rgb(2,4,25)"
             ],
             [
              0.06274509803921569,
              "rgb(24,15,41)"
             ],
             [
              0.12549019607843137,
              "rgb(47,23,57)"
             ],
             [
              0.18823529411764706,
              "rgb(71,28,72)"
             ],
             [
              0.25098039215686274,
              "rgb(97,30,82)"
             ],
             [
              0.3137254901960784,
              "rgb(123,30,89)"
             ],
             [
              0.3764705882352941,
              "rgb(150,27,91)"
             ],
             [
              0.4392156862745098,
              "rgb(177,22,88)"
             ],
             [
              0.5019607843137255,
              "rgb(203,26,79)"
             ],
             [
              0.5647058823529412,
              "rgb(223,47,67)"
             ],
             [
              0.6274509803921569,
              "rgb(236,76,61)"
             ],
             [
              0.6901960784313725,
              "rgb(242,107,73)"
             ],
             [
              0.7529411764705882,
              "rgb(244,135,95)"
             ],
             [
              0.8156862745098039,
              "rgb(245,162,122)"
             ],
             [
              0.8784313725490196,
              "rgb(246,188,153)"
             ],
             [
              0.9411764705882353,
              "rgb(247,212,187)"
             ],
             [
              1,
              "rgb(250,234,220)"
             ]
            ],
            "type": "surface"
           }
          ],
          "table": [
           {
            "cells": {
             "fill": {
              "color": "rgb(231,231,240)"
             },
             "line": {
              "color": "white"
             }
            },
            "header": {
             "fill": {
              "color": "rgb(183,183,191)"
             },
             "line": {
              "color": "white"
             }
            },
            "type": "table"
           }
          ]
         },
         "layout": {
          "annotationdefaults": {
           "arrowcolor": "rgb(67,103,167)"
          },
          "colorway": [
           "rgb(76,114,176)",
           "rgb(221,132,82)",
           "rgb(85,168,104)",
           "rgb(196,78,82)",
           "rgb(129,114,179)",
           "rgb(147,120,96)",
           "rgb(218,139,195)",
           "rgb(140,140,140)",
           "rgb(204,185,116)",
           "rgb(100,181,205)"
          ],
          "font": {
           "color": "rgb(36,36,36)"
          },
          "geo": {
           "bgcolor": "white",
           "lakecolor": "white",
           "landcolor": "rgb(234,234,242)",
           "showlakes": true,
           "showland": true,
           "subunitcolor": "white"
          },
          "paper_bgcolor": "white",
          "plot_bgcolor": "rgb(234,234,242)",
          "polar": {
           "angularaxis": {
            "gridcolor": "white",
            "linecolor": "white",
            "showgrid": true,
            "ticks": ""
           },
           "bgcolor": "rgb(234,234,242)",
           "radialaxis": {
            "gridcolor": "white",
            "linecolor": "white",
            "showgrid": true,
            "ticks": ""
           }
          },
          "scene": {
           "xaxis": {
            "backgroundcolor": "rgb(234,234,242)",
            "gridcolor": "white",
            "gridwidth": 2,
            "linecolor": "white",
            "showbackground": true,
            "showgrid": true,
            "ticks": "",
            "zerolinecolor": "white"
           },
           "yaxis": {
            "backgroundcolor": "rgb(234,234,242)",
            "gridcolor": "white",
            "gridwidth": 2,
            "linecolor": "white",
            "showbackground": true,
            "showgrid": true,
            "ticks": "",
            "zerolinecolor": "white"
           },
           "zaxis": {
            "backgroundcolor": "rgb(234,234,242)",
            "gridcolor": "white",
            "gridwidth": 2,
            "linecolor": "white",
            "showbackground": true,
            "showgrid": true,
            "ticks": "",
            "zerolinecolor": "white"
           }
          },
          "shapedefaults": {
           "fillcolor": "rgb(67,103,167)",
           "line": {
            "width": 0
           },
           "opacity": 0.5
          },
          "ternary": {
           "aaxis": {
            "gridcolor": "white",
            "linecolor": "white",
            "showgrid": true,
            "ticks": ""
           },
           "baxis": {
            "gridcolor": "white",
            "linecolor": "white",
            "showgrid": true,
            "ticks": ""
           },
           "bgcolor": "rgb(234,234,242)",
           "caxis": {
            "gridcolor": "white",
            "linecolor": "white",
            "showgrid": true,
            "ticks": ""
           }
          },
          "xaxis": {
           "gridcolor": "white",
           "linecolor": "white",
           "showgrid": true,
           "ticks": "",
           "zerolinecolor": "white"
          },
          "yaxis": {
           "gridcolor": "white",
           "linecolor": "white",
           "showgrid": true,
           "ticks": "",
           "zerolinecolor": "white"
          }
         }
        },
        "title": "Life Expectancy and GDP per capita (1982)",
        "width": 900,
        "xaxis": {
         "title": "Life Expectancy"
        },
        "yaxis": {
         "title": "GDP per capita",
         "type": "log"
        }
       },
       "_py2js_addTraces": {},
       "_py2js_animate": {},
       "_py2js_deleteTraces": {},
       "_py2js_moveTraces": {},
       "_py2js_removeLayoutProps": {},
       "_py2js_removeTraceProps": {},
       "_py2js_restyle": {},
       "_py2js_update": {},
       "_view_count": 1
      }
     },
     "a0ae577d7aba48fbba0fb905928d7b1d": {
      "buffers": [
       {
        "data": "yXa+nxqvTkB/arx0k/hDQMDKoUW2c0lAyqFFtvO9TkBWDi2ynQ9IQEA1XrpJvEdAX7pJDAJ7SkD2KFyPwiVIQBgEVg4twkhAgZVDi2x3SkAxCKwcWuRHQClcj8L1WExA6Pup8dL9SkAOLbKd72dIQFTjpZvEAExA2/l+arzURUBSuB6F6/FFQGmR7Xw/dUZA1HjpJjFITEAK16NwPcpGQKwcWmQ730pANl66SQxyRUBg5dAi26lDQDZeukkMYk1ARIts5/uJS0CTGARWDm1GQKRwPQrXE09AeOkmMQh8SEAYBFYOLdJGQGmR7Xw/9UVA6SYxCKzMSkAv3SQGga1QQDMzMzMz001A9ihcj8JlRUCWQ4ts53tNQAaBlUOLTEVAfT81XrrpRkBxPQrXo3hRQJZDi2znG0dAsXJoke0sTkCNl24SgzBKQClcj8L1OENACtejcD16RUD4U+OlmxRNQCUGgZVDK0lALIcW2c7HS0Do+6nx0k1JQEA1XrpJvEtAUI2XbhIDUEDpJjEIrOxIQA0CK4cW6UlAWDm0yHYuTkA=",
        "encoding": "base64",
        "path": [
         "_data",
         0,
         "x",
         "value"
        ]
       },
       {
        "data": "ZRu4AylxtkA5RrJH6ImlQHcRpiiX95NAIEHxYyTHsUCun/6zljmJQHdHxmrTfIFAfgG9cPd/okCJ9fwfBuaNQNNTP8pD74hAi28ofGbMk0DbVg6I+w2FQAA49uyBD7NARGtFm2tVpECtUnqm736mQPiL2ZJ1X6tA8QNGTZr+jEDMHUe9AWeAQAQlYM/iDoJAj8cMVK6EzUDnIzoVeh6KQOguibNCYItAaq6JuwDKikA9gnbi/TCKQO2CwTXnEJVAr3IN2BrqiEBCcte3mOGBQH9v058R9dBAejnsvoNblECRsBRubsaDQGGMo80cUINA4Cwly5kkl0CRtYZSE9CsQME3TZ89HaVAMhaX9GHjfEDjwRa7GV+wQEay7O7GbYxA7FG4HuWjmEBIqYQnOJO0QJCQN6+QjItAzxYQWt+InUBq+uyA67mXQEj99QoL5JZAb59VZjpjkkCkVMITIrzAQIz2eCEtnp1AJ94BnsRurkBG6uLb8FGLQIBG6dJPApVAjyCVYnfQq0CMOoQ7IVKFQNdMvtm2ApZA48nJH9emiEA=",
        "encoding": "base64",
        "path": [
         "_data",
         0,
         "y",
         "value"
        ]
       },
       {
        "data": "PzVeukl8UUDKoUW28+1KQF+6SQwCq09AcT0K16PwUkBcj8L1KKRRQG8Sg8DKqVBAzczMzMxcUkDZzvdT421SQJMYBFYO3U9A2c73U+MVUEBaZDvfT01MQKjGSzeJEU1AX7pJDAK7SUAxCKwcWnROQD0K16NwzVFAUrgehevZUECgGi/dJKZNQJHtfD81nlFADi2yne+3UECIFtnO97NOQAAAAAAAcFJAaJHtfD81UUCamZmZmalSQOxRuB6Fs1FAz/dT46UjUUA=",
        "encoding": "base64",
        "path": [
         "_data",
         1,
         "x",
         "value"
        ]
       },
       {
        "data": "hXtl3vKSwUBb7PZZBamoQHLBGfzVdrtAd/hrsrJc1kC1Oc5tquezQKZiY16TLbFAtDukGLyOtEA6cw8J65S8QDfBN00vWqZAaF95kMotvEAaUdobWAKwQGO0jqp+1LJAbyTQYKNsn0D9icqGhWOoQKYKRiUNtLdA6Zyf4pLFwkDlgcgirRyrQFeXUwKaYbtAIhYx7ICisEA7qMR1gCK5QGuad5x+LcRAuOhkqcPPwUB5I/PIY2zYQFjO3hk5CLtA4QZ8fjTIxUA=",
        "encoding": "base64",
        "path": [
         "_data",
         1,
         "y",
         "value"
        ]
       },
       {
        "data": "WmQ730/tQ0AW2c73U0NRQP3UeOkmAUlA0SLb+X56SUCamZmZmWFQQM3MzMzM3FJAQDVeuklMTEAxCKwcWhRMQI/C9Shcz01Av58aL90ET0DNzMzMzJxSQNejcD0KR1NAO99PjZfeT0BmZmZmZkZRQB1aZDvfx1BAsp3vp8bTUUD0/dR46b5QQAAAAAAAAFFAO99PjZe+TEC7SQwCKwdNQHjpJjEIzEhAd76fGi9dT0BOYhBYORRMQNEi2/l+Ck9AqMZLN4mBT0BxPQrXo/BRQJzEILByMFFA9ihcj8IlUEAK16NwPQpSQJHtfD81JlBAnMQgsHJoTUBEi2zn+xlQQFg5tMh2jkhA",
        "encoding": "base64",
        "path": [
         "_data",
         2,
         "x",
         "value"
        ]
       },
       {
        "data": "P785bReQjkAY7IZtycLSQIoIWtzaJ4VAo4+ex82Dg0BgVb38XhOOQBluwOdDcMxAYzcizsm9ikA095DwfbOXQC0HeqhVuL1A8DMuHPRazECGWtO8gwPOQDfg88MG7tJAev1JfGpBsEDRH5p5hgqwQKgZUkXx9rVAX3tmSYKe3kCVCFT/hNi9QPrPmh9bOLNAxR9FnWlCn0AAAAAAAIB6QH32Ehn8coZAZ9DQP2VNyUAZO+EluI2WQJQT7SqMVqRAVOOlm6Vz4EBdhZSflKDNQFMmNbRRwJlAvAD76KxjrUB4B3jSWgK9QJCeIodwsqJAwnrt4+IZhkDKpIY2CPCwQC9W1GA65p5A",
        "encoding": "base64",
        "path": [
         "_data",
         2,
         "y",
         "value"
        ]
       },
       {
        "data": "exSuR+GaUUDsUbgehUtSQOxRuB6Fe1JAXI/C9SisUUCF61G4HsVRQD0K16NwnVFAPQrXo3C9UUC4HoXrUahSQDMzMzMzo1JAKVyPwvW4UkAzMzMzM3NSQI/C9Shcz1JAKVyPwvVYUUCPwvUoXD9TQGZmZmZmRlJAH4XrUbi+UkBYObTIdoZSQDMzMzMzA1NArkfhehT+UkAUrkfhetRRQOF6FK5HMVJACtejcD1qUUDtfD81XopRQDMzMzMzs1FAeekmMQjEUUAzMzMzMxNTQHsUrkfhGlNAPQrXo3ANU0D4U+Olm4ROQMP1KFyPglJA",
        "encoding": "base64",
        "path": [
         "_data",
         3,
         "x",
         "value"
        ]
       },
       {
        "data": "vHX+7cJdrEBSswdaRRfVQIHPDyP2fNRAUG7b95wesECwjuOHGBDAQEaZDTLp0slAwFsgQZ0IzkAJbTmXAi7VQOFASBZKGdJAXhH8b3nR00BSg2kY4oPVQJw4ud810s1Aumbyzf6AyEAUrkfhZrnWQE1/9iMppchA5/up8V4m0EA91SE3S+vFQEc4LXjd5dRANEbrqKiu2UAGZ/D3w4HAQLyReeTr9MZAG4LjMqjCwkAr9pfdi6bNQEOtad5FKsZAeekmMa5y0UCms5PBFTPLQGZmZmbYLtRALa2GxG2720AgQlw5W5GwQCDvVSsbztFA",
        "encoding": "base64",
        "path": [
         "_data",
         3,
         "y",
         "value"
        ]
       },
       {
        "data": "j8L1KFyvUkD2KFyPwnVSQA==",
        "encoding": "base64",
        "path": [
         "_data",
         4,
         "x",
         "value"
        ]
       },
       {
        "data": "ISQLmEAF00CSXP5DGjjRQA==",
        "encoding": "base64",
        "path": [
         "_data",
         4,
         "y",
         "value"
        ]
       }
      ],
      "model_module": "plotlywidget",
      "model_module_version": "^0.5.0-rc.1",
      "model_name": "FigureModel",
      "state": {
       "_data": [
        {
         "marker": {
          "size": [
           20033753,
           7016384,
           3641603,
           970347,
           6634596,
           4580410,
           9250831,
           2476971,
           4875118,
           348643,
           30646495,
           1774735,
           9025951,
           305991,
           45681811,
           285483,
           2637297,
           38111756,
           753874,
           715523,
           11400338,
           4710497,
           825987,
           17661452,
           1411807,
           1956875,
           3344074,
           9171477,
           6502825,
           6998256,
           1622136,
           992040,
           20198730,
           12587223,
           1099010,
           6437188,
           73039376,
           517810,
           5507565,
           98593,
           6147783,
           3464522,
           5828892,
           31140029,
           20367053,
           649901,
           19844382,
           2644765,
           6734098,
           12939400,
           6100407,
           7636524
          ],
          "sizemode": "area",
          "sizeref": 200000
         },
         "mode": "markers",
         "name": "Africa",
         "text": [
          "Algeria",
          "Angola",
          "Benin",
          "Botswana",
          "Burkina Faso",
          "Burundi",
          "Cameroon",
          "Central African Republic",
          "Chad",
          "Comoros",
          "Congo, Dem. Rep.",
          "Congo, Rep.",
          "Cote d'Ivoire",
          "Djibouti",
          "Egypt",
          "Equatorial Guinea",
          "Eritrea",
          "Ethiopia",
          "Gabon",
          "Gambia",
          "Ghana",
          "Guinea",
          "Guinea-Bissau",
          "Kenya",
          "Lesotho",
          "Liberia",
          "Libya",
          "Madagascar",
          "Malawi",
          "Mali",
          "Mauritania",
          "Mauritius",
          "Morocco",
          "Mozambique",
          "Namibia",
          "Niger",
          "Nigeria",
          "Reunion",
          "Rwanda",
          "Sao Tome and Principe",
          "Senegal",
          "Sierra Leone",
          "Somalia",
          "South Africa",
          "Sudan",
          "Swaziland",
          "Tanzania",
          "Togo",
          "Tunisia",
          "Uganda",
          "Zambia",
          "Zimbabwe"
         ],
         "type": "scatter",
         "uid": "424a555d-ab0e-4a52-95eb-5439d6d34b24",
         "x": {
          "dtype": "float64",
          "shape": [
           52
          ]
         },
         "y": {
          "dtype": "float64",
          "shape": [
           52
          ]
         }
        },
        {
         "marker": {
          "size": [
           29341374,
           5642224,
           128962939,
           25201900,
           11487112,
           27764644,
           2424367,
           9789224,
           5968349,
           8365850,
           4474873,
           6395630,
           5198399,
           3669448,
           2298309,
           71640904,
           2979423,
           2036305,
           3366439,
           18125129,
           3279001,
           1116479,
           232187835,
           2953997,
           15620766
          ],
          "sizemode": "area",
          "sizeref": 200000
         },
         "mode": "markers",
         "name": "Americas",
         "text": [
          "Argentina",
          "Bolivia",
          "Brazil",
          "Canada",
          "Chile",
          "Colombia",
          "Costa Rica",
          "Cuba",
          "Dominican Republic",
          "Ecuador",
          "El Salvador",
          "Guatemala",
          "Haiti",
          "Honduras",
          "Jamaica",
          "Mexico",
          "Nicaragua",
          "Panama",
          "Paraguay",
          "Peru",
          "Puerto Rico",
          "Trinidad and Tobago",
          "United States",
          "Uruguay",
          "Venezuela"
         ],
         "type": "scatter",
         "uid": "a4f31360-cee5-48f8-bcf1-5379c6807b8c",
         "x": {
          "dtype": "float64",
          "shape": [
           25
          ]
         },
         "y": {
          "dtype": "float64",
          "shape": [
           25
          ]
         }
        },
        {
         "marker": {
          "size": [
           12881816,
           377967,
           93074406,
           7272485,
           1000281000,
           5264500,
           708000000,
           153343000,
           43072751,
           14173318,
           3858421,
           118454974,
           2347031,
           17647518,
           39326000,
           1497494,
           3086876,
           14441916,
           1756032,
           34680442,
           15796314,
           1301048,
           91462088,
           53456774,
           11254672,
           2651869,
           15410151,
           9410494,
           18501390,
           48827160,
           56142181,
           1425876,
           9657618
          ],
          "sizemode": "area",
          "sizeref": 200000
         },
         "mode": "markers",
         "name": "Asia",
         "text": [
          "Afghanistan",
          "Bahrain",
          "Bangladesh",
          "Cambodia",
          "China",
          "Hong Kong, China",
          "India",
          "Indonesia",
          "Iran",
          "Iraq",
          "Israel",
          "Japan",
          "Jordan",
          "Korea, Dem. Rep.",
          "Korea, Rep.",
          "Kuwait",
          "Lebanon",
          "Malaysia",
          "Mongolia",
          "Myanmar",
          "Nepal",
          "Oman",
          "Pakistan",
          "Philippines",
          "Saudi Arabia",
          "Singapore",
          "Sri Lanka",
          "Syria",
          "Taiwan",
          "Thailand",
          "Vietnam",
          "West Bank and Gaza",
          "Yemen, Rep."
         ],
         "type": "scatter",
         "uid": "aa18ca71-5a51-4558-be2a-76a40da11fa7",
         "x": {
          "dtype": "float64",
          "shape": [
           33
          ]
         },
         "y": {
          "dtype": "float64",
          "shape": [
           33
          ]
         }
        },
        {
         "marker": {
          "size": [
           2780097,
           7574613,
           9856303,
           4172693,
           8892098,
           4413368,
           10303704,
           5117810,
           4826933,
           54433565,
           78335266,
           9786480,
           10705535,
           233997,
           3480000,
           56535636,
           562548,
           14310401,
           4114787,
           36227381,
           9859650,
           22356726,
           9032824,
           5048043,
           1861252,
           37983310,
           8325260,
           6468126,
           47328791,
           56339704
          ],
          "sizemode": "area",
          "sizeref": 200000
         },
         "mode": "markers",
         "name": "Europe",
         "text": [
          "Albania",
          "Austria",
          "Belgium",
          "Bosnia and Herzegovina",
          "Bulgaria",
          "Croatia",
          "Czech Republic",
          "Denmark",
          "Finland",
          "France",
          "Germany",
          "Greece",
          "Hungary",
          "Iceland",
          "Ireland",
          "Italy",
          "Montenegro",
          "Netherlands",
          "Norway",
          "Poland",
          "Portugal",
          "Romania",
          "Serbia",
          "Slovak Republic",
          "Slovenia",
          "Spain",
          "Sweden",
          "Switzerland",
          "Turkey",
          "United Kingdom"
         ],
         "type": "scatter",
         "uid": "ec645f53-e766-4d16-9a48-e2252a4896aa",
         "x": {
          "dtype": "float64",
          "shape": [
           30
          ]
         },
         "y": {
          "dtype": "float64",
          "shape": [
           30
          ]
         }
        },
        {
         "marker": {
          "size": [
           15184200,
           3210650
          ],
          "sizemode": "area",
          "sizeref": 200000
         },
         "mode": "markers",
         "name": "Oceania",
         "text": [
          "Australia",
          "New Zealand"
         ],
         "type": "scatter",
         "uid": "1cfddab1-bc4c-4a21-9778-bbc60ffb718c",
         "x": {
          "dtype": "float64",
          "shape": [
           2
          ]
         },
         "y": {
          "dtype": "float64",
          "shape": [
           2
          ]
         }
        }
       ],
       "_js2py_pointsCallback": {},
       "_js2py_relayout": {},
       "_js2py_restyle": {},
       "_js2py_update": {},
       "_last_layout_edit_id": 1,
       "_layout": {
        "height": 700,
        "template": {
         "data": {
          "bar": [
           {
            "marker": {
             "autocolorscale": false,
             "colorbar": {
              "outlinewidth": 0,
              "ticks": ""
             },
             "colorscale": [
              [
               0,
               "#0508b8"
              ],
              [
               0.0893854748603352,
               "#1910d8"
              ],
              [
               0.1787709497206704,
               "#3c19f0"
              ],
              [
               0.2681564245810056,
               "#6b1cfb"
              ],
              [
               0.3575418994413408,
               "#981cfd"
              ],
              [
               0.44692737430167595,
               "#bf1cfd"
              ],
              [
               0.5363128491620112,
               "#dd2bfd"
              ],
              [
               0.6256983240223464,
               "#f246fe"
              ],
              [
               0.7150837988826816,
               "#fc67fd"
              ],
              [
               0.8044692737430168,
               "#fe88fc"
              ],
              [
               0.8938547486033519,
               "#fea5fd"
              ],
              [
               0.9832402234636871,
               "#febefe"
              ],
              [
               1,
               "#fec3fe"
              ]
             ],
             "line": {
              "autocolorscale": false,
              "colorscale": [
               [
                0,
                "#0508b8"
               ],
               [
                0.0893854748603352,
                "#1910d8"
               ],
               [
                0.1787709497206704,
                "#3c19f0"
               ],
               [
                0.2681564245810056,
                "#6b1cfb"
               ],
               [
                0.3575418994413408,
                "#981cfd"
               ],
               [
                0.44692737430167595,
                "#bf1cfd"
               ],
               [
                0.5363128491620112,
                "#dd2bfd"
               ],
               [
                0.6256983240223464,
                "#f246fe"
               ],
               [
                0.7150837988826816,
                "#fc67fd"
               ],
               [
                0.8044692737430168,
                "#fe88fc"
               ],
               [
                0.8938547486033519,
                "#fea5fd"
               ],
               [
                0.9832402234636871,
                "#febefe"
               ],
               [
                1,
                "#fec3fe"
               ]
              ]
             }
            },
            "type": "bar"
           }
          ],
          "carpet": [
           {
            "aaxis": {
             "endlinecolor": "#A2B1C6",
             "gridcolor": "#506784",
             "linecolor": "#506784",
             "minorgridcolor": "#506784",
             "startlinecolor": "#A2B1C6"
            },
            "baxis": {
             "endlinecolor": "#A2B1C6",
             "gridcolor": "#506784",
             "linecolor": "#506784",
             "minorgridcolor": "#506784",
             "startlinecolor": "#A2B1C6"
            },
            "type": "carpet"
           }
          ],
          "choropleth": [
           {
            "autocolorscale": false,
            "colorbar": {
             "outlinewidth": 0,
             "ticks": ""
            },
            "colorscale": [
             [
              0,
              "#0508b8"
             ],
             [
              0.0893854748603352,
              "#1910d8"
             ],
             [
              0.1787709497206704,
              "#3c19f0"
             ],
             [
              0.2681564245810056,
              "#6b1cfb"
             ],
             [
              0.3575418994413408,
              "#981cfd"
             ],
             [
              0.44692737430167595,
              "#bf1cfd"
             ],
             [
              0.5363128491620112,
              "#dd2bfd"
             ],
             [
              0.6256983240223464,
              "#f246fe"
             ],
             [
              0.7150837988826816,
              "#fc67fd"
             ],
             [
              0.8044692737430168,
              "#fe88fc"
             ],
             [
              0.8938547486033519,
              "#fea5fd"
             ],
             [
              0.9832402234636871,
              "#febefe"
             ],
             [
              1,
              "#fec3fe"
             ]
            ],
            "type": "choropleth"
           }
          ],
          "contour": [
           {
            "autocolorscale": false,
            "colorbar": {
             "outlinewidth": 0,
             "ticks": ""
            },
            "colorscale": [
             [
              0,
              "#0508b8"
             ],
             [
              0.0893854748603352,
              "#1910d8"
             ],
             [
              0.1787709497206704,
              "#3c19f0"
             ],
             [
              0.2681564245810056,
              "#6b1cfb"
             ],
             [
              0.3575418994413408,
              "#981cfd"
             ],
             [
              0.44692737430167595,
              "#bf1cfd"
             ],
             [
              0.5363128491620112,
              "#dd2bfd"
             ],
             [
              0.6256983240223464,
              "#f246fe"
             ],
             [
              0.7150837988826816,
              "#fc67fd"
             ],
             [
              0.8044692737430168,
              "#fe88fc"
             ],
             [
              0.8938547486033519,
              "#fea5fd"
             ],
             [
              0.9832402234636871,
              "#febefe"
             ],
             [
              1,
              "#fec3fe"
             ]
            ],
            "type": "contour"
           }
          ],
          "contourcarpet": [
           {
            "autocolorscale": false,
            "colorbar": {
             "outlinewidth": 0,
             "ticks": ""
            },
            "colorscale": [
             [
              0,
              "#0508b8"
             ],
             [
              0.0893854748603352,
              "#1910d8"
             ],
             [
              0.1787709497206704,
              "#3c19f0"
             ],
             [
              0.2681564245810056,
              "#6b1cfb"
             ],
             [
              0.3575418994413408,
              "#981cfd"
             ],
             [
              0.44692737430167595,
              "#bf1cfd"
             ],
             [
              0.5363128491620112,
              "#dd2bfd"
             ],
             [
              0.6256983240223464,
              "#f246fe"
             ],
             [
              0.7150837988826816,
              "#fc67fd"
             ],
             [
              0.8044692737430168,
              "#fe88fc"
             ],
             [
              0.8938547486033519,
              "#fea5fd"
             ],
             [
              0.9832402234636871,
              "#febefe"
             ],
             [
              1,
              "#fec3fe"
             ]
            ],
            "type": "contourcarpet"
           }
          ],
          "heatmap": [
           {
            "autocolorscale": false,
            "colorbar": {
             "outlinewidth": 0,
             "ticks": ""
            },
            "colorscale": [
             [
              0,
              "#0508b8"
             ],
             [
              0.0893854748603352,
              "#1910d8"
             ],
             [
              0.1787709497206704,
              "#3c19f0"
             ],
             [
              0.2681564245810056,
              "#6b1cfb"
             ],
             [
              0.3575418994413408,
              "#981cfd"
             ],
             [
              0.44692737430167595,
              "#bf1cfd"
             ],
             [
              0.5363128491620112,
              "#dd2bfd"
             ],
             [
              0.6256983240223464,
              "#f246fe"
             ],
             [
              0.7150837988826816,
              "#fc67fd"
             ],
             [
              0.8044692737430168,
              "#fe88fc"
             ],
             [
              0.8938547486033519,
              "#fea5fd"
             ],
             [
              0.9832402234636871,
              "#febefe"
             ],
             [
              1,
              "#fec3fe"
             ]
            ],
            "type": "heatmap"
           }
          ],
          "heatmapgl": [
           {
            "autocolorscale": false,
            "colorbar": {
             "outlinewidth": 0,
             "ticks": ""
            },
            "colorscale": [
             [
              0,
              "#0508b8"
             ],
             [
              0.0893854748603352,
              "#1910d8"
             ],
             [
              0.1787709497206704,
              "#3c19f0"
             ],
             [
              0.2681564245810056,
              "#6b1cfb"
             ],
             [
              0.3575418994413408,
              "#981cfd"
             ],
             [
              0.44692737430167595,
              "#bf1cfd"
             ],
             [
              0.5363128491620112,
              "#dd2bfd"
             ],
             [
              0.6256983240223464,
              "#f246fe"
             ],
             [
              0.7150837988826816,
              "#fc67fd"
             ],
             [
              0.8044692737430168,
              "#fe88fc"
             ],
             [
              0.8938547486033519,
              "#fea5fd"
             ],
             [
              0.9832402234636871,
              "#febefe"
             ],
             [
              1,
              "#fec3fe"
             ]
            ],
            "type": "heatmapgl"
           }
          ],
          "histogram": [
           {
            "marker": {
             "autocolorscale": false,
             "colorbar": {
              "outlinewidth": 0,
              "ticks": ""
             },
             "colorscale": [
              [
               0,
               "#0508b8"
              ],
              [
               0.0893854748603352,
               "#1910d8"
              ],
              [
               0.1787709497206704,
               "#3c19f0"
              ],
              [
               0.2681564245810056,
               "#6b1cfb"
              ],
              [
               0.3575418994413408,
               "#981cfd"
              ],
              [
               0.44692737430167595,
               "#bf1cfd"
              ],
              [
               0.5363128491620112,
               "#dd2bfd"
              ],
              [
               0.6256983240223464,
               "#f246fe"
              ],
              [
               0.7150837988826816,
               "#fc67fd"
              ],
              [
               0.8044692737430168,
               "#fe88fc"
              ],
              [
               0.8938547486033519,
               "#fea5fd"
              ],
              [
               0.9832402234636871,
               "#febefe"
              ],
              [
               1,
               "#fec3fe"
              ]
             ]
            },
            "type": "histogram"
           }
          ],
          "histogram2d": [
           {
            "autocolorscale": false,
            "colorbar": {
             "outlinewidth": 0,
             "ticks": ""
            },
            "colorscale": [
             [
              0,
              "#0508b8"
             ],
             [
              0.0893854748603352,
              "#1910d8"
             ],
             [
              0.1787709497206704,
              "#3c19f0"
             ],
             [
              0.2681564245810056,
              "#6b1cfb"
             ],
             [
              0.3575418994413408,
              "#981cfd"
             ],
             [
              0.44692737430167595,
              "#bf1cfd"
             ],
             [
              0.5363128491620112,
              "#dd2bfd"
             ],
             [
              0.6256983240223464,
              "#f246fe"
             ],
             [
              0.7150837988826816,
              "#fc67fd"
             ],
             [
              0.8044692737430168,
              "#fe88fc"
             ],
             [
              0.8938547486033519,
              "#fea5fd"
             ],
             [
              0.9832402234636871,
              "#febefe"
             ],
             [
              1,
              "#fec3fe"
             ]
            ],
            "type": "histogram2d"
           }
          ],
          "histogram2dcontour": [
           {
            "autocolorscale": false,
            "colorbar": {
             "outlinewidth": 0,
             "ticks": ""
            },
            "colorscale": [
             [
              0,
              "#0508b8"
             ],
             [
              0.0893854748603352,
              "#1910d8"
             ],
             [
              0.1787709497206704,
              "#3c19f0"
             ],
             [
              0.2681564245810056,
              "#6b1cfb"
             ],
             [
              0.3575418994413408,
              "#981cfd"
             ],
             [
              0.44692737430167595,
              "#bf1cfd"
             ],
             [
              0.5363128491620112,
              "#dd2bfd"
             ],
             [
              0.6256983240223464,
              "#f246fe"
             ],
             [
              0.7150837988826816,
              "#fc67fd"
             ],
             [
              0.8044692737430168,
              "#fe88fc"
             ],
             [
              0.8938547486033519,
              "#fea5fd"
             ],
             [
              0.9832402234636871,
              "#febefe"
             ],
             [
              1,
              "#fec3fe"
             ]
            ],
            "type": "histogram2dcontour"
           }
          ],
          "mesh3d": [
           {
            "autocolorscale": false,
            "colorbar": {
             "outlinewidth": 0,
             "ticks": ""
            },
            "colorscale": [
             [
              0,
              "#0508b8"
             ],
             [
              0.0893854748603352,
              "#1910d8"
             ],
             [
              0.1787709497206704,
              "#3c19f0"
             ],
             [
              0.2681564245810056,
              "#6b1cfb"
             ],
             [
              0.3575418994413408,
              "#981cfd"
             ],
             [
              0.44692737430167595,
              "#bf1cfd"
             ],
             [
              0.5363128491620112,
              "#dd2bfd"
             ],
             [
              0.6256983240223464,
              "#f246fe"
             ],
             [
              0.7150837988826816,
              "#fc67fd"
             ],
             [
              0.8044692737430168,
              "#fe88fc"
             ],
             [
              0.8938547486033519,
              "#fea5fd"
             ],
             [
              0.9832402234636871,
              "#febefe"
             ],
             [
              1,
              "#fec3fe"
             ]
            ],
            "type": "mesh3d"
           }
          ],
          "parcoords": [
           {
            "line": {
             "autocolorscale": false,
             "colorbar": {
              "outlinewidth": 0,
              "ticks": ""
             },
             "colorscale": [
              [
               0,
               "#0508b8"
              ],
              [
               0.0893854748603352,
               "#1910d8"
              ],
              [
               0.1787709497206704,
               "#3c19f0"
              ],
              [
               0.2681564245810056,
               "#6b1cfb"
              ],
              [
               0.3575418994413408,
               "#981cfd"
              ],
              [
               0.44692737430167595,
               "#bf1cfd"
              ],
              [
               0.5363128491620112,
               "#dd2bfd"
              ],
              [
               0.6256983240223464,
               "#f246fe"
              ],
              [
               0.7150837988826816,
               "#fc67fd"
              ],
              [
               0.8044692737430168,
               "#fe88fc"
              ],
              [
               0.8938547486033519,
               "#fea5fd"
              ],
              [
               0.9832402234636871,
               "#febefe"
              ],
              [
               1,
               "#fec3fe"
              ]
             ]
            },
            "type": "parcoords"
           }
          ],
          "scatter": [
           {
            "marker": {
             "line": {
              "color": "#283442"
             }
            },
            "type": "scatter"
           }
          ],
          "scatter3d": [
           {
            "line": {
             "autocolorscale": false,
             "colorscale": [
              [
               0,
               "#0508b8"
              ],
              [
               0.0893854748603352,
               "#1910d8"
              ],
              [
               0.1787709497206704,
               "#3c19f0"
              ],
              [
               0.2681564245810056,
               "#6b1cfb"
              ],
              [
               0.3575418994413408,
               "#981cfd"
              ],
              [
               0.44692737430167595,
               "#bf1cfd"
              ],
              [
               0.5363128491620112,
               "#dd2bfd"
              ],
              [
               0.6256983240223464,
               "#f246fe"
              ],
              [
               0.7150837988826816,
               "#fc67fd"
              ],
              [
               0.8044692737430168,
               "#fe88fc"
              ],
              [
               0.8938547486033519,
               "#fea5fd"
              ],
              [
               0.9832402234636871,
               "#febefe"
              ],
              [
               1,
               "#fec3fe"
              ]
             ]
            },
            "marker": {
             "autocolorscale": false,
             "colorbar": {
              "outlinewidth": 0,
              "ticks": ""
             },
             "colorscale": [
              [
               0,
               "#0508b8"
              ],
              [
               0.0893854748603352,
               "#1910d8"
              ],
              [
               0.1787709497206704,
               "#3c19f0"
              ],
              [
               0.2681564245810056,
               "#6b1cfb"
              ],
              [
               0.3575418994413408,
               "#981cfd"
              ],
              [
               0.44692737430167595,
               "#bf1cfd"
              ],
              [
               0.5363128491620112,
               "#dd2bfd"
              ],
              [
               0.6256983240223464,
               "#f246fe"
              ],
              [
               0.7150837988826816,
               "#fc67fd"
              ],
              [
               0.8044692737430168,
               "#fe88fc"
              ],
              [
               0.8938547486033519,
               "#fea5fd"
              ],
              [
               0.9832402234636871,
               "#febefe"
              ],
              [
               1,
               "#fec3fe"
              ]
             ]
            },
            "type": "scatter3d"
           }
          ],
          "scattercarpet": [
           {
            "marker": {
             "autocolorscale": false,
             "colorbar": {
              "outlinewidth": 0,
              "ticks": ""
             },
             "colorscale": [
              [
               0,
               "#0508b8"
              ],
              [
               0.0893854748603352,
               "#1910d8"
              ],
              [
               0.1787709497206704,
               "#3c19f0"
              ],
              [
               0.2681564245810056,
               "#6b1cfb"
              ],
              [
               0.3575418994413408,
               "#981cfd"
              ],
              [
               0.44692737430167595,
               "#bf1cfd"
              ],
              [
               0.5363128491620112,
               "#dd2bfd"
              ],
              [
               0.6256983240223464,
               "#f246fe"
              ],
              [
               0.7150837988826816,
               "#fc67fd"
              ],
              [
               0.8044692737430168,
               "#fe88fc"
              ],
              [
               0.8938547486033519,
               "#fea5fd"
              ],
              [
               0.9832402234636871,
               "#febefe"
              ],
              [
               1,
               "#fec3fe"
              ]
             ]
            },
            "type": "scattercarpet"
           }
          ],
          "scattergeo": [
           {
            "marker": {
             "autocolorscale": false,
             "colorbar": {
              "outlinewidth": 0,
              "ticks": ""
             },
             "colorscale": [
              [
               0,
               "#0508b8"
              ],
              [
               0.0893854748603352,
               "#1910d8"
              ],
              [
               0.1787709497206704,
               "#3c19f0"
              ],
              [
               0.2681564245810056,
               "#6b1cfb"
              ],
              [
               0.3575418994413408,
               "#981cfd"
              ],
              [
               0.44692737430167595,
               "#bf1cfd"
              ],
              [
               0.5363128491620112,
               "#dd2bfd"
              ],
              [
               0.6256983240223464,
               "#f246fe"
              ],
              [
               0.7150837988826816,
               "#fc67fd"
              ],
              [
               0.8044692737430168,
               "#fe88fc"
              ],
              [
               0.8938547486033519,
               "#fea5fd"
              ],
              [
               0.9832402234636871,
               "#febefe"
              ],
              [
               1,
               "#fec3fe"
              ]
             ]
            },
            "type": "scattergeo"
           }
          ],
          "scattergl": [
           {
            "marker": {
             "line": {
              "color": "#283442"
             }
            },
            "type": "scattergl"
           }
          ],
          "scattermapbox": [
           {
            "marker": {
             "autocolorscale": false,
             "colorbar": {
              "outlinewidth": 0,
              "ticks": ""
             },
             "colorscale": [
              [
               0,
               "#0508b8"
              ],
              [
               0.0893854748603352,
               "#1910d8"
              ],
              [
               0.1787709497206704,
               "#3c19f0"
              ],
              [
               0.2681564245810056,
               "#6b1cfb"
              ],
              [
               0.3575418994413408,
               "#981cfd"
              ],
              [
               0.44692737430167595,
               "#bf1cfd"
              ],
              [
               0.5363128491620112,
               "#dd2bfd"
              ],
              [
               0.6256983240223464,
               "#f246fe"
              ],
              [
               0.7150837988826816,
               "#fc67fd"
              ],
              [
               0.8044692737430168,
               "#fe88fc"
              ],
              [
               0.8938547486033519,
               "#fea5fd"
              ],
              [
               0.9832402234636871,
               "#febefe"
              ],
              [
               1,
               "#fec3fe"
              ]
             ]
            },
            "type": "scattermapbox"
           }
          ],
          "scatterpolar": [
           {
            "marker": {
             "autocolorscale": false,
             "colorbar": {
              "outlinewidth": 0,
              "ticks": ""
             },
             "colorscale": [
              [
               0,
               "#0508b8"
              ],
              [
               0.0893854748603352,
               "#1910d8"
              ],
              [
               0.1787709497206704,
               "#3c19f0"
              ],
              [
               0.2681564245810056,
               "#6b1cfb"
              ],
              [
               0.3575418994413408,
               "#981cfd"
              ],
              [
               0.44692737430167595,
               "#bf1cfd"
              ],
              [
               0.5363128491620112,
               "#dd2bfd"
              ],
              [
               0.6256983240223464,
               "#f246fe"
              ],
              [
               0.7150837988826816,
               "#fc67fd"
              ],
              [
               0.8044692737430168,
               "#fe88fc"
              ],
              [
               0.8938547486033519,
               "#fea5fd"
              ],
              [
               0.9832402234636871,
               "#febefe"
              ],
              [
               1,
               "#fec3fe"
              ]
             ]
            },
            "type": "scatterpolar"
           }
          ],
          "scatterpolargl": [
           {
            "marker": {
             "autocolorscale": false,
             "colorbar": {
              "outlinewidth": 0,
              "ticks": ""
             },
             "colorscale": [
              [
               0,
               "#0508b8"
              ],
              [
               0.0893854748603352,
               "#1910d8"
              ],
              [
               0.1787709497206704,
               "#3c19f0"
              ],
              [
               0.2681564245810056,
               "#6b1cfb"
              ],
              [
               0.3575418994413408,
               "#981cfd"
              ],
              [
               0.44692737430167595,
               "#bf1cfd"
              ],
              [
               0.5363128491620112,
               "#dd2bfd"
              ],
              [
               0.6256983240223464,
               "#f246fe"
              ],
              [
               0.7150837988826816,
               "#fc67fd"
              ],
              [
               0.8044692737430168,
               "#fe88fc"
              ],
              [
               0.8938547486033519,
               "#fea5fd"
              ],
              [
               0.9832402234636871,
               "#febefe"
              ],
              [
               1,
               "#fec3fe"
              ]
             ],
             "line": {
              "autocolorscale": false,
              "colorscale": [
               [
                0,
                "#0508b8"
               ],
               [
                0.0893854748603352,
                "#1910d8"
               ],
               [
                0.1787709497206704,
                "#3c19f0"
               ],
               [
                0.2681564245810056,
                "#6b1cfb"
               ],
               [
                0.3575418994413408,
                "#981cfd"
               ],
               [
                0.44692737430167595,
                "#bf1cfd"
               ],
               [
                0.5363128491620112,
                "#dd2bfd"
               ],
               [
                0.6256983240223464,
                "#f246fe"
               ],
               [
                0.7150837988826816,
                "#fc67fd"
               ],
               [
                0.8044692737430168,
                "#fe88fc"
               ],
               [
                0.8938547486033519,
                "#fea5fd"
               ],
               [
                0.9832402234636871,
                "#febefe"
               ],
               [
                1,
                "#fec3fe"
               ]
              ]
             }
            },
            "type": "scatterpolargl"
           }
          ],
          "scatterternary": [
           {
            "marker": {
             "autocolorscale": false,
             "colorbar": {
              "outlinewidth": 0,
              "ticks": ""
             },
             "colorscale": [
              [
               0,
               "#0508b8"
              ],
              [
               0.0893854748603352,
               "#1910d8"
              ],
              [
               0.1787709497206704,
               "#3c19f0"
              ],
              [
               0.2681564245810056,
               "#6b1cfb"
              ],
              [
               0.3575418994413408,
               "#981cfd"
              ],
              [
               0.44692737430167595,
               "#bf1cfd"
              ],
              [
               0.5363128491620112,
               "#dd2bfd"
              ],
              [
               0.6256983240223464,
               "#f246fe"
              ],
              [
               0.7150837988826816,
               "#fc67fd"
              ],
              [
               0.8044692737430168,
               "#fe88fc"
              ],
              [
               0.8938547486033519,
               "#fea5fd"
              ],
              [
               0.9832402234636871,
               "#febefe"
              ],
              [
               1,
               "#fec3fe"
              ]
             ]
            },
            "type": "scatterternary"
           }
          ],
          "surface": [
           {
            "autocolorscale": false,
            "colorbar": {
             "outlinewidth": 0,
             "ticks": ""
            },
            "colorscale": [
             [
              0,
              "#0508b8"
             ],
             [
              0.0893854748603352,
              "#1910d8"
             ],
             [
              0.1787709497206704,
              "#3c19f0"
             ],
             [
              0.2681564245810056,
              "#6b1cfb"
             ],
             [
              0.3575418994413408,
              "#981cfd"
             ],
             [
              0.44692737430167595,
              "#bf1cfd"
             ],
             [
              0.5363128491620112,
              "#dd2bfd"
             ],
             [
              0.6256983240223464,
              "#f246fe"
             ],
             [
              0.7150837988826816,
              "#fc67fd"
             ],
             [
              0.8044692737430168,
              "#fe88fc"
             ],
             [
              0.8938547486033519,
              "#fea5fd"
             ],
             [
              0.9832402234636871,
              "#febefe"
             ],
             [
              1,
              "#fec3fe"
             ]
            ],
            "type": "surface"
           }
          ],
          "table": [
           {
            "cells": {
             "fill": {
              "color": "#506784"
             },
             "line": {
              "color": "rgb(17,17,17)"
             }
            },
            "header": {
             "fill": {
              "color": "#2a3f5f"
             },
             "line": {
              "color": "rgb(17,17,17)"
             }
            },
            "type": "table"
           }
          ]
         },
         "layout": {
          "annotationdefaults": {
           "arrowcolor": "#f2f5fa",
           "arrowhead": 0,
           "arrowwidth": 1
          },
          "colorway": [
           "#636efa",
           "#EF553B",
           "#00cc96",
           "#ab63fa",
           "#19d3f3",
           "#e763fa"
          ],
          "font": {
           "color": "#f2f5fa"
          },
          "geo": {
           "bgcolor": "rgb(17,17,17)",
           "lakecolor": "rgb(17,17,17)",
           "landcolor": "rgb(17,17,17)",
           "showlakes": true,
           "showland": true,
           "subunitcolor": "#506784"
          },
          "paper_bgcolor": "rgb(17,17,17)",
          "plot_bgcolor": "rgb(17,17,17)",
          "polar": {
           "angularaxis": {
            "gridcolor": "#506784",
            "linecolor": "#506784",
            "ticks": ""
           },
           "bgcolor": "rgb(17,17,17)",
           "radialaxis": {
            "gridcolor": "#506784",
            "linecolor": "#506784",
            "ticks": ""
           }
          },
          "scene": {
           "xaxis": {
            "backgroundcolor": "rgb(17,17,17)",
            "gridcolor": "#506784",
            "gridwidth": 2,
            "linecolor": "#506784",
            "showbackground": true,
            "ticks": "",
            "zerolinecolor": "#C8D4E3"
           },
           "yaxis": {
            "backgroundcolor": "rgb(17,17,17)",
            "gridcolor": "#506784",
            "gridwidth": 2,
            "linecolor": "#506784",
            "showbackground": true,
            "ticks": "",
            "zerolinecolor": "#C8D4E3"
           },
           "zaxis": {
            "backgroundcolor": "rgb(17,17,17)",
            "gridcolor": "#506784",
            "gridwidth": 2,
            "linecolor": "#506784",
            "showbackground": true,
            "ticks": "",
            "zerolinecolor": "#C8D4E3"
           }
          },
          "shapedefaults": {
           "fillcolor": "#f2f5fa",
           "line": {
            "width": 0
           },
           "opacity": 0.4
          },
          "sliderdefaults": {
           "bgcolor": "#C8D4E3",
           "bordercolor": "rgb(17,17,17)",
           "borderwidth": 1,
           "tickwidth": 0
          },
          "ternary": {
           "aaxis": {
            "gridcolor": "#506784",
            "linecolor": "#506784",
            "ticks": ""
           },
           "baxis": {
            "gridcolor": "#506784",
            "linecolor": "#506784",
            "ticks": ""
           },
           "bgcolor": "rgb(17,17,17)",
           "caxis": {
            "gridcolor": "#506784",
            "linecolor": "#506784",
            "ticks": ""
           }
          },
          "updatemenudefaults": {
           "bgcolor": "#506784",
           "borderwidth": 0
          },
          "xaxis": {
           "gridcolor": "#283442",
           "linecolor": "#506784",
           "ticks": "",
           "zerolinecolor": "#283442",
           "zerolinewidth": 2
          },
          "yaxis": {
           "gridcolor": "#283442",
           "linecolor": "#506784",
           "ticks": "",
           "zerolinecolor": "#283442",
           "zerolinewidth": 2
          }
         }
        },
        "title": "Life Expectancy and GDP per capita (1982)",
        "width": 900,
        "xaxis": {
         "title": "Life Expectancy"
        },
        "yaxis": {
         "title": "GDP per capita",
         "type": "log"
        }
       },
       "_py2js_addTraces": {},
       "_py2js_animate": {},
       "_py2js_deleteTraces": {},
       "_py2js_moveTraces": {},
       "_py2js_removeLayoutProps": {},
       "_py2js_removeTraceProps": {},
       "_py2js_restyle": {},
       "_py2js_update": {},
       "_view_count": 1
      }
     },
     "aeb80fbe8e2f46b3b32f22b2d840f7a0": {
      "buffers": [
       {
        "data": "yXa+nxqvTkB/arx0k/hDQMDKoUW2c0lAyqFFtvO9TkBWDi2ynQ9IQEA1XrpJvEdAX7pJDAJ7SkD2KFyPwiVIQBgEVg4twkhAgZVDi2x3SkAxCKwcWuRHQClcj8L1WExA6Pup8dL9SkAOLbKd72dIQFTjpZvEAExA2/l+arzURUBSuB6F6/FFQGmR7Xw/dUZA1HjpJjFITEAK16NwPcpGQKwcWmQ730pANl66SQxyRUBg5dAi26lDQDZeukkMYk1ARIts5/uJS0CTGARWDm1GQKRwPQrXE09AeOkmMQh8SEAYBFYOLdJGQGmR7Xw/9UVA6SYxCKzMSkAv3SQGga1QQDMzMzMz001A9ihcj8JlRUCWQ4ts53tNQAaBlUOLTEVAfT81XrrpRkBxPQrXo3hRQJZDi2znG0dAsXJoke0sTkCNl24SgzBKQClcj8L1OENACtejcD16RUD4U+OlmxRNQCUGgZVDK0lALIcW2c7HS0Do+6nx0k1JQEA1XrpJvEtAUI2XbhIDUEDpJjEIrOxIQA0CK4cW6UlAWDm0yHYuTkA=",
        "encoding": "base64",
        "path": [
         "_data",
         0,
         "x",
         "value"
        ]
       },
       {
        "data": "ZRu4AylxtkA5RrJH6ImlQHcRpiiX95NAIEHxYyTHsUCun/6zljmJQHdHxmrTfIFAfgG9cPd/okCJ9fwfBuaNQNNTP8pD74hAi28ofGbMk0DbVg6I+w2FQAA49uyBD7NARGtFm2tVpECtUnqm736mQPiL2ZJ1X6tA8QNGTZr+jEDMHUe9AWeAQAQlYM/iDoJAj8cMVK6EzUDnIzoVeh6KQOguibNCYItAaq6JuwDKikA9gnbi/TCKQO2CwTXnEJVAr3IN2BrqiEBCcte3mOGBQH9v058R9dBAejnsvoNblECRsBRubsaDQGGMo80cUINA4Cwly5kkl0CRtYZSE9CsQME3TZ89HaVAMhaX9GHjfEDjwRa7GV+wQEay7O7GbYxA7FG4HuWjmEBIqYQnOJO0QJCQN6+QjItAzxYQWt+InUBq+uyA67mXQEj99QoL5JZAb59VZjpjkkCkVMITIrzAQIz2eCEtnp1AJ94BnsRurkBG6uLb8FGLQIBG6dJPApVAjyCVYnfQq0CMOoQ7IVKFQNdMvtm2ApZA48nJH9emiEA=",
        "encoding": "base64",
        "path": [
         "_data",
         0,
         "y",
         "value"
        ]
       },
       {
        "data": "PzVeukl8UUDKoUW28+1KQF+6SQwCq09AcT0K16PwUkBcj8L1KKRRQG8Sg8DKqVBAzczMzMxcUkDZzvdT421SQJMYBFYO3U9A2c73U+MVUEBaZDvfT01MQKjGSzeJEU1AX7pJDAK7SUAxCKwcWnROQD0K16NwzVFAUrgehevZUECgGi/dJKZNQJHtfD81nlFADi2yne+3UECIFtnO97NOQAAAAAAAcFJAaJHtfD81UUCamZmZmalSQOxRuB6Fs1FAz/dT46UjUUA=",
        "encoding": "base64",
        "path": [
         "_data",
         1,
         "x",
         "value"
        ]
       },
       {
        "data": "hXtl3vKSwUBb7PZZBamoQHLBGfzVdrtAd/hrsrJc1kC1Oc5tquezQKZiY16TLbFAtDukGLyOtEA6cw8J65S8QDfBN00vWqZAaF95kMotvEAaUdobWAKwQGO0jqp+1LJAbyTQYKNsn0D9icqGhWOoQKYKRiUNtLdA6Zyf4pLFwkDlgcgirRyrQFeXUwKaYbtAIhYx7ICisEA7qMR1gCK5QGuad5x+LcRAuOhkqcPPwUB5I/PIY2zYQFjO3hk5CLtA4QZ8fjTIxUA=",
        "encoding": "base64",
        "path": [
         "_data",
         1,
         "y",
         "value"
        ]
       },
       {
        "data": "WmQ730/tQ0AW2c73U0NRQP3UeOkmAUlA0SLb+X56SUCamZmZmWFQQM3MzMzM3FJAQDVeuklMTEAxCKwcWhRMQI/C9Shcz01Av58aL90ET0DNzMzMzJxSQNejcD0KR1NAO99PjZfeT0BmZmZmZkZRQB1aZDvfx1BAsp3vp8bTUUD0/dR46b5QQAAAAAAAAFFAO99PjZe+TEC7SQwCKwdNQHjpJjEIzEhAd76fGi9dT0BOYhBYORRMQNEi2/l+Ck9AqMZLN4mBT0BxPQrXo/BRQJzEILByMFFA9ihcj8IlUEAK16NwPQpSQJHtfD81JlBAnMQgsHJoTUBEi2zn+xlQQFg5tMh2jkhA",
        "encoding": "base64",
        "path": [
         "_data",
         2,
         "x",
         "value"
        ]
       },
       {
        "data": "P785bReQjkAY7IZtycLSQIoIWtzaJ4VAo4+ex82Dg0BgVb38XhOOQBluwOdDcMxAYzcizsm9ikA095DwfbOXQC0HeqhVuL1A8DMuHPRazECGWtO8gwPOQDfg88MG7tJAev1JfGpBsEDRH5p5hgqwQKgZUkXx9rVAX3tmSYKe3kCVCFT/hNi9QPrPmh9bOLNAxR9FnWlCn0AAAAAAAIB6QH32Ehn8coZAZ9DQP2VNyUAZO+EluI2WQJQT7SqMVqRAVOOlm6Vz4EBdhZSflKDNQFMmNbRRwJlAvAD76KxjrUB4B3jSWgK9QJCeIodwsqJAwnrt4+IZhkDKpIY2CPCwQC9W1GA65p5A",
        "encoding": "base64",
        "path": [
         "_data",
         2,
         "y",
         "value"
        ]
       },
       {
        "data": "exSuR+GaUUDsUbgehUtSQOxRuB6Fe1JAXI/C9SisUUCF61G4HsVRQD0K16NwnVFAPQrXo3C9UUC4HoXrUahSQDMzMzMzo1JAKVyPwvW4UkAzMzMzM3NSQI/C9Shcz1JAKVyPwvVYUUCPwvUoXD9TQGZmZmZmRlJAH4XrUbi+UkBYObTIdoZSQDMzMzMzA1NArkfhehT+UkAUrkfhetRRQOF6FK5HMVJACtejcD1qUUDtfD81XopRQDMzMzMzs1FAeekmMQjEUUAzMzMzMxNTQHsUrkfhGlNAPQrXo3ANU0D4U+Olm4ROQMP1KFyPglJA",
        "encoding": "base64",
        "path": [
         "_data",
         3,
         "x",
         "value"
        ]
       },
       {
        "data": "vHX+7cJdrEBSswdaRRfVQIHPDyP2fNRAUG7b95wesECwjuOHGBDAQEaZDTLp0slAwFsgQZ0IzkAJbTmXAi7VQOFASBZKGdJAXhH8b3nR00BSg2kY4oPVQJw4ud810s1Aumbyzf6AyEAUrkfhZrnWQE1/9iMppchA5/up8V4m0EA91SE3S+vFQEc4LXjd5dRANEbrqKiu2UAGZ/D3w4HAQLyReeTr9MZAG4LjMqjCwkAr9pfdi6bNQEOtad5FKsZAeekmMa5y0UCms5PBFTPLQGZmZmbYLtRALa2GxG2720AgQlw5W5GwQCDvVSsbztFA",
        "encoding": "base64",
        "path": [
         "_data",
         3,
         "y",
         "value"
        ]
       },
       {
        "data": "j8L1KFyvUkD2KFyPwnVSQA==",
        "encoding": "base64",
        "path": [
         "_data",
         4,
         "x",
         "value"
        ]
       },
       {
        "data": "ISQLmEAF00CSXP5DGjjRQA==",
        "encoding": "base64",
        "path": [
         "_data",
         4,
         "y",
         "value"
        ]
       }
      ],
      "model_module": "plotlywidget",
      "model_module_version": "^0.5.0-rc.1",
      "model_name": "FigureModel",
      "state": {
       "_data": [
        {
         "marker": {
          "size": [
           20033753,
           7016384,
           3641603,
           970347,
           6634596,
           4580410,
           9250831,
           2476971,
           4875118,
           348643,
           30646495,
           1774735,
           9025951,
           305991,
           45681811,
           285483,
           2637297,
           38111756,
           753874,
           715523,
           11400338,
           4710497,
           825987,
           17661452,
           1411807,
           1956875,
           3344074,
           9171477,
           6502825,
           6998256,
           1622136,
           992040,
           20198730,
           12587223,
           1099010,
           6437188,
           73039376,
           517810,
           5507565,
           98593,
           6147783,
           3464522,
           5828892,
           31140029,
           20367053,
           649901,
           19844382,
           2644765,
           6734098,
           12939400,
           6100407,
           7636524
          ],
          "sizemode": "area",
          "sizeref": 200000
         },
         "mode": "markers",
         "name": "Africa",
         "text": [
          "Algeria",
          "Angola",
          "Benin",
          "Botswana",
          "Burkina Faso",
          "Burundi",
          "Cameroon",
          "Central African Republic",
          "Chad",
          "Comoros",
          "Congo, Dem. Rep.",
          "Congo, Rep.",
          "Cote d'Ivoire",
          "Djibouti",
          "Egypt",
          "Equatorial Guinea",
          "Eritrea",
          "Ethiopia",
          "Gabon",
          "Gambia",
          "Ghana",
          "Guinea",
          "Guinea-Bissau",
          "Kenya",
          "Lesotho",
          "Liberia",
          "Libya",
          "Madagascar",
          "Malawi",
          "Mali",
          "Mauritania",
          "Mauritius",
          "Morocco",
          "Mozambique",
          "Namibia",
          "Niger",
          "Nigeria",
          "Reunion",
          "Rwanda",
          "Sao Tome and Principe",
          "Senegal",
          "Sierra Leone",
          "Somalia",
          "South Africa",
          "Sudan",
          "Swaziland",
          "Tanzania",
          "Togo",
          "Tunisia",
          "Uganda",
          "Zambia",
          "Zimbabwe"
         ],
         "type": "scatter",
         "uid": "3bae9fb4-3da9-4ba7-8c14-0a4cfc092426",
         "x": {
          "dtype": "float64",
          "shape": [
           52
          ]
         },
         "y": {
          "dtype": "float64",
          "shape": [
           52
          ]
         }
        },
        {
         "marker": {
          "size": [
           29341374,
           5642224,
           128962939,
           25201900,
           11487112,
           27764644,
           2424367,
           9789224,
           5968349,
           8365850,
           4474873,
           6395630,
           5198399,
           3669448,
           2298309,
           71640904,
           2979423,
           2036305,
           3366439,
           18125129,
           3279001,
           1116479,
           232187835,
           2953997,
           15620766
          ],
          "sizemode": "area",
          "sizeref": 200000
         },
         "mode": "markers",
         "name": "Americas",
         "text": [
          "Argentina",
          "Bolivia",
          "Brazil",
          "Canada",
          "Chile",
          "Colombia",
          "Costa Rica",
          "Cuba",
          "Dominican Republic",
          "Ecuador",
          "El Salvador",
          "Guatemala",
          "Haiti",
          "Honduras",
          "Jamaica",
          "Mexico",
          "Nicaragua",
          "Panama",
          "Paraguay",
          "Peru",
          "Puerto Rico",
          "Trinidad and Tobago",
          "United States",
          "Uruguay",
          "Venezuela"
         ],
         "type": "scatter",
         "uid": "ea1d5129-d8ee-4c35-a7ec-1a82a24ba4d0",
         "x": {
          "dtype": "float64",
          "shape": [
           25
          ]
         },
         "y": {
          "dtype": "float64",
          "shape": [
           25
          ]
         }
        },
        {
         "marker": {
          "size": [
           12881816,
           377967,
           93074406,
           7272485,
           1000281000,
           5264500,
           708000000,
           153343000,
           43072751,
           14173318,
           3858421,
           118454974,
           2347031,
           17647518,
           39326000,
           1497494,
           3086876,
           14441916,
           1756032,
           34680442,
           15796314,
           1301048,
           91462088,
           53456774,
           11254672,
           2651869,
           15410151,
           9410494,
           18501390,
           48827160,
           56142181,
           1425876,
           9657618
          ],
          "sizemode": "area",
          "sizeref": 200000
         },
         "mode": "markers",
         "name": "Asia",
         "text": [
          "Afghanistan",
          "Bahrain",
          "Bangladesh",
          "Cambodia",
          "China",
          "Hong Kong, China",
          "India",
          "Indonesia",
          "Iran",
          "Iraq",
          "Israel",
          "Japan",
          "Jordan",
          "Korea, Dem. Rep.",
          "Korea, Rep.",
          "Kuwait",
          "Lebanon",
          "Malaysia",
          "Mongolia",
          "Myanmar",
          "Nepal",
          "Oman",
          "Pakistan",
          "Philippines",
          "Saudi Arabia",
          "Singapore",
          "Sri Lanka",
          "Syria",
          "Taiwan",
          "Thailand",
          "Vietnam",
          "West Bank and Gaza",
          "Yemen, Rep."
         ],
         "type": "scatter",
         "uid": "7b6953a4-8b8b-4cdc-885b-85c50ed2e893",
         "x": {
          "dtype": "float64",
          "shape": [
           33
          ]
         },
         "y": {
          "dtype": "float64",
          "shape": [
           33
          ]
         }
        },
        {
         "marker": {
          "size": [
           2780097,
           7574613,
           9856303,
           4172693,
           8892098,
           4413368,
           10303704,
           5117810,
           4826933,
           54433565,
           78335266,
           9786480,
           10705535,
           233997,
           3480000,
           56535636,
           562548,
           14310401,
           4114787,
           36227381,
           9859650,
           22356726,
           9032824,
           5048043,
           1861252,
           37983310,
           8325260,
           6468126,
           47328791,
           56339704
          ],
          "sizemode": "area",
          "sizeref": 200000
         },
         "mode": "markers",
         "name": "Europe",
         "text": [
          "Albania",
          "Austria",
          "Belgium",
          "Bosnia and Herzegovina",
          "Bulgaria",
          "Croatia",
          "Czech Republic",
          "Denmark",
          "Finland",
          "France",
          "Germany",
          "Greece",
          "Hungary",
          "Iceland",
          "Ireland",
          "Italy",
          "Montenegro",
          "Netherlands",
          "Norway",
          "Poland",
          "Portugal",
          "Romania",
          "Serbia",
          "Slovak Republic",
          "Slovenia",
          "Spain",
          "Sweden",
          "Switzerland",
          "Turkey",
          "United Kingdom"
         ],
         "type": "scatter",
         "uid": "6ebbe150-c150-4009-bb32-bb026c399984",
         "x": {
          "dtype": "float64",
          "shape": [
           30
          ]
         },
         "y": {
          "dtype": "float64",
          "shape": [
           30
          ]
         }
        },
        {
         "marker": {
          "size": [
           15184200,
           3210650
          ],
          "sizemode": "area",
          "sizeref": 200000
         },
         "mode": "markers",
         "name": "Oceania",
         "text": [
          "Australia",
          "New Zealand"
         ],
         "type": "scatter",
         "uid": "3ed86d61-a73f-40fa-a84d-1c8f83bc6873",
         "x": {
          "dtype": "float64",
          "shape": [
           2
          ]
         },
         "y": {
          "dtype": "float64",
          "shape": [
           2
          ]
         }
        }
       ],
       "_js2py_pointsCallback": {},
       "_js2py_relayout": {},
       "_js2py_restyle": {},
       "_js2py_update": {},
       "_last_layout_edit_id": 1,
       "_layout": {
        "height": 700,
        "template": {
         "data": {
          "bar": [
           {
            "marker": {
             "autocolorscale": false,
             "colorbar": {
              "outlinewidth": 0,
              "ticks": ""
             },
             "colorscale": [
              [
               0,
               "#0508b8"
              ],
              [
               0.0893854748603352,
               "#1910d8"
              ],
              [
               0.1787709497206704,
               "#3c19f0"
              ],
              [
               0.2681564245810056,
               "#6b1cfb"
              ],
              [
               0.3575418994413408,
               "#981cfd"
              ],
              [
               0.44692737430167595,
               "#bf1cfd"
              ],
              [
               0.5363128491620112,
               "#dd2bfd"
              ],
              [
               0.6256983240223464,
               "#f246fe"
              ],
              [
               0.7150837988826816,
               "#fc67fd"
              ],
              [
               0.8044692737430168,
               "#fe88fc"
              ],
              [
               0.8938547486033519,
               "#fea5fd"
              ],
              [
               0.9832402234636871,
               "#febefe"
              ],
              [
               1,
               "#fec3fe"
              ]
             ],
             "line": {
              "autocolorscale": false,
              "colorscale": [
               [
                0,
                "#0508b8"
               ],
               [
                0.0893854748603352,
                "#1910d8"
               ],
               [
                0.1787709497206704,
                "#3c19f0"
               ],
               [
                0.2681564245810056,
                "#6b1cfb"
               ],
               [
                0.3575418994413408,
                "#981cfd"
               ],
               [
                0.44692737430167595,
                "#bf1cfd"
               ],
               [
                0.5363128491620112,
                "#dd2bfd"
               ],
               [
                0.6256983240223464,
                "#f246fe"
               ],
               [
                0.7150837988826816,
                "#fc67fd"
               ],
               [
                0.8044692737430168,
                "#fe88fc"
               ],
               [
                0.8938547486033519,
                "#fea5fd"
               ],
               [
                0.9832402234636871,
                "#febefe"
               ],
               [
                1,
                "#fec3fe"
               ]
              ]
             }
            },
            "type": "bar"
           }
          ],
          "carpet": [
           {
            "aaxis": {
             "endlinecolor": "#2a3f5f",
             "gridcolor": "white",
             "linecolor": "white",
             "minorgridcolor": "white",
             "startlinecolor": "#2a3f5f"
            },
            "baxis": {
             "endlinecolor": "#2a3f5f",
             "gridcolor": "white",
             "linecolor": "white",
             "minorgridcolor": "white",
             "startlinecolor": "#2a3f5f"
            },
            "type": "carpet"
           }
          ],
          "choropleth": [
           {
            "autocolorscale": false,
            "colorbar": {
             "outlinewidth": 0,
             "ticks": ""
            },
            "colorscale": [
             [
              0,
              "#0508b8"
             ],
             [
              0.0893854748603352,
              "#1910d8"
             ],
             [
              0.1787709497206704,
              "#3c19f0"
             ],
             [
              0.2681564245810056,
              "#6b1cfb"
             ],
             [
              0.3575418994413408,
              "#981cfd"
             ],
             [
              0.44692737430167595,
              "#bf1cfd"
             ],
             [
              0.5363128491620112,
              "#dd2bfd"
             ],
             [
              0.6256983240223464,
              "#f246fe"
             ],
             [
              0.7150837988826816,
              "#fc67fd"
             ],
             [
              0.8044692737430168,
              "#fe88fc"
             ],
             [
              0.8938547486033519,
              "#fea5fd"
             ],
             [
              0.9832402234636871,
              "#febefe"
             ],
             [
              1,
              "#fec3fe"
             ]
            ],
            "type": "choropleth"
           }
          ],
          "contour": [
           {
            "autocolorscale": false,
            "colorbar": {
             "outlinewidth": 0,
             "ticks": ""
            },
            "colorscale": [
             [
              0,
              "#0508b8"
             ],
             [
              0.0893854748603352,
              "#1910d8"
             ],
             [
              0.1787709497206704,
              "#3c19f0"
             ],
             [
              0.2681564245810056,
              "#6b1cfb"
             ],
             [
              0.3575418994413408,
              "#981cfd"
             ],
             [
              0.44692737430167595,
              "#bf1cfd"
             ],
             [
              0.5363128491620112,
              "#dd2bfd"
             ],
             [
              0.6256983240223464,
              "#f246fe"
             ],
             [
              0.7150837988826816,
              "#fc67fd"
             ],
             [
              0.8044692737430168,
              "#fe88fc"
             ],
             [
              0.8938547486033519,
              "#fea5fd"
             ],
             [
              0.9832402234636871,
              "#febefe"
             ],
             [
              1,
              "#fec3fe"
             ]
            ],
            "type": "contour"
           }
          ],
          "contourcarpet": [
           {
            "autocolorscale": false,
            "colorbar": {
             "outlinewidth": 0,
             "ticks": ""
            },
            "colorscale": [
             [
              0,
              "#0508b8"
             ],
             [
              0.0893854748603352,
              "#1910d8"
             ],
             [
              0.1787709497206704,
              "#3c19f0"
             ],
             [
              0.2681564245810056,
              "#6b1cfb"
             ],
             [
              0.3575418994413408,
              "#981cfd"
             ],
             [
              0.44692737430167595,
              "#bf1cfd"
             ],
             [
              0.5363128491620112,
              "#dd2bfd"
             ],
             [
              0.6256983240223464,
              "#f246fe"
             ],
             [
              0.7150837988826816,
              "#fc67fd"
             ],
             [
              0.8044692737430168,
              "#fe88fc"
             ],
             [
              0.8938547486033519,
              "#fea5fd"
             ],
             [
              0.9832402234636871,
              "#febefe"
             ],
             [
              1,
              "#fec3fe"
             ]
            ],
            "type": "contourcarpet"
           }
          ],
          "heatmap": [
           {
            "autocolorscale": false,
            "colorbar": {
             "outlinewidth": 0,
             "ticks": ""
            },
            "colorscale": [
             [
              0,
              "#0508b8"
             ],
             [
              0.0893854748603352,
              "#1910d8"
             ],
             [
              0.1787709497206704,
              "#3c19f0"
             ],
             [
              0.2681564245810056,
              "#6b1cfb"
             ],
             [
              0.3575418994413408,
              "#981cfd"
             ],
             [
              0.44692737430167595,
              "#bf1cfd"
             ],
             [
              0.5363128491620112,
              "#dd2bfd"
             ],
             [
              0.6256983240223464,
              "#f246fe"
             ],
             [
              0.7150837988826816,
              "#fc67fd"
             ],
             [
              0.8044692737430168,
              "#fe88fc"
             ],
             [
              0.8938547486033519,
              "#fea5fd"
             ],
             [
              0.9832402234636871,
              "#febefe"
             ],
             [
              1,
              "#fec3fe"
             ]
            ],
            "type": "heatmap"
           }
          ],
          "heatmapgl": [
           {
            "autocolorscale": false,
            "colorbar": {
             "outlinewidth": 0,
             "ticks": ""
            },
            "colorscale": [
             [
              0,
              "#0508b8"
             ],
             [
              0.0893854748603352,
              "#1910d8"
             ],
             [
              0.1787709497206704,
              "#3c19f0"
             ],
             [
              0.2681564245810056,
              "#6b1cfb"
             ],
             [
              0.3575418994413408,
              "#981cfd"
             ],
             [
              0.44692737430167595,
              "#bf1cfd"
             ],
             [
              0.5363128491620112,
              "#dd2bfd"
             ],
             [
              0.6256983240223464,
              "#f246fe"
             ],
             [
              0.7150837988826816,
              "#fc67fd"
             ],
             [
              0.8044692737430168,
              "#fe88fc"
             ],
             [
              0.8938547486033519,
              "#fea5fd"
             ],
             [
              0.9832402234636871,
              "#febefe"
             ],
             [
              1,
              "#fec3fe"
             ]
            ],
            "type": "heatmapgl"
           }
          ],
          "histogram": [
           {
            "marker": {
             "autocolorscale": false,
             "colorbar": {
              "outlinewidth": 0,
              "ticks": ""
             },
             "colorscale": [
              [
               0,
               "#0508b8"
              ],
              [
               0.0893854748603352,
               "#1910d8"
              ],
              [
               0.1787709497206704,
               "#3c19f0"
              ],
              [
               0.2681564245810056,
               "#6b1cfb"
              ],
              [
               0.3575418994413408,
               "#981cfd"
              ],
              [
               0.44692737430167595,
               "#bf1cfd"
              ],
              [
               0.5363128491620112,
               "#dd2bfd"
              ],
              [
               0.6256983240223464,
               "#f246fe"
              ],
              [
               0.7150837988826816,
               "#fc67fd"
              ],
              [
               0.8044692737430168,
               "#fe88fc"
              ],
              [
               0.8938547486033519,
               "#fea5fd"
              ],
              [
               0.9832402234636871,
               "#febefe"
              ],
              [
               1,
               "#fec3fe"
              ]
             ]
            },
            "type": "histogram"
           }
          ],
          "histogram2d": [
           {
            "autocolorscale": false,
            "colorbar": {
             "outlinewidth": 0,
             "ticks": ""
            },
            "colorscale": [
             [
              0,
              "#0508b8"
             ],
             [
              0.0893854748603352,
              "#1910d8"
             ],
             [
              0.1787709497206704,
              "#3c19f0"
             ],
             [
              0.2681564245810056,
              "#6b1cfb"
             ],
             [
              0.3575418994413408,
              "#981cfd"
             ],
             [
              0.44692737430167595,
              "#bf1cfd"
             ],
             [
              0.5363128491620112,
              "#dd2bfd"
             ],
             [
              0.6256983240223464,
              "#f246fe"
             ],
             [
              0.7150837988826816,
              "#fc67fd"
             ],
             [
              0.8044692737430168,
              "#fe88fc"
             ],
             [
              0.8938547486033519,
              "#fea5fd"
             ],
             [
              0.9832402234636871,
              "#febefe"
             ],
             [
              1,
              "#fec3fe"
             ]
            ],
            "type": "histogram2d"
           }
          ],
          "histogram2dcontour": [
           {
            "autocolorscale": false,
            "colorbar": {
             "outlinewidth": 0,
             "ticks": ""
            },
            "colorscale": [
             [
              0,
              "#0508b8"
             ],
             [
              0.0893854748603352,
              "#1910d8"
             ],
             [
              0.1787709497206704,
              "#3c19f0"
             ],
             [
              0.2681564245810056,
              "#6b1cfb"
             ],
             [
              0.3575418994413408,
              "#981cfd"
             ],
             [
              0.44692737430167595,
              "#bf1cfd"
             ],
             [
              0.5363128491620112,
              "#dd2bfd"
             ],
             [
              0.6256983240223464,
              "#f246fe"
             ],
             [
              0.7150837988826816,
              "#fc67fd"
             ],
             [
              0.8044692737430168,
              "#fe88fc"
             ],
             [
              0.8938547486033519,
              "#fea5fd"
             ],
             [
              0.9832402234636871,
              "#febefe"
             ],
             [
              1,
              "#fec3fe"
             ]
            ],
            "type": "histogram2dcontour"
           }
          ],
          "mesh3d": [
           {
            "autocolorscale": false,
            "colorbar": {
             "outlinewidth": 0,
             "ticks": ""
            },
            "colorscale": [
             [
              0,
              "#0508b8"
             ],
             [
              0.0893854748603352,
              "#1910d8"
             ],
             [
              0.1787709497206704,
              "#3c19f0"
             ],
             [
              0.2681564245810056,
              "#6b1cfb"
             ],
             [
              0.3575418994413408,
              "#981cfd"
             ],
             [
              0.44692737430167595,
              "#bf1cfd"
             ],
             [
              0.5363128491620112,
              "#dd2bfd"
             ],
             [
              0.6256983240223464,
              "#f246fe"
             ],
             [
              0.7150837988826816,
              "#fc67fd"
             ],
             [
              0.8044692737430168,
              "#fe88fc"
             ],
             [
              0.8938547486033519,
              "#fea5fd"
             ],
             [
              0.9832402234636871,
              "#febefe"
             ],
             [
              1,
              "#fec3fe"
             ]
            ],
            "type": "mesh3d"
           }
          ],
          "parcoords": [
           {
            "line": {
             "autocolorscale": false,
             "colorbar": {
              "outlinewidth": 0,
              "ticks": ""
             },
             "colorscale": [
              [
               0,
               "#0508b8"
              ],
              [
               0.0893854748603352,
               "#1910d8"
              ],
              [
               0.1787709497206704,
               "#3c19f0"
              ],
              [
               0.2681564245810056,
               "#6b1cfb"
              ],
              [
               0.3575418994413408,
               "#981cfd"
              ],
              [
               0.44692737430167595,
               "#bf1cfd"
              ],
              [
               0.5363128491620112,
               "#dd2bfd"
              ],
              [
               0.6256983240223464,
               "#f246fe"
              ],
              [
               0.7150837988826816,
               "#fc67fd"
              ],
              [
               0.8044692737430168,
               "#fe88fc"
              ],
              [
               0.8938547486033519,
               "#fea5fd"
              ],
              [
               0.9832402234636871,
               "#febefe"
              ],
              [
               1,
               "#fec3fe"
              ]
             ]
            },
            "type": "parcoords"
           }
          ],
          "scatter": [
           {
            "line": {
             "width": 3
            },
            "marker": {
             "autocolorscale": false,
             "colorbar": {
              "outlinewidth": 0,
              "ticks": ""
             },
             "colorscale": [
              [
               0,
               "#0508b8"
              ],
              [
               0.0893854748603352,
               "#1910d8"
              ],
              [
               0.1787709497206704,
               "#3c19f0"
              ],
              [
               0.2681564245810056,
               "#6b1cfb"
              ],
              [
               0.3575418994413408,
               "#981cfd"
              ],
              [
               0.44692737430167595,
               "#bf1cfd"
              ],
              [
               0.5363128491620112,
               "#dd2bfd"
              ],
              [
               0.6256983240223464,
               "#f246fe"
              ],
              [
               0.7150837988826816,
               "#fc67fd"
              ],
              [
               0.8044692737430168,
               "#fe88fc"
              ],
              [
               0.8938547486033519,
               "#fea5fd"
              ],
              [
               0.9832402234636871,
               "#febefe"
              ],
              [
               1,
               "#fec3fe"
              ]
             ],
             "line": {
              "autocolorscale": false,
              "colorscale": [
               [
                0,
                "#0508b8"
               ],
               [
                0.0893854748603352,
                "#1910d8"
               ],
               [
                0.1787709497206704,
                "#3c19f0"
               ],
               [
                0.2681564245810056,
                "#6b1cfb"
               ],
               [
                0.3575418994413408,
                "#981cfd"
               ],
               [
                0.44692737430167595,
                "#bf1cfd"
               ],
               [
                0.5363128491620112,
                "#dd2bfd"
               ],
               [
                0.6256983240223464,
                "#f246fe"
               ],
               [
                0.7150837988826816,
                "#fc67fd"
               ],
               [
                0.8044692737430168,
                "#fe88fc"
               ],
               [
                0.8938547486033519,
                "#fea5fd"
               ],
               [
                0.9832402234636871,
                "#febefe"
               ],
               [
                1,
                "#fec3fe"
               ]
              ]
             },
             "size": 9
            },
            "type": "scatter"
           }
          ],
          "scatter3d": [
           {
            "line": {
             "autocolorscale": false,
             "colorscale": [
              [
               0,
               "#0508b8"
              ],
              [
               0.0893854748603352,
               "#1910d8"
              ],
              [
               0.1787709497206704,
               "#3c19f0"
              ],
              [
               0.2681564245810056,
               "#6b1cfb"
              ],
              [
               0.3575418994413408,
               "#981cfd"
              ],
              [
               0.44692737430167595,
               "#bf1cfd"
              ],
              [
               0.5363128491620112,
               "#dd2bfd"
              ],
              [
               0.6256983240223464,
               "#f246fe"
              ],
              [
               0.7150837988826816,
               "#fc67fd"
              ],
              [
               0.8044692737430168,
               "#fe88fc"
              ],
              [
               0.8938547486033519,
               "#fea5fd"
              ],
              [
               0.9832402234636871,
               "#febefe"
              ],
              [
               1,
               "#fec3fe"
              ]
             ],
             "width": 3
            },
            "marker": {
             "autocolorscale": false,
             "colorbar": {
              "outlinewidth": 0,
              "ticks": ""
             },
             "colorscale": [
              [
               0,
               "#0508b8"
              ],
              [
               0.0893854748603352,
               "#1910d8"
              ],
              [
               0.1787709497206704,
               "#3c19f0"
              ],
              [
               0.2681564245810056,
               "#6b1cfb"
              ],
              [
               0.3575418994413408,
               "#981cfd"
              ],
              [
               0.44692737430167595,
               "#bf1cfd"
              ],
              [
               0.5363128491620112,
               "#dd2bfd"
              ],
              [
               0.6256983240223464,
               "#f246fe"
              ],
              [
               0.7150837988826816,
               "#fc67fd"
              ],
              [
               0.8044692737430168,
               "#fe88fc"
              ],
              [
               0.8938547486033519,
               "#fea5fd"
              ],
              [
               0.9832402234636871,
               "#febefe"
              ],
              [
               1,
               "#fec3fe"
              ]
             ],
             "size": 9
            },
            "type": "scatter3d"
           }
          ],
          "scattercarpet": [
           {
            "marker": {
             "autocolorscale": false,
             "colorbar": {
              "outlinewidth": 0,
              "ticks": ""
             },
             "colorscale": [
              [
               0,
               "#0508b8"
              ],
              [
               0.0893854748603352,
               "#1910d8"
              ],
              [
               0.1787709497206704,
               "#3c19f0"
              ],
              [
               0.2681564245810056,
               "#6b1cfb"
              ],
              [
               0.3575418994413408,
               "#981cfd"
              ],
              [
               0.44692737430167595,
               "#bf1cfd"
              ],
              [
               0.5363128491620112,
               "#dd2bfd"
              ],
              [
               0.6256983240223464,
               "#f246fe"
              ],
              [
               0.7150837988826816,
               "#fc67fd"
              ],
              [
               0.8044692737430168,
               "#fe88fc"
              ],
              [
               0.8938547486033519,
               "#fea5fd"
              ],
              [
               0.9832402234636871,
               "#febefe"
              ],
              [
               1,
               "#fec3fe"
              ]
             ]
            },
            "type": "scattercarpet"
           }
          ],
          "scattergeo": [
           {
            "line": {
             "width": 3
            },
            "marker": {
             "autocolorscale": false,
             "colorbar": {
              "outlinewidth": 0,
              "ticks": ""
             },
             "colorscale": [
              [
               0,
               "#0508b8"
              ],
              [
               0.0893854748603352,
               "#1910d8"
              ],
              [
               0.1787709497206704,
               "#3c19f0"
              ],
              [
               0.2681564245810056,
               "#6b1cfb"
              ],
              [
               0.3575418994413408,
               "#981cfd"
              ],
              [
               0.44692737430167595,
               "#bf1cfd"
              ],
              [
               0.5363128491620112,
               "#dd2bfd"
              ],
              [
               0.6256983240223464,
               "#f246fe"
              ],
              [
               0.7150837988826816,
               "#fc67fd"
              ],
              [
               0.8044692737430168,
               "#fe88fc"
              ],
              [
               0.8938547486033519,
               "#fea5fd"
              ],
              [
               0.9832402234636871,
               "#febefe"
              ],
              [
               1,
               "#fec3fe"
              ]
             ],
             "size": 9
            },
            "type": "scattergeo"
           }
          ],
          "scattergl": [
           {
            "line": {
             "width": 3
            },
            "marker": {
             "autocolorscale": false,
             "colorbar": {
              "outlinewidth": 0,
              "ticks": ""
             },
             "colorscale": [
              [
               0,
               "#0508b8"
              ],
              [
               0.0893854748603352,
               "#1910d8"
              ],
              [
               0.1787709497206704,
               "#3c19f0"
              ],
              [
               0.2681564245810056,
               "#6b1cfb"
              ],
              [
               0.3575418994413408,
               "#981cfd"
              ],
              [
               0.44692737430167595,
               "#bf1cfd"
              ],
              [
               0.5363128491620112,
               "#dd2bfd"
              ],
              [
               0.6256983240223464,
               "#f246fe"
              ],
              [
               0.7150837988826816,
               "#fc67fd"
              ],
              [
               0.8044692737430168,
               "#fe88fc"
              ],
              [
               0.8938547486033519,
               "#fea5fd"
              ],
              [
               0.9832402234636871,
               "#febefe"
              ],
              [
               1,
               "#fec3fe"
              ]
             ],
             "size": 9
            },
            "type": "scattergl"
           }
          ],
          "scattermapbox": [
           {
            "marker": {
             "autocolorscale": false,
             "colorbar": {
              "outlinewidth": 0,
              "ticks": ""
             },
             "colorscale": [
              [
               0,
               "#0508b8"
              ],
              [
               0.0893854748603352,
               "#1910d8"
              ],
              [
               0.1787709497206704,
               "#3c19f0"
              ],
              [
               0.2681564245810056,
               "#6b1cfb"
              ],
              [
               0.3575418994413408,
               "#981cfd"
              ],
              [
               0.44692737430167595,
               "#bf1cfd"
              ],
              [
               0.5363128491620112,
               "#dd2bfd"
              ],
              [
               0.6256983240223464,
               "#f246fe"
              ],
              [
               0.7150837988826816,
               "#fc67fd"
              ],
              [
               0.8044692737430168,
               "#fe88fc"
              ],
              [
               0.8938547486033519,
               "#fea5fd"
              ],
              [
               0.9832402234636871,
               "#febefe"
              ],
              [
               1,
               "#fec3fe"
              ]
             ]
            },
            "type": "scattermapbox"
           }
          ],
          "scatterpolar": [
           {
            "line": {
             "width": 3
            },
            "marker": {
             "autocolorscale": false,
             "colorbar": {
              "outlinewidth": 0,
              "ticks": ""
             },
             "colorscale": [
              [
               0,
               "#0508b8"
              ],
              [
               0.0893854748603352,
               "#1910d8"
              ],
              [
               0.1787709497206704,
               "#3c19f0"
              ],
              [
               0.2681564245810056,
               "#6b1cfb"
              ],
              [
               0.3575418994413408,
               "#981cfd"
              ],
              [
               0.44692737430167595,
               "#bf1cfd"
              ],
              [
               0.5363128491620112,
               "#dd2bfd"
              ],
              [
               0.6256983240223464,
               "#f246fe"
              ],
              [
               0.7150837988826816,
               "#fc67fd"
              ],
              [
               0.8044692737430168,
               "#fe88fc"
              ],
              [
               0.8938547486033519,
               "#fea5fd"
              ],
              [
               0.9832402234636871,
               "#febefe"
              ],
              [
               1,
               "#fec3fe"
              ]
             ],
             "size": 9
            },
            "type": "scatterpolar"
           }
          ],
          "scatterpolargl": [
           {
            "line": {
             "width": 3
            },
            "marker": {
             "autocolorscale": false,
             "colorbar": {
              "outlinewidth": 0,
              "ticks": ""
             },
             "colorscale": [
              [
               0,
               "#0508b8"
              ],
              [
               0.0893854748603352,
               "#1910d8"
              ],
              [
               0.1787709497206704,
               "#3c19f0"
              ],
              [
               0.2681564245810056,
               "#6b1cfb"
              ],
              [
               0.3575418994413408,
               "#981cfd"
              ],
              [
               0.44692737430167595,
               "#bf1cfd"
              ],
              [
               0.5363128491620112,
               "#dd2bfd"
              ],
              [
               0.6256983240223464,
               "#f246fe"
              ],
              [
               0.7150837988826816,
               "#fc67fd"
              ],
              [
               0.8044692737430168,
               "#fe88fc"
              ],
              [
               0.8938547486033519,
               "#fea5fd"
              ],
              [
               0.9832402234636871,
               "#febefe"
              ],
              [
               1,
               "#fec3fe"
              ]
             ],
             "line": {
              "autocolorscale": false,
              "colorscale": [
               [
                0,
                "#0508b8"
               ],
               [
                0.0893854748603352,
                "#1910d8"
               ],
               [
                0.1787709497206704,
                "#3c19f0"
               ],
               [
                0.2681564245810056,
                "#6b1cfb"
               ],
               [
                0.3575418994413408,
                "#981cfd"
               ],
               [
                0.44692737430167595,
                "#bf1cfd"
               ],
               [
                0.5363128491620112,
                "#dd2bfd"
               ],
               [
                0.6256983240223464,
                "#f246fe"
               ],
               [
                0.7150837988826816,
                "#fc67fd"
               ],
               [
                0.8044692737430168,
                "#fe88fc"
               ],
               [
                0.8938547486033519,
                "#fea5fd"
               ],
               [
                0.9832402234636871,
                "#febefe"
               ],
               [
                1,
                "#fec3fe"
               ]
              ]
             },
             "size": 9
            },
            "type": "scatterpolargl"
           }
          ],
          "scatterternary": [
           {
            "line": {
             "width": 3
            },
            "marker": {
             "autocolorscale": false,
             "colorbar": {
              "outlinewidth": 0,
              "ticks": ""
             },
             "colorscale": [
              [
               0,
               "#0508b8"
              ],
              [
               0.0893854748603352,
               "#1910d8"
              ],
              [
               0.1787709497206704,
               "#3c19f0"
              ],
              [
               0.2681564245810056,
               "#6b1cfb"
              ],
              [
               0.3575418994413408,
               "#981cfd"
              ],
              [
               0.44692737430167595,
               "#bf1cfd"
              ],
              [
               0.5363128491620112,
               "#dd2bfd"
              ],
              [
               0.6256983240223464,
               "#f246fe"
              ],
              [
               0.7150837988826816,
               "#fc67fd"
              ],
              [
               0.8044692737430168,
               "#fe88fc"
              ],
              [
               0.8938547486033519,
               "#fea5fd"
              ],
              [
               0.9832402234636871,
               "#febefe"
              ],
              [
               1,
               "#fec3fe"
              ]
             ],
             "size": 9
            },
            "type": "scatterternary"
           }
          ],
          "surface": [
           {
            "autocolorscale": false,
            "colorbar": {
             "outlinewidth": 0,
             "ticks": ""
            },
            "colorscale": [
             [
              0,
              "#0508b8"
             ],
             [
              0.0893854748603352,
              "#1910d8"
             ],
             [
              0.1787709497206704,
              "#3c19f0"
             ],
             [
              0.2681564245810056,
              "#6b1cfb"
             ],
             [
              0.3575418994413408,
              "#981cfd"
             ],
             [
              0.44692737430167595,
              "#bf1cfd"
             ],
             [
              0.5363128491620112,
              "#dd2bfd"
             ],
             [
              0.6256983240223464,
              "#f246fe"
             ],
             [
              0.7150837988826816,
              "#fc67fd"
             ],
             [
              0.8044692737430168,
              "#fe88fc"
             ],
             [
              0.8938547486033519,
              "#fea5fd"
             ],
             [
              0.9832402234636871,
              "#febefe"
             ],
             [
              1,
              "#fec3fe"
             ]
            ],
            "type": "surface"
           }
          ],
          "table": [
           {
            "cells": {
             "fill": {
              "color": "#EBF0F8"
             },
             "height": 30,
             "line": {
              "color": "white"
             }
            },
            "header": {
             "fill": {
              "color": "#C8D4E3"
             },
             "height": 36,
             "line": {
              "color": "white"
             }
            },
            "type": "table"
           }
          ]
         },
         "layout": {
          "annotationdefaults": {
           "arrowcolor": "#506784",
           "arrowhead": 0,
           "arrowwidth": 1
          },
          "colorway": [
           "#636efa",
           "#EF553B",
           "#00cc96",
           "#ab63fa",
           "#19d3f3",
           "#e763fa"
          ],
          "font": {
           "color": "#2a3f5f",
           "size": 18
          },
          "geo": {
           "bgcolor": "white",
           "lakecolor": "white",
           "landcolor": "#E5ECF6",
           "showlakes": true,
           "showland": true,
           "subunitcolor": "white"
          },
          "paper_bgcolor": "white",
          "plot_bgcolor": "#E5ECF6",
          "polar": {
           "angularaxis": {
            "gridcolor": "white",
            "linecolor": "white",
            "ticks": ""
           },
           "bgcolor": "#E5ECF6",
           "radialaxis": {
            "gridcolor": "white",
            "linecolor": "white",
            "ticks": ""
           }
          },
          "scene": {
           "xaxis": {
            "backgroundcolor": "#E5ECF6",
            "gridcolor": "white",
            "gridwidth": 2,
            "linecolor": "white",
            "showbackground": true,
            "ticks": "",
            "zerolinecolor": "white"
           },
           "yaxis": {
            "backgroundcolor": "#E5ECF6",
            "gridcolor": "white",
            "gridwidth": 2,
            "linecolor": "white",
            "showbackground": true,
            "ticks": "",
            "zerolinecolor": "white"
           },
           "zaxis": {
            "backgroundcolor": "#E5ECF6",
            "gridcolor": "white",
            "gridwidth": 2,
            "linecolor": "white",
            "showbackground": true,
            "ticks": "",
            "zerolinecolor": "white"
           }
          },
          "shapedefaults": {
           "fillcolor": "#506784",
           "line": {
            "width": 0
           },
           "opacity": 0.4
          },
          "ternary": {
           "aaxis": {
            "gridcolor": "white",
            "linecolor": "white",
            "ticks": ""
           },
           "baxis": {
            "gridcolor": "white",
            "linecolor": "white",
            "ticks": ""
           },
           "bgcolor": "#E5ECF6",
           "caxis": {
            "gridcolor": "white",
            "linecolor": "white",
            "ticks": ""
           }
          },
          "xaxis": {
           "automargin": true,
           "gridcolor": "white",
           "linecolor": "white",
           "ticks": "",
           "zerolinecolor": "white",
           "zerolinewidth": 2
          },
          "yaxis": {
           "automargin": true,
           "gridcolor": "white",
           "linecolor": "white",
           "ticks": "",
           "zerolinecolor": "white",
           "zerolinewidth": 2
          }
         }
        },
        "title": "Life Expectancy and GDP per capita (1982)",
        "width": 900,
        "xaxis": {
         "title": "Life Expectancy"
        },
        "yaxis": {
         "title": "GDP per capita",
         "type": "log"
        }
       },
       "_py2js_addTraces": {},
       "_py2js_animate": {},
       "_py2js_deleteTraces": {},
       "_py2js_moveTraces": {},
       "_py2js_removeLayoutProps": {},
       "_py2js_removeTraceProps": {},
       "_py2js_restyle": {},
       "_py2js_update": {},
       "_view_count": 1
      }
     },
     "d7245ae73ef14abdade9d4b4cdbcaad4": {
      "buffers": [
       {
        "data": "yXa+nxqvTkB/arx0k/hDQMDKoUW2c0lAyqFFtvO9TkBWDi2ynQ9IQEA1XrpJvEdAX7pJDAJ7SkD2KFyPwiVIQBgEVg4twkhAgZVDi2x3SkAxCKwcWuRHQClcj8L1WExA6Pup8dL9SkAOLbKd72dIQFTjpZvEAExA2/l+arzURUBSuB6F6/FFQGmR7Xw/dUZA1HjpJjFITEAK16NwPcpGQKwcWmQ730pANl66SQxyRUBg5dAi26lDQDZeukkMYk1ARIts5/uJS0CTGARWDm1GQKRwPQrXE09AeOkmMQh8SEAYBFYOLdJGQGmR7Xw/9UVA6SYxCKzMSkAv3SQGga1QQDMzMzMz001A9ihcj8JlRUCWQ4ts53tNQAaBlUOLTEVAfT81XrrpRkBxPQrXo3hRQJZDi2znG0dAsXJoke0sTkCNl24SgzBKQClcj8L1OENACtejcD16RUD4U+OlmxRNQCUGgZVDK0lALIcW2c7HS0Do+6nx0k1JQEA1XrpJvEtAUI2XbhIDUEDpJjEIrOxIQA0CK4cW6UlAWDm0yHYuTkA=",
        "encoding": "base64",
        "path": [
         "_data",
         0,
         "x",
         "value"
        ]
       },
       {
        "data": "ZRu4AylxtkA5RrJH6ImlQHcRpiiX95NAIEHxYyTHsUCun/6zljmJQHdHxmrTfIFAfgG9cPd/okCJ9fwfBuaNQNNTP8pD74hAi28ofGbMk0DbVg6I+w2FQAA49uyBD7NARGtFm2tVpECtUnqm736mQPiL2ZJ1X6tA8QNGTZr+jEDMHUe9AWeAQAQlYM/iDoJAj8cMVK6EzUDnIzoVeh6KQOguibNCYItAaq6JuwDKikA9gnbi/TCKQO2CwTXnEJVAr3IN2BrqiEBCcte3mOGBQH9v058R9dBAejnsvoNblECRsBRubsaDQGGMo80cUINA4Cwly5kkl0CRtYZSE9CsQME3TZ89HaVAMhaX9GHjfEDjwRa7GV+wQEay7O7GbYxA7FG4HuWjmEBIqYQnOJO0QJCQN6+QjItAzxYQWt+InUBq+uyA67mXQEj99QoL5JZAb59VZjpjkkCkVMITIrzAQIz2eCEtnp1AJ94BnsRurkBG6uLb8FGLQIBG6dJPApVAjyCVYnfQq0CMOoQ7IVKFQNdMvtm2ApZA48nJH9emiEA=",
        "encoding": "base64",
        "path": [
         "_data",
         0,
         "y",
         "value"
        ]
       },
       {
        "data": "PzVeukl8UUDKoUW28+1KQF+6SQwCq09AcT0K16PwUkBcj8L1KKRRQG8Sg8DKqVBAzczMzMxcUkDZzvdT421SQJMYBFYO3U9A2c73U+MVUEBaZDvfT01MQKjGSzeJEU1AX7pJDAK7SUAxCKwcWnROQD0K16NwzVFAUrgehevZUECgGi/dJKZNQJHtfD81nlFADi2yne+3UECIFtnO97NOQAAAAAAAcFJAaJHtfD81UUCamZmZmalSQOxRuB6Fs1FAz/dT46UjUUA=",
        "encoding": "base64",
        "path": [
         "_data",
         1,
         "x",
         "value"
        ]
       },
       {
        "data": "hXtl3vKSwUBb7PZZBamoQHLBGfzVdrtAd/hrsrJc1kC1Oc5tquezQKZiY16TLbFAtDukGLyOtEA6cw8J65S8QDfBN00vWqZAaF95kMotvEAaUdobWAKwQGO0jqp+1LJAbyTQYKNsn0D9icqGhWOoQKYKRiUNtLdA6Zyf4pLFwkDlgcgirRyrQFeXUwKaYbtAIhYx7ICisEA7qMR1gCK5QGuad5x+LcRAuOhkqcPPwUB5I/PIY2zYQFjO3hk5CLtA4QZ8fjTIxUA=",
        "encoding": "base64",
        "path": [
         "_data",
         1,
         "y",
         "value"
        ]
       },
       {
        "data": "WmQ730/tQ0AW2c73U0NRQP3UeOkmAUlA0SLb+X56SUCamZmZmWFQQM3MzMzM3FJAQDVeuklMTEAxCKwcWhRMQI/C9Shcz01Av58aL90ET0DNzMzMzJxSQNejcD0KR1NAO99PjZfeT0BmZmZmZkZRQB1aZDvfx1BAsp3vp8bTUUD0/dR46b5QQAAAAAAAAFFAO99PjZe+TEC7SQwCKwdNQHjpJjEIzEhAd76fGi9dT0BOYhBYORRMQNEi2/l+Ck9AqMZLN4mBT0BxPQrXo/BRQJzEILByMFFA9ihcj8IlUEAK16NwPQpSQJHtfD81JlBAnMQgsHJoTUBEi2zn+xlQQFg5tMh2jkhA",
        "encoding": "base64",
        "path": [
         "_data",
         2,
         "x",
         "value"
        ]
       },
       {
        "data": "P785bReQjkAY7IZtycLSQIoIWtzaJ4VAo4+ex82Dg0BgVb38XhOOQBluwOdDcMxAYzcizsm9ikA095DwfbOXQC0HeqhVuL1A8DMuHPRazECGWtO8gwPOQDfg88MG7tJAev1JfGpBsEDRH5p5hgqwQKgZUkXx9rVAX3tmSYKe3kCVCFT/hNi9QPrPmh9bOLNAxR9FnWlCn0AAAAAAAIB6QH32Ehn8coZAZ9DQP2VNyUAZO+EluI2WQJQT7SqMVqRAVOOlm6Vz4EBdhZSflKDNQFMmNbRRwJlAvAD76KxjrUB4B3jSWgK9QJCeIodwsqJAwnrt4+IZhkDKpIY2CPCwQC9W1GA65p5A",
        "encoding": "base64",
        "path": [
         "_data",
         2,
         "y",
         "value"
        ]
       },
       {
        "data": "exSuR+GaUUDsUbgehUtSQOxRuB6Fe1JAXI/C9SisUUCF61G4HsVRQD0K16NwnVFAPQrXo3C9UUC4HoXrUahSQDMzMzMzo1JAKVyPwvW4UkAzMzMzM3NSQI/C9Shcz1JAKVyPwvVYUUCPwvUoXD9TQGZmZmZmRlJAH4XrUbi+UkBYObTIdoZSQDMzMzMzA1NArkfhehT+UkAUrkfhetRRQOF6FK5HMVJACtejcD1qUUDtfD81XopRQDMzMzMzs1FAeekmMQjEUUAzMzMzMxNTQHsUrkfhGlNAPQrXo3ANU0D4U+Olm4ROQMP1KFyPglJA",
        "encoding": "base64",
        "path": [
         "_data",
         3,
         "x",
         "value"
        ]
       },
       {
        "data": "vHX+7cJdrEBSswdaRRfVQIHPDyP2fNRAUG7b95wesECwjuOHGBDAQEaZDTLp0slAwFsgQZ0IzkAJbTmXAi7VQOFASBZKGdJAXhH8b3nR00BSg2kY4oPVQJw4ud810s1Aumbyzf6AyEAUrkfhZrnWQE1/9iMppchA5/up8V4m0EA91SE3S+vFQEc4LXjd5dRANEbrqKiu2UAGZ/D3w4HAQLyReeTr9MZAG4LjMqjCwkAr9pfdi6bNQEOtad5FKsZAeekmMa5y0UCms5PBFTPLQGZmZmbYLtRALa2GxG2720AgQlw5W5GwQCDvVSsbztFA",
        "encoding": "base64",
        "path": [
         "_data",
         3,
         "y",
         "value"
        ]
       },
       {
        "data": "j8L1KFyvUkD2KFyPwnVSQA==",
        "encoding": "base64",
        "path": [
         "_data",
         4,
         "x",
         "value"
        ]
       },
       {
        "data": "ISQLmEAF00CSXP5DGjjRQA==",
        "encoding": "base64",
        "path": [
         "_data",
         4,
         "y",
         "value"
        ]
       }
      ],
      "model_module": "plotlywidget",
      "model_module_version": "^0.5.0-rc.1",
      "model_name": "FigureModel",
      "state": {
       "_data": [
        {
         "marker": {
          "size": [
           20033753,
           7016384,
           3641603,
           970347,
           6634596,
           4580410,
           9250831,
           2476971,
           4875118,
           348643,
           30646495,
           1774735,
           9025951,
           305991,
           45681811,
           285483,
           2637297,
           38111756,
           753874,
           715523,
           11400338,
           4710497,
           825987,
           17661452,
           1411807,
           1956875,
           3344074,
           9171477,
           6502825,
           6998256,
           1622136,
           992040,
           20198730,
           12587223,
           1099010,
           6437188,
           73039376,
           517810,
           5507565,
           98593,
           6147783,
           3464522,
           5828892,
           31140029,
           20367053,
           649901,
           19844382,
           2644765,
           6734098,
           12939400,
           6100407,
           7636524
          ],
          "sizemode": "area",
          "sizeref": 200000
         },
         "mode": "markers",
         "name": "Africa",
         "text": [
          "Algeria",
          "Angola",
          "Benin",
          "Botswana",
          "Burkina Faso",
          "Burundi",
          "Cameroon",
          "Central African Republic",
          "Chad",
          "Comoros",
          "Congo, Dem. Rep.",
          "Congo, Rep.",
          "Cote d'Ivoire",
          "Djibouti",
          "Egypt",
          "Equatorial Guinea",
          "Eritrea",
          "Ethiopia",
          "Gabon",
          "Gambia",
          "Ghana",
          "Guinea",
          "Guinea-Bissau",
          "Kenya",
          "Lesotho",
          "Liberia",
          "Libya",
          "Madagascar",
          "Malawi",
          "Mali",
          "Mauritania",
          "Mauritius",
          "Morocco",
          "Mozambique",
          "Namibia",
          "Niger",
          "Nigeria",
          "Reunion",
          "Rwanda",
          "Sao Tome and Principe",
          "Senegal",
          "Sierra Leone",
          "Somalia",
          "South Africa",
          "Sudan",
          "Swaziland",
          "Tanzania",
          "Togo",
          "Tunisia",
          "Uganda",
          "Zambia",
          "Zimbabwe"
         ],
         "type": "scatter",
         "uid": "0489296c-adce-4daf-88bc-eaffc253883a",
         "x": {
          "dtype": "float64",
          "shape": [
           52
          ]
         },
         "y": {
          "dtype": "float64",
          "shape": [
           52
          ]
         }
        },
        {
         "marker": {
          "size": [
           29341374,
           5642224,
           128962939,
           25201900,
           11487112,
           27764644,
           2424367,
           9789224,
           5968349,
           8365850,
           4474873,
           6395630,
           5198399,
           3669448,
           2298309,
           71640904,
           2979423,
           2036305,
           3366439,
           18125129,
           3279001,
           1116479,
           232187835,
           2953997,
           15620766
          ],
          "sizemode": "area",
          "sizeref": 200000
         },
         "mode": "markers",
         "name": "Americas",
         "text": [
          "Argentina",
          "Bolivia",
          "Brazil",
          "Canada",
          "Chile",
          "Colombia",
          "Costa Rica",
          "Cuba",
          "Dominican Republic",
          "Ecuador",
          "El Salvador",
          "Guatemala",
          "Haiti",
          "Honduras",
          "Jamaica",
          "Mexico",
          "Nicaragua",
          "Panama",
          "Paraguay",
          "Peru",
          "Puerto Rico",
          "Trinidad and Tobago",
          "United States",
          "Uruguay",
          "Venezuela"
         ],
         "type": "scatter",
         "uid": "d72a2193-631a-4866-92fc-98028dbaadd3",
         "x": {
          "dtype": "float64",
          "shape": [
           25
          ]
         },
         "y": {
          "dtype": "float64",
          "shape": [
           25
          ]
         }
        },
        {
         "marker": {
          "size": [
           12881816,
           377967,
           93074406,
           7272485,
           1000281000,
           5264500,
           708000000,
           153343000,
           43072751,
           14173318,
           3858421,
           118454974,
           2347031,
           17647518,
           39326000,
           1497494,
           3086876,
           14441916,
           1756032,
           34680442,
           15796314,
           1301048,
           91462088,
           53456774,
           11254672,
           2651869,
           15410151,
           9410494,
           18501390,
           48827160,
           56142181,
           1425876,
           9657618
          ],
          "sizemode": "area",
          "sizeref": 200000
         },
         "mode": "markers",
         "name": "Asia",
         "text": [
          "Afghanistan",
          "Bahrain",
          "Bangladesh",
          "Cambodia",
          "China",
          "Hong Kong, China",
          "India",
          "Indonesia",
          "Iran",
          "Iraq",
          "Israel",
          "Japan",
          "Jordan",
          "Korea, Dem. Rep.",
          "Korea, Rep.",
          "Kuwait",
          "Lebanon",
          "Malaysia",
          "Mongolia",
          "Myanmar",
          "Nepal",
          "Oman",
          "Pakistan",
          "Philippines",
          "Saudi Arabia",
          "Singapore",
          "Sri Lanka",
          "Syria",
          "Taiwan",
          "Thailand",
          "Vietnam",
          "West Bank and Gaza",
          "Yemen, Rep."
         ],
         "type": "scatter",
         "uid": "50b1ca62-af1a-4d06-b857-f0c6887dcb85",
         "x": {
          "dtype": "float64",
          "shape": [
           33
          ]
         },
         "y": {
          "dtype": "float64",
          "shape": [
           33
          ]
         }
        },
        {
         "marker": {
          "size": [
           2780097,
           7574613,
           9856303,
           4172693,
           8892098,
           4413368,
           10303704,
           5117810,
           4826933,
           54433565,
           78335266,
           9786480,
           10705535,
           233997,
           3480000,
           56535636,
           562548,
           14310401,
           4114787,
           36227381,
           9859650,
           22356726,
           9032824,
           5048043,
           1861252,
           37983310,
           8325260,
           6468126,
           47328791,
           56339704
          ],
          "sizemode": "area",
          "sizeref": 200000
         },
         "mode": "markers",
         "name": "Europe",
         "text": [
          "Albania",
          "Austria",
          "Belgium",
          "Bosnia and Herzegovina",
          "Bulgaria",
          "Croatia",
          "Czech Republic",
          "Denmark",
          "Finland",
          "France",
          "Germany",
          "Greece",
          "Hungary",
          "Iceland",
          "Ireland",
          "Italy",
          "Montenegro",
          "Netherlands",
          "Norway",
          "Poland",
          "Portugal",
          "Romania",
          "Serbia",
          "Slovak Republic",
          "Slovenia",
          "Spain",
          "Sweden",
          "Switzerland",
          "Turkey",
          "United Kingdom"
         ],
         "type": "scatter",
         "uid": "8dad4047-6279-4b61-b0f0-3fb0f619e10c",
         "x": {
          "dtype": "float64",
          "shape": [
           30
          ]
         },
         "y": {
          "dtype": "float64",
          "shape": [
           30
          ]
         }
        },
        {
         "marker": {
          "size": [
           15184200,
           3210650
          ],
          "sizemode": "area",
          "sizeref": 200000
         },
         "mode": "markers",
         "name": "Oceania",
         "text": [
          "Australia",
          "New Zealand"
         ],
         "type": "scatter",
         "uid": "38a5f352-53d5-4de3-82d4-9db86672c1a0",
         "x": {
          "dtype": "float64",
          "shape": [
           2
          ]
         },
         "y": {
          "dtype": "float64",
          "shape": [
           2
          ]
         }
        }
       ],
       "_js2py_relayout": {},
       "_js2py_restyle": {},
       "_js2py_update": {},
       "_last_layout_edit_id": 1,
       "_layout": {
        "height": 700,
        "template": {
         "data": {
          "bar": [
           {
            "marker": {
             "autocolorscale": false,
             "colorbar": {
              "outlinewidth": 0,
              "ticks": ""
             },
             "colorscale": [
              [
               0,
               "#0508b8"
              ],
              [
               0.0893854748603352,
               "#1910d8"
              ],
              [
               0.1787709497206704,
               "#3c19f0"
              ],
              [
               0.2681564245810056,
               "#6b1cfb"
              ],
              [
               0.3575418994413408,
               "#981cfd"
              ],
              [
               0.44692737430167595,
               "#bf1cfd"
              ],
              [
               0.5363128491620112,
               "#dd2bfd"
              ],
              [
               0.6256983240223464,
               "#f246fe"
              ],
              [
               0.7150837988826816,
               "#fc67fd"
              ],
              [
               0.8044692737430168,
               "#fe88fc"
              ],
              [
               0.8938547486033519,
               "#fea5fd"
              ],
              [
               0.9832402234636871,
               "#febefe"
              ],
              [
               1,
               "#fec3fe"
              ]
             ],
             "line": {
              "autocolorscale": false,
              "colorscale": [
               [
                0,
                "#0508b8"
               ],
               [
                0.0893854748603352,
                "#1910d8"
               ],
               [
                0.1787709497206704,
                "#3c19f0"
               ],
               [
                0.2681564245810056,
                "#6b1cfb"
               ],
               [
                0.3575418994413408,
                "#981cfd"
               ],
               [
                0.44692737430167595,
                "#bf1cfd"
               ],
               [
                0.5363128491620112,
                "#dd2bfd"
               ],
               [
                0.6256983240223464,
                "#f246fe"
               ],
               [
                0.7150837988826816,
                "#fc67fd"
               ],
               [
                0.8044692737430168,
                "#fe88fc"
               ],
               [
                0.8938547486033519,
                "#fea5fd"
               ],
               [
                0.9832402234636871,
                "#febefe"
               ],
               [
                1,
                "#fec3fe"
               ]
              ]
             }
            },
            "type": "bar"
           }
          ],
          "carpet": [
           {
            "aaxis": {
             "endlinecolor": "#2a3f5f",
             "gridcolor": "white",
             "linecolor": "white",
             "minorgridcolor": "white",
             "startlinecolor": "#2a3f5f"
            },
            "baxis": {
             "endlinecolor": "#2a3f5f",
             "gridcolor": "white",
             "linecolor": "white",
             "minorgridcolor": "white",
             "startlinecolor": "#2a3f5f"
            },
            "type": "carpet"
           }
          ],
          "choropleth": [
           {
            "autocolorscale": false,
            "colorbar": {
             "outlinewidth": 0,
             "ticks": ""
            },
            "colorscale": [
             [
              0,
              "#0508b8"
             ],
             [
              0.0893854748603352,
              "#1910d8"
             ],
             [
              0.1787709497206704,
              "#3c19f0"
             ],
             [
              0.2681564245810056,
              "#6b1cfb"
             ],
             [
              0.3575418994413408,
              "#981cfd"
             ],
             [
              0.44692737430167595,
              "#bf1cfd"
             ],
             [
              0.5363128491620112,
              "#dd2bfd"
             ],
             [
              0.6256983240223464,
              "#f246fe"
             ],
             [
              0.7150837988826816,
              "#fc67fd"
             ],
             [
              0.8044692737430168,
              "#fe88fc"
             ],
             [
              0.8938547486033519,
              "#fea5fd"
             ],
             [
              0.9832402234636871,
              "#febefe"
             ],
             [
              1,
              "#fec3fe"
             ]
            ],
            "type": "choropleth"
           }
          ],
          "contour": [
           {
            "autocolorscale": false,
            "colorbar": {
             "outlinewidth": 0,
             "ticks": ""
            },
            "colorscale": [
             [
              0,
              "#0508b8"
             ],
             [
              0.0893854748603352,
              "#1910d8"
             ],
             [
              0.1787709497206704,
              "#3c19f0"
             ],
             [
              0.2681564245810056,
              "#6b1cfb"
             ],
             [
              0.3575418994413408,
              "#981cfd"
             ],
             [
              0.44692737430167595,
              "#bf1cfd"
             ],
             [
              0.5363128491620112,
              "#dd2bfd"
             ],
             [
              0.6256983240223464,
              "#f246fe"
             ],
             [
              0.7150837988826816,
              "#fc67fd"
             ],
             [
              0.8044692737430168,
              "#fe88fc"
             ],
             [
              0.8938547486033519,
              "#fea5fd"
             ],
             [
              0.9832402234636871,
              "#febefe"
             ],
             [
              1,
              "#fec3fe"
             ]
            ],
            "type": "contour"
           }
          ],
          "contourcarpet": [
           {
            "autocolorscale": false,
            "colorbar": {
             "outlinewidth": 0,
             "ticks": ""
            },
            "colorscale": [
             [
              0,
              "#0508b8"
             ],
             [
              0.0893854748603352,
              "#1910d8"
             ],
             [
              0.1787709497206704,
              "#3c19f0"
             ],
             [
              0.2681564245810056,
              "#6b1cfb"
             ],
             [
              0.3575418994413408,
              "#981cfd"
             ],
             [
              0.44692737430167595,
              "#bf1cfd"
             ],
             [
              0.5363128491620112,
              "#dd2bfd"
             ],
             [
              0.6256983240223464,
              "#f246fe"
             ],
             [
              0.7150837988826816,
              "#fc67fd"
             ],
             [
              0.8044692737430168,
              "#fe88fc"
             ],
             [
              0.8938547486033519,
              "#fea5fd"
             ],
             [
              0.9832402234636871,
              "#febefe"
             ],
             [
              1,
              "#fec3fe"
             ]
            ],
            "type": "contourcarpet"
           }
          ],
          "heatmap": [
           {
            "autocolorscale": false,
            "colorbar": {
             "outlinewidth": 0,
             "ticks": ""
            },
            "colorscale": [
             [
              0,
              "#0508b8"
             ],
             [
              0.0893854748603352,
              "#1910d8"
             ],
             [
              0.1787709497206704,
              "#3c19f0"
             ],
             [
              0.2681564245810056,
              "#6b1cfb"
             ],
             [
              0.3575418994413408,
              "#981cfd"
             ],
             [
              0.44692737430167595,
              "#bf1cfd"
             ],
             [
              0.5363128491620112,
              "#dd2bfd"
             ],
             [
              0.6256983240223464,
              "#f246fe"
             ],
             [
              0.7150837988826816,
              "#fc67fd"
             ],
             [
              0.8044692737430168,
              "#fe88fc"
             ],
             [
              0.8938547486033519,
              "#fea5fd"
             ],
             [
              0.9832402234636871,
              "#febefe"
             ],
             [
              1,
              "#fec3fe"
             ]
            ],
            "type": "heatmap"
           }
          ],
          "heatmapgl": [
           {
            "autocolorscale": false,
            "colorbar": {
             "outlinewidth": 0,
             "ticks": ""
            },
            "colorscale": [
             [
              0,
              "#0508b8"
             ],
             [
              0.0893854748603352,
              "#1910d8"
             ],
             [
              0.1787709497206704,
              "#3c19f0"
             ],
             [
              0.2681564245810056,
              "#6b1cfb"
             ],
             [
              0.3575418994413408,
              "#981cfd"
             ],
             [
              0.44692737430167595,
              "#bf1cfd"
             ],
             [
              0.5363128491620112,
              "#dd2bfd"
             ],
             [
              0.6256983240223464,
              "#f246fe"
             ],
             [
              0.7150837988826816,
              "#fc67fd"
             ],
             [
              0.8044692737430168,
              "#fe88fc"
             ],
             [
              0.8938547486033519,
              "#fea5fd"
             ],
             [
              0.9832402234636871,
              "#febefe"
             ],
             [
              1,
              "#fec3fe"
             ]
            ],
            "type": "heatmapgl"
           }
          ],
          "histogram": [
           {
            "marker": {
             "autocolorscale": false,
             "colorbar": {
              "outlinewidth": 0,
              "ticks": ""
             },
             "colorscale": [
              [
               0,
               "#0508b8"
              ],
              [
               0.0893854748603352,
               "#1910d8"
              ],
              [
               0.1787709497206704,
               "#3c19f0"
              ],
              [
               0.2681564245810056,
               "#6b1cfb"
              ],
              [
               0.3575418994413408,
               "#981cfd"
              ],
              [
               0.44692737430167595,
               "#bf1cfd"
              ],
              [
               0.5363128491620112,
               "#dd2bfd"
              ],
              [
               0.6256983240223464,
               "#f246fe"
              ],
              [
               0.7150837988826816,
               "#fc67fd"
              ],
              [
               0.8044692737430168,
               "#fe88fc"
              ],
              [
               0.8938547486033519,
               "#fea5fd"
              ],
              [
               0.9832402234636871,
               "#febefe"
              ],
              [
               1,
               "#fec3fe"
              ]
             ]
            },
            "type": "histogram"
           }
          ],
          "histogram2d": [
           {
            "autocolorscale": false,
            "colorbar": {
             "outlinewidth": 0,
             "ticks": ""
            },
            "colorscale": [
             [
              0,
              "#0508b8"
             ],
             [
              0.0893854748603352,
              "#1910d8"
             ],
             [
              0.1787709497206704,
              "#3c19f0"
             ],
             [
              0.2681564245810056,
              "#6b1cfb"
             ],
             [
              0.3575418994413408,
              "#981cfd"
             ],
             [
              0.44692737430167595,
              "#bf1cfd"
             ],
             [
              0.5363128491620112,
              "#dd2bfd"
             ],
             [
              0.6256983240223464,
              "#f246fe"
             ],
             [
              0.7150837988826816,
              "#fc67fd"
             ],
             [
              0.8044692737430168,
              "#fe88fc"
             ],
             [
              0.8938547486033519,
              "#fea5fd"
             ],
             [
              0.9832402234636871,
              "#febefe"
             ],
             [
              1,
              "#fec3fe"
             ]
            ],
            "type": "histogram2d"
           }
          ],
          "histogram2dcontour": [
           {
            "autocolorscale": false,
            "colorbar": {
             "outlinewidth": 0,
             "ticks": ""
            },
            "colorscale": [
             [
              0,
              "#0508b8"
             ],
             [
              0.0893854748603352,
              "#1910d8"
             ],
             [
              0.1787709497206704,
              "#3c19f0"
             ],
             [
              0.2681564245810056,
              "#6b1cfb"
             ],
             [
              0.3575418994413408,
              "#981cfd"
             ],
             [
              0.44692737430167595,
              "#bf1cfd"
             ],
             [
              0.5363128491620112,
              "#dd2bfd"
             ],
             [
              0.6256983240223464,
              "#f246fe"
             ],
             [
              0.7150837988826816,
              "#fc67fd"
             ],
             [
              0.8044692737430168,
              "#fe88fc"
             ],
             [
              0.8938547486033519,
              "#fea5fd"
             ],
             [
              0.9832402234636871,
              "#febefe"
             ],
             [
              1,
              "#fec3fe"
             ]
            ],
            "type": "histogram2dcontour"
           }
          ],
          "mesh3d": [
           {
            "autocolorscale": false,
            "colorbar": {
             "outlinewidth": 0,
             "ticks": ""
            },
            "colorscale": [
             [
              0,
              "#0508b8"
             ],
             [
              0.0893854748603352,
              "#1910d8"
             ],
             [
              0.1787709497206704,
              "#3c19f0"
             ],
             [
              0.2681564245810056,
              "#6b1cfb"
             ],
             [
              0.3575418994413408,
              "#981cfd"
             ],
             [
              0.44692737430167595,
              "#bf1cfd"
             ],
             [
              0.5363128491620112,
              "#dd2bfd"
             ],
             [
              0.6256983240223464,
              "#f246fe"
             ],
             [
              0.7150837988826816,
              "#fc67fd"
             ],
             [
              0.8044692737430168,
              "#fe88fc"
             ],
             [
              0.8938547486033519,
              "#fea5fd"
             ],
             [
              0.9832402234636871,
              "#febefe"
             ],
             [
              1,
              "#fec3fe"
             ]
            ],
            "type": "mesh3d"
           }
          ],
          "parcoords": [
           {
            "line": {
             "autocolorscale": false,
             "colorbar": {
              "outlinewidth": 0,
              "ticks": ""
             },
             "colorscale": [
              [
               0,
               "#0508b8"
              ],
              [
               0.0893854748603352,
               "#1910d8"
              ],
              [
               0.1787709497206704,
               "#3c19f0"
              ],
              [
               0.2681564245810056,
               "#6b1cfb"
              ],
              [
               0.3575418994413408,
               "#981cfd"
              ],
              [
               0.44692737430167595,
               "#bf1cfd"
              ],
              [
               0.5363128491620112,
               "#dd2bfd"
              ],
              [
               0.6256983240223464,
               "#f246fe"
              ],
              [
               0.7150837988826816,
               "#fc67fd"
              ],
              [
               0.8044692737430168,
               "#fe88fc"
              ],
              [
               0.8938547486033519,
               "#fea5fd"
              ],
              [
               0.9832402234636871,
               "#febefe"
              ],
              [
               1,
               "#fec3fe"
              ]
             ]
            },
            "type": "parcoords"
           }
          ],
          "scatter": [
           {
            "line": {
             "width": 3
            },
            "marker": {
             "autocolorscale": false,
             "colorbar": {
              "outlinewidth": 0,
              "ticks": ""
             },
             "colorscale": [
              [
               0,
               "#0508b8"
              ],
              [
               0.0893854748603352,
               "#1910d8"
              ],
              [
               0.1787709497206704,
               "#3c19f0"
              ],
              [
               0.2681564245810056,
               "#6b1cfb"
              ],
              [
               0.3575418994413408,
               "#981cfd"
              ],
              [
               0.44692737430167595,
               "#bf1cfd"
              ],
              [
               0.5363128491620112,
               "#dd2bfd"
              ],
              [
               0.6256983240223464,
               "#f246fe"
              ],
              [
               0.7150837988826816,
               "#fc67fd"
              ],
              [
               0.8044692737430168,
               "#fe88fc"
              ],
              [
               0.8938547486033519,
               "#fea5fd"
              ],
              [
               0.9832402234636871,
               "#febefe"
              ],
              [
               1,
               "#fec3fe"
              ]
             ],
             "line": {
              "autocolorscale": false,
              "colorscale": [
               [
                0,
                "#0508b8"
               ],
               [
                0.0893854748603352,
                "#1910d8"
               ],
               [
                0.1787709497206704,
                "#3c19f0"
               ],
               [
                0.2681564245810056,
                "#6b1cfb"
               ],
               [
                0.3575418994413408,
                "#981cfd"
               ],
               [
                0.44692737430167595,
                "#bf1cfd"
               ],
               [
                0.5363128491620112,
                "#dd2bfd"
               ],
               [
                0.6256983240223464,
                "#f246fe"
               ],
               [
                0.7150837988826816,
                "#fc67fd"
               ],
               [
                0.8044692737430168,
                "#fe88fc"
               ],
               [
                0.8938547486033519,
                "#fea5fd"
               ],
               [
                0.9832402234636871,
                "#febefe"
               ],
               [
                1,
                "#fec3fe"
               ]
              ]
             },
             "size": 9
            },
            "type": "scatter"
           }
          ],
          "scatter3d": [
           {
            "line": {
             "autocolorscale": false,
             "colorscale": [
              [
               0,
               "#0508b8"
              ],
              [
               0.0893854748603352,
               "#1910d8"
              ],
              [
               0.1787709497206704,
               "#3c19f0"
              ],
              [
               0.2681564245810056,
               "#6b1cfb"
              ],
              [
               0.3575418994413408,
               "#981cfd"
              ],
              [
               0.44692737430167595,
               "#bf1cfd"
              ],
              [
               0.5363128491620112,
               "#dd2bfd"
              ],
              [
               0.6256983240223464,
               "#f246fe"
              ],
              [
               0.7150837988826816,
               "#fc67fd"
              ],
              [
               0.8044692737430168,
               "#fe88fc"
              ],
              [
               0.8938547486033519,
               "#fea5fd"
              ],
              [
               0.9832402234636871,
               "#febefe"
              ],
              [
               1,
               "#fec3fe"
              ]
             ],
             "width": 3
            },
            "marker": {
             "autocolorscale": false,
             "colorbar": {
              "outlinewidth": 0,
              "ticks": ""
             },
             "colorscale": [
              [
               0,
               "#0508b8"
              ],
              [
               0.0893854748603352,
               "#1910d8"
              ],
              [
               0.1787709497206704,
               "#3c19f0"
              ],
              [
               0.2681564245810056,
               "#6b1cfb"
              ],
              [
               0.3575418994413408,
               "#981cfd"
              ],
              [
               0.44692737430167595,
               "#bf1cfd"
              ],
              [
               0.5363128491620112,
               "#dd2bfd"
              ],
              [
               0.6256983240223464,
               "#f246fe"
              ],
              [
               0.7150837988826816,
               "#fc67fd"
              ],
              [
               0.8044692737430168,
               "#fe88fc"
              ],
              [
               0.8938547486033519,
               "#fea5fd"
              ],
              [
               0.9832402234636871,
               "#febefe"
              ],
              [
               1,
               "#fec3fe"
              ]
             ],
             "size": 9
            },
            "type": "scatter3d"
           }
          ],
          "scattercarpet": [
           {
            "marker": {
             "autocolorscale": false,
             "colorbar": {
              "outlinewidth": 0,
              "ticks": ""
             },
             "colorscale": [
              [
               0,
               "#0508b8"
              ],
              [
               0.0893854748603352,
               "#1910d8"
              ],
              [
               0.1787709497206704,
               "#3c19f0"
              ],
              [
               0.2681564245810056,
               "#6b1cfb"
              ],
              [
               0.3575418994413408,
               "#981cfd"
              ],
              [
               0.44692737430167595,
               "#bf1cfd"
              ],
              [
               0.5363128491620112,
               "#dd2bfd"
              ],
              [
               0.6256983240223464,
               "#f246fe"
              ],
              [
               0.7150837988826816,
               "#fc67fd"
              ],
              [
               0.8044692737430168,
               "#fe88fc"
              ],
              [
               0.8938547486033519,
               "#fea5fd"
              ],
              [
               0.9832402234636871,
               "#febefe"
              ],
              [
               1,
               "#fec3fe"
              ]
             ]
            },
            "type": "scattercarpet"
           }
          ],
          "scattergeo": [
           {
            "line": {
             "width": 3
            },
            "marker": {
             "autocolorscale": false,
             "colorbar": {
              "outlinewidth": 0,
              "ticks": ""
             },
             "colorscale": [
              [
               0,
               "#0508b8"
              ],
              [
               0.0893854748603352,
               "#1910d8"
              ],
              [
               0.1787709497206704,
               "#3c19f0"
              ],
              [
               0.2681564245810056,
               "#6b1cfb"
              ],
              [
               0.3575418994413408,
               "#981cfd"
              ],
              [
               0.44692737430167595,
               "#bf1cfd"
              ],
              [
               0.5363128491620112,
               "#dd2bfd"
              ],
              [
               0.6256983240223464,
               "#f246fe"
              ],
              [
               0.7150837988826816,
               "#fc67fd"
              ],
              [
               0.8044692737430168,
               "#fe88fc"
              ],
              [
               0.8938547486033519,
               "#fea5fd"
              ],
              [
               0.9832402234636871,
               "#febefe"
              ],
              [
               1,
               "#fec3fe"
              ]
             ],
             "size": 9
            },
            "type": "scattergeo"
           }
          ],
          "scattergl": [
           {
            "line": {
             "width": 3
            },
            "marker": {
             "autocolorscale": false,
             "colorbar": {
              "outlinewidth": 0,
              "ticks": ""
             },
             "colorscale": [
              [
               0,
               "#0508b8"
              ],
              [
               0.0893854748603352,
               "#1910d8"
              ],
              [
               0.1787709497206704,
               "#3c19f0"
              ],
              [
               0.2681564245810056,
               "#6b1cfb"
              ],
              [
               0.3575418994413408,
               "#981cfd"
              ],
              [
               0.44692737430167595,
               "#bf1cfd"
              ],
              [
               0.5363128491620112,
               "#dd2bfd"
              ],
              [
               0.6256983240223464,
               "#f246fe"
              ],
              [
               0.7150837988826816,
               "#fc67fd"
              ],
              [
               0.8044692737430168,
               "#fe88fc"
              ],
              [
               0.8938547486033519,
               "#fea5fd"
              ],
              [
               0.9832402234636871,
               "#febefe"
              ],
              [
               1,
               "#fec3fe"
              ]
             ],
             "size": 9
            },
            "type": "scattergl"
           }
          ],
          "scattermapbox": [
           {
            "marker": {
             "autocolorscale": false,
             "colorbar": {
              "outlinewidth": 0,
              "ticks": ""
             },
             "colorscale": [
              [
               0,
               "#0508b8"
              ],
              [
               0.0893854748603352,
               "#1910d8"
              ],
              [
               0.1787709497206704,
               "#3c19f0"
              ],
              [
               0.2681564245810056,
               "#6b1cfb"
              ],
              [
               0.3575418994413408,
               "#981cfd"
              ],
              [
               0.44692737430167595,
               "#bf1cfd"
              ],
              [
               0.5363128491620112,
               "#dd2bfd"
              ],
              [
               0.6256983240223464,
               "#f246fe"
              ],
              [
               0.7150837988826816,
               "#fc67fd"
              ],
              [
               0.8044692737430168,
               "#fe88fc"
              ],
              [
               0.8938547486033519,
               "#fea5fd"
              ],
              [
               0.9832402234636871,
               "#febefe"
              ],
              [
               1,
               "#fec3fe"
              ]
             ]
            },
            "type": "scattermapbox"
           }
          ],
          "scatterpolar": [
           {
            "line": {
             "width": 3
            },
            "marker": {
             "autocolorscale": false,
             "colorbar": {
              "outlinewidth": 0,
              "ticks": ""
             },
             "colorscale": [
              [
               0,
               "#0508b8"
              ],
              [
               0.0893854748603352,
               "#1910d8"
              ],
              [
               0.1787709497206704,
               "#3c19f0"
              ],
              [
               0.2681564245810056,
               "#6b1cfb"
              ],
              [
               0.3575418994413408,
               "#981cfd"
              ],
              [
               0.44692737430167595,
               "#bf1cfd"
              ],
              [
               0.5363128491620112,
               "#dd2bfd"
              ],
              [
               0.6256983240223464,
               "#f246fe"
              ],
              [
               0.7150837988826816,
               "#fc67fd"
              ],
              [
               0.8044692737430168,
               "#fe88fc"
              ],
              [
               0.8938547486033519,
               "#fea5fd"
              ],
              [
               0.9832402234636871,
               "#febefe"
              ],
              [
               1,
               "#fec3fe"
              ]
             ],
             "size": 9
            },
            "type": "scatterpolar"
           }
          ],
          "scatterpolargl": [
           {
            "line": {
             "width": 3
            },
            "marker": {
             "autocolorscale": false,
             "colorbar": {
              "outlinewidth": 0,
              "ticks": ""
             },
             "colorscale": [
              [
               0,
               "#0508b8"
              ],
              [
               0.0893854748603352,
               "#1910d8"
              ],
              [
               0.1787709497206704,
               "#3c19f0"
              ],
              [
               0.2681564245810056,
               "#6b1cfb"
              ],
              [
               0.3575418994413408,
               "#981cfd"
              ],
              [
               0.44692737430167595,
               "#bf1cfd"
              ],
              [
               0.5363128491620112,
               "#dd2bfd"
              ],
              [
               0.6256983240223464,
               "#f246fe"
              ],
              [
               0.7150837988826816,
               "#fc67fd"
              ],
              [
               0.8044692737430168,
               "#fe88fc"
              ],
              [
               0.8938547486033519,
               "#fea5fd"
              ],
              [
               0.9832402234636871,
               "#febefe"
              ],
              [
               1,
               "#fec3fe"
              ]
             ],
             "line": {
              "autocolorscale": false,
              "colorscale": [
               [
                0,
                "#0508b8"
               ],
               [
                0.0893854748603352,
                "#1910d8"
               ],
               [
                0.1787709497206704,
                "#3c19f0"
               ],
               [
                0.2681564245810056,
                "#6b1cfb"
               ],
               [
                0.3575418994413408,
                "#981cfd"
               ],
               [
                0.44692737430167595,
                "#bf1cfd"
               ],
               [
                0.5363128491620112,
                "#dd2bfd"
               ],
               [
                0.6256983240223464,
                "#f246fe"
               ],
               [
                0.7150837988826816,
                "#fc67fd"
               ],
               [
                0.8044692737430168,
                "#fe88fc"
               ],
               [
                0.8938547486033519,
                "#fea5fd"
               ],
               [
                0.9832402234636871,
                "#febefe"
               ],
               [
                1,
                "#fec3fe"
               ]
              ]
             },
             "size": 9
            },
            "type": "scatterpolargl"
           }
          ],
          "scatterternary": [
           {
            "line": {
             "width": 3
            },
            "marker": {
             "autocolorscale": false,
             "colorbar": {
              "outlinewidth": 0,
              "ticks": ""
             },
             "colorscale": [
              [
               0,
               "#0508b8"
              ],
              [
               0.0893854748603352,
               "#1910d8"
              ],
              [
               0.1787709497206704,
               "#3c19f0"
              ],
              [
               0.2681564245810056,
               "#6b1cfb"
              ],
              [
               0.3575418994413408,
               "#981cfd"
              ],
              [
               0.44692737430167595,
               "#bf1cfd"
              ],
              [
               0.5363128491620112,
               "#dd2bfd"
              ],
              [
               0.6256983240223464,
               "#f246fe"
              ],
              [
               0.7150837988826816,
               "#fc67fd"
              ],
              [
               0.8044692737430168,
               "#fe88fc"
              ],
              [
               0.8938547486033519,
               "#fea5fd"
              ],
              [
               0.9832402234636871,
               "#febefe"
              ],
              [
               1,
               "#fec3fe"
              ]
             ],
             "size": 9
            },
            "type": "scatterternary"
           }
          ],
          "surface": [
           {
            "autocolorscale": false,
            "colorbar": {
             "outlinewidth": 0,
             "ticks": ""
            },
            "colorscale": [
             [
              0,
              "#0508b8"
             ],
             [
              0.0893854748603352,
              "#1910d8"
             ],
             [
              0.1787709497206704,
              "#3c19f0"
             ],
             [
              0.2681564245810056,
              "#6b1cfb"
             ],
             [
              0.3575418994413408,
              "#981cfd"
             ],
             [
              0.44692737430167595,
              "#bf1cfd"
             ],
             [
              0.5363128491620112,
              "#dd2bfd"
             ],
             [
              0.6256983240223464,
              "#f246fe"
             ],
             [
              0.7150837988826816,
              "#fc67fd"
             ],
             [
              0.8044692737430168,
              "#fe88fc"
             ],
             [
              0.8938547486033519,
              "#fea5fd"
             ],
             [
              0.9832402234636871,
              "#febefe"
             ],
             [
              1,
              "#fec3fe"
             ]
            ],
            "type": "surface"
           }
          ],
          "table": [
           {
            "cells": {
             "fill": {
              "color": "#EBF0F8"
             },
             "height": 30,
             "line": {
              "color": "white"
             }
            },
            "header": {
             "fill": {
              "color": "#C8D4E3"
             },
             "height": 36,
             "line": {
              "color": "white"
             }
            },
            "type": "table"
           }
          ]
         },
         "layout": {
          "annotationdefaults": {
           "arrowcolor": "#506784",
           "arrowhead": 0,
           "arrowwidth": 1
          },
          "colorway": [
           "#636efa",
           "#EF553B",
           "#00cc96",
           "#ab63fa",
           "#19d3f3",
           "#e763fa"
          ],
          "font": {
           "color": "#2a3f5f",
           "size": 18
          },
          "geo": {
           "bgcolor": "white",
           "lakecolor": "white",
           "landcolor": "#E5ECF6",
           "showlakes": true,
           "showland": true,
           "subunitcolor": "white"
          },
          "paper_bgcolor": "white",
          "plot_bgcolor": "#E5ECF6",
          "polar": {
           "angularaxis": {
            "gridcolor": "white",
            "linecolor": "white",
            "ticks": ""
           },
           "bgcolor": "#E5ECF6",
           "radialaxis": {
            "gridcolor": "white",
            "linecolor": "white",
            "ticks": ""
           }
          },
          "scene": {
           "xaxis": {
            "backgroundcolor": "#E5ECF6",
            "gridcolor": "white",
            "gridwidth": 2,
            "linecolor": "white",
            "showbackground": true,
            "ticks": "",
            "zerolinecolor": "white"
           },
           "yaxis": {
            "backgroundcolor": "#E5ECF6",
            "gridcolor": "white",
            "gridwidth": 2,
            "linecolor": "white",
            "showbackground": true,
            "ticks": "",
            "zerolinecolor": "white"
           },
           "zaxis": {
            "backgroundcolor": "#E5ECF6",
            "gridcolor": "white",
            "gridwidth": 2,
            "linecolor": "white",
            "showbackground": true,
            "ticks": "",
            "zerolinecolor": "white"
           }
          },
          "shapedefaults": {
           "fillcolor": "#506784",
           "line": {
            "width": 0
           },
           "opacity": 0.4
          },
          "ternary": {
           "aaxis": {
            "gridcolor": "white",
            "linecolor": "white",
            "ticks": ""
           },
           "baxis": {
            "gridcolor": "white",
            "linecolor": "white",
            "ticks": ""
           },
           "bgcolor": "#E5ECF6",
           "caxis": {
            "gridcolor": "white",
            "linecolor": "white",
            "ticks": ""
           }
          },
          "xaxis": {
           "automargin": true,
           "gridcolor": "white",
           "linecolor": "white",
           "showgrid": false,
           "ticks": "",
           "zerolinecolor": "white",
           "zerolinewidth": 2
          },
          "yaxis": {
           "automargin": true,
           "gridcolor": "white",
           "linecolor": "white",
           "ticks": "",
           "zerolinecolor": "white",
           "zerolinewidth": 2
          }
         }
        },
        "title": "Life Expectancy and GDP per capita (1982)",
        "width": 900,
        "xaxis": {
         "title": "Life Expectancy"
        },
        "yaxis": {
         "title": "GDP per capita",
         "type": "log"
        }
       },
       "_py2js_addTraces": {},
       "_py2js_animate": {},
       "_py2js_deleteTraces": {},
       "_py2js_moveTraces": {},
       "_py2js_removeLayoutProps": {},
       "_py2js_removeTraceProps": {},
       "_py2js_restyle": {},
       "_py2js_update": {},
       "_view_count": 1
      }
     },
     "fba20370d77f4327afbff29a990620b6": {
      "buffers": [
       {
        "data": "yXa+nxqvTkB/arx0k/hDQMDKoUW2c0lAyqFFtvO9TkBWDi2ynQ9IQEA1XrpJvEdAX7pJDAJ7SkD2KFyPwiVIQBgEVg4twkhAgZVDi2x3SkAxCKwcWuRHQClcj8L1WExA6Pup8dL9SkAOLbKd72dIQFTjpZvEAExA2/l+arzURUBSuB6F6/FFQGmR7Xw/dUZA1HjpJjFITEAK16NwPcpGQKwcWmQ730pANl66SQxyRUBg5dAi26lDQDZeukkMYk1ARIts5/uJS0CTGARWDm1GQKRwPQrXE09AeOkmMQh8SEAYBFYOLdJGQGmR7Xw/9UVA6SYxCKzMSkAv3SQGga1QQDMzMzMz001A9ihcj8JlRUCWQ4ts53tNQAaBlUOLTEVAfT81XrrpRkBxPQrXo3hRQJZDi2znG0dAsXJoke0sTkCNl24SgzBKQClcj8L1OENACtejcD16RUD4U+OlmxRNQCUGgZVDK0lALIcW2c7HS0Do+6nx0k1JQEA1XrpJvEtAUI2XbhIDUEDpJjEIrOxIQA0CK4cW6UlAWDm0yHYuTkA=",
        "encoding": "base64",
        "path": [
         "_data",
         0,
         "x",
         "value"
        ]
       },
       {
        "data": "ZRu4AylxtkA5RrJH6ImlQHcRpiiX95NAIEHxYyTHsUCun/6zljmJQHdHxmrTfIFAfgG9cPd/okCJ9fwfBuaNQNNTP8pD74hAi28ofGbMk0DbVg6I+w2FQAA49uyBD7NARGtFm2tVpECtUnqm736mQPiL2ZJ1X6tA8QNGTZr+jEDMHUe9AWeAQAQlYM/iDoJAj8cMVK6EzUDnIzoVeh6KQOguibNCYItAaq6JuwDKikA9gnbi/TCKQO2CwTXnEJVAr3IN2BrqiEBCcte3mOGBQH9v058R9dBAejnsvoNblECRsBRubsaDQGGMo80cUINA4Cwly5kkl0CRtYZSE9CsQME3TZ89HaVAMhaX9GHjfEDjwRa7GV+wQEay7O7GbYxA7FG4HuWjmEBIqYQnOJO0QJCQN6+QjItAzxYQWt+InUBq+uyA67mXQEj99QoL5JZAb59VZjpjkkCkVMITIrzAQIz2eCEtnp1AJ94BnsRurkBG6uLb8FGLQIBG6dJPApVAjyCVYnfQq0CMOoQ7IVKFQNdMvtm2ApZA48nJH9emiEA=",
        "encoding": "base64",
        "path": [
         "_data",
         0,
         "y",
         "value"
        ]
       },
       {
        "data": "PzVeukl8UUDKoUW28+1KQF+6SQwCq09AcT0K16PwUkBcj8L1KKRRQG8Sg8DKqVBAzczMzMxcUkDZzvdT421SQJMYBFYO3U9A2c73U+MVUEBaZDvfT01MQKjGSzeJEU1AX7pJDAK7SUAxCKwcWnROQD0K16NwzVFAUrgehevZUECgGi/dJKZNQJHtfD81nlFADi2yne+3UECIFtnO97NOQAAAAAAAcFJAaJHtfD81UUCamZmZmalSQOxRuB6Fs1FAz/dT46UjUUA=",
        "encoding": "base64",
        "path": [
         "_data",
         1,
         "x",
         "value"
        ]
       },
       {
        "data": "hXtl3vKSwUBb7PZZBamoQHLBGfzVdrtAd/hrsrJc1kC1Oc5tquezQKZiY16TLbFAtDukGLyOtEA6cw8J65S8QDfBN00vWqZAaF95kMotvEAaUdobWAKwQGO0jqp+1LJAbyTQYKNsn0D9icqGhWOoQKYKRiUNtLdA6Zyf4pLFwkDlgcgirRyrQFeXUwKaYbtAIhYx7ICisEA7qMR1gCK5QGuad5x+LcRAuOhkqcPPwUB5I/PIY2zYQFjO3hk5CLtA4QZ8fjTIxUA=",
        "encoding": "base64",
        "path": [
         "_data",
         1,
         "y",
         "value"
        ]
       },
       {
        "data": "WmQ730/tQ0AW2c73U0NRQP3UeOkmAUlA0SLb+X56SUCamZmZmWFQQM3MzMzM3FJAQDVeuklMTEAxCKwcWhRMQI/C9Shcz01Av58aL90ET0DNzMzMzJxSQNejcD0KR1NAO99PjZfeT0BmZmZmZkZRQB1aZDvfx1BAsp3vp8bTUUD0/dR46b5QQAAAAAAAAFFAO99PjZe+TEC7SQwCKwdNQHjpJjEIzEhAd76fGi9dT0BOYhBYORRMQNEi2/l+Ck9AqMZLN4mBT0BxPQrXo/BRQJzEILByMFFA9ihcj8IlUEAK16NwPQpSQJHtfD81JlBAnMQgsHJoTUBEi2zn+xlQQFg5tMh2jkhA",
        "encoding": "base64",
        "path": [
         "_data",
         2,
         "x",
         "value"
        ]
       },
       {
        "data": "P785bReQjkAY7IZtycLSQIoIWtzaJ4VAo4+ex82Dg0BgVb38XhOOQBluwOdDcMxAYzcizsm9ikA095DwfbOXQC0HeqhVuL1A8DMuHPRazECGWtO8gwPOQDfg88MG7tJAev1JfGpBsEDRH5p5hgqwQKgZUkXx9rVAX3tmSYKe3kCVCFT/hNi9QPrPmh9bOLNAxR9FnWlCn0AAAAAAAIB6QH32Ehn8coZAZ9DQP2VNyUAZO+EluI2WQJQT7SqMVqRAVOOlm6Vz4EBdhZSflKDNQFMmNbRRwJlAvAD76KxjrUB4B3jSWgK9QJCeIodwsqJAwnrt4+IZhkDKpIY2CPCwQC9W1GA65p5A",
        "encoding": "base64",
        "path": [
         "_data",
         2,
         "y",
         "value"
        ]
       },
       {
        "data": "exSuR+GaUUDsUbgehUtSQOxRuB6Fe1JAXI/C9SisUUCF61G4HsVRQD0K16NwnVFAPQrXo3C9UUC4HoXrUahSQDMzMzMzo1JAKVyPwvW4UkAzMzMzM3NSQI/C9Shcz1JAKVyPwvVYUUCPwvUoXD9TQGZmZmZmRlJAH4XrUbi+UkBYObTIdoZSQDMzMzMzA1NArkfhehT+UkAUrkfhetRRQOF6FK5HMVJACtejcD1qUUDtfD81XopRQDMzMzMzs1FAeekmMQjEUUAzMzMzMxNTQHsUrkfhGlNAPQrXo3ANU0D4U+Olm4ROQMP1KFyPglJA",
        "encoding": "base64",
        "path": [
         "_data",
         3,
         "x",
         "value"
        ]
       },
       {
        "data": "vHX+7cJdrEBSswdaRRfVQIHPDyP2fNRAUG7b95wesECwjuOHGBDAQEaZDTLp0slAwFsgQZ0IzkAJbTmXAi7VQOFASBZKGdJAXhH8b3nR00BSg2kY4oPVQJw4ud810s1Aumbyzf6AyEAUrkfhZrnWQE1/9iMppchA5/up8V4m0EA91SE3S+vFQEc4LXjd5dRANEbrqKiu2UAGZ/D3w4HAQLyReeTr9MZAG4LjMqjCwkAr9pfdi6bNQEOtad5FKsZAeekmMa5y0UCms5PBFTPLQGZmZmbYLtRALa2GxG2720AgQlw5W5GwQCDvVSsbztFA",
        "encoding": "base64",
        "path": [
         "_data",
         3,
         "y",
         "value"
        ]
       },
       {
        "data": "j8L1KFyvUkD2KFyPwnVSQA==",
        "encoding": "base64",
        "path": [
         "_data",
         4,
         "x",
         "value"
        ]
       },
       {
        "data": "ISQLmEAF00CSXP5DGjjRQA==",
        "encoding": "base64",
        "path": [
         "_data",
         4,
         "y",
         "value"
        ]
       }
      ],
      "model_module": "plotlywidget",
      "model_module_version": "^0.5.0-rc.1",
      "model_name": "FigureModel",
      "state": {
       "_data": [
        {
         "marker": {
          "size": [
           20033753,
           7016384,
           3641603,
           970347,
           6634596,
           4580410,
           9250831,
           2476971,
           4875118,
           348643,
           30646495,
           1774735,
           9025951,
           305991,
           45681811,
           285483,
           2637297,
           38111756,
           753874,
           715523,
           11400338,
           4710497,
           825987,
           17661452,
           1411807,
           1956875,
           3344074,
           9171477,
           6502825,
           6998256,
           1622136,
           992040,
           20198730,
           12587223,
           1099010,
           6437188,
           73039376,
           517810,
           5507565,
           98593,
           6147783,
           3464522,
           5828892,
           31140029,
           20367053,
           649901,
           19844382,
           2644765,
           6734098,
           12939400,
           6100407,
           7636524
          ],
          "sizemode": "area",
          "sizeref": 200000
         },
         "mode": "markers",
         "name": "Africa",
         "text": [
          "Algeria",
          "Angola",
          "Benin",
          "Botswana",
          "Burkina Faso",
          "Burundi",
          "Cameroon",
          "Central African Republic",
          "Chad",
          "Comoros",
          "Congo, Dem. Rep.",
          "Congo, Rep.",
          "Cote d'Ivoire",
          "Djibouti",
          "Egypt",
          "Equatorial Guinea",
          "Eritrea",
          "Ethiopia",
          "Gabon",
          "Gambia",
          "Ghana",
          "Guinea",
          "Guinea-Bissau",
          "Kenya",
          "Lesotho",
          "Liberia",
          "Libya",
          "Madagascar",
          "Malawi",
          "Mali",
          "Mauritania",
          "Mauritius",
          "Morocco",
          "Mozambique",
          "Namibia",
          "Niger",
          "Nigeria",
          "Reunion",
          "Rwanda",
          "Sao Tome and Principe",
          "Senegal",
          "Sierra Leone",
          "Somalia",
          "South Africa",
          "Sudan",
          "Swaziland",
          "Tanzania",
          "Togo",
          "Tunisia",
          "Uganda",
          "Zambia",
          "Zimbabwe"
         ],
         "type": "scatter",
         "uid": "61c83731-0cd6-44ad-bd44-b6ec244c0692",
         "x": {
          "dtype": "float64",
          "shape": [
           52
          ]
         },
         "y": {
          "dtype": "float64",
          "shape": [
           52
          ]
         }
        },
        {
         "marker": {
          "size": [
           29341374,
           5642224,
           128962939,
           25201900,
           11487112,
           27764644,
           2424367,
           9789224,
           5968349,
           8365850,
           4474873,
           6395630,
           5198399,
           3669448,
           2298309,
           71640904,
           2979423,
           2036305,
           3366439,
           18125129,
           3279001,
           1116479,
           232187835,
           2953997,
           15620766
          ],
          "sizemode": "area",
          "sizeref": 200000
         },
         "mode": "markers",
         "name": "Americas",
         "text": [
          "Argentina",
          "Bolivia",
          "Brazil",
          "Canada",
          "Chile",
          "Colombia",
          "Costa Rica",
          "Cuba",
          "Dominican Republic",
          "Ecuador",
          "El Salvador",
          "Guatemala",
          "Haiti",
          "Honduras",
          "Jamaica",
          "Mexico",
          "Nicaragua",
          "Panama",
          "Paraguay",
          "Peru",
          "Puerto Rico",
          "Trinidad and Tobago",
          "United States",
          "Uruguay",
          "Venezuela"
         ],
         "type": "scatter",
         "uid": "12543ab7-2fa8-4665-ac7a-ef3f2f88d562",
         "x": {
          "dtype": "float64",
          "shape": [
           25
          ]
         },
         "y": {
          "dtype": "float64",
          "shape": [
           25
          ]
         }
        },
        {
         "marker": {
          "size": [
           12881816,
           377967,
           93074406,
           7272485,
           1000281000,
           5264500,
           708000000,
           153343000,
           43072751,
           14173318,
           3858421,
           118454974,
           2347031,
           17647518,
           39326000,
           1497494,
           3086876,
           14441916,
           1756032,
           34680442,
           15796314,
           1301048,
           91462088,
           53456774,
           11254672,
           2651869,
           15410151,
           9410494,
           18501390,
           48827160,
           56142181,
           1425876,
           9657618
          ],
          "sizemode": "area",
          "sizeref": 200000
         },
         "mode": "markers",
         "name": "Asia",
         "text": [
          "Afghanistan",
          "Bahrain",
          "Bangladesh",
          "Cambodia",
          "China",
          "Hong Kong, China",
          "India",
          "Indonesia",
          "Iran",
          "Iraq",
          "Israel",
          "Japan",
          "Jordan",
          "Korea, Dem. Rep.",
          "Korea, Rep.",
          "Kuwait",
          "Lebanon",
          "Malaysia",
          "Mongolia",
          "Myanmar",
          "Nepal",
          "Oman",
          "Pakistan",
          "Philippines",
          "Saudi Arabia",
          "Singapore",
          "Sri Lanka",
          "Syria",
          "Taiwan",
          "Thailand",
          "Vietnam",
          "West Bank and Gaza",
          "Yemen, Rep."
         ],
         "type": "scatter",
         "uid": "c9c9a445-0548-4d70-80ca-8f79b611100e",
         "x": {
          "dtype": "float64",
          "shape": [
           33
          ]
         },
         "y": {
          "dtype": "float64",
          "shape": [
           33
          ]
         }
        },
        {
         "marker": {
          "size": [
           2780097,
           7574613,
           9856303,
           4172693,
           8892098,
           4413368,
           10303704,
           5117810,
           4826933,
           54433565,
           78335266,
           9786480,
           10705535,
           233997,
           3480000,
           56535636,
           562548,
           14310401,
           4114787,
           36227381,
           9859650,
           22356726,
           9032824,
           5048043,
           1861252,
           37983310,
           8325260,
           6468126,
           47328791,
           56339704
          ],
          "sizemode": "area",
          "sizeref": 200000
         },
         "mode": "markers",
         "name": "Europe",
         "text": [
          "Albania",
          "Austria",
          "Belgium",
          "Bosnia and Herzegovina",
          "Bulgaria",
          "Croatia",
          "Czech Republic",
          "Denmark",
          "Finland",
          "France",
          "Germany",
          "Greece",
          "Hungary",
          "Iceland",
          "Ireland",
          "Italy",
          "Montenegro",
          "Netherlands",
          "Norway",
          "Poland",
          "Portugal",
          "Romania",
          "Serbia",
          "Slovak Republic",
          "Slovenia",
          "Spain",
          "Sweden",
          "Switzerland",
          "Turkey",
          "United Kingdom"
         ],
         "type": "scatter",
         "uid": "2207a25d-70f3-4bc3-976c-525fff663641",
         "x": {
          "dtype": "float64",
          "shape": [
           30
          ]
         },
         "y": {
          "dtype": "float64",
          "shape": [
           30
          ]
         }
        },
        {
         "marker": {
          "size": [
           15184200,
           3210650
          ],
          "sizemode": "area",
          "sizeref": 200000
         },
         "mode": "markers",
         "name": "Oceania",
         "text": [
          "Australia",
          "New Zealand"
         ],
         "type": "scatter",
         "uid": "44d132bb-1ebc-4b03-8052-f3afbfc0afde",
         "x": {
          "dtype": "float64",
          "shape": [
           2
          ]
         },
         "y": {
          "dtype": "float64",
          "shape": [
           2
          ]
         }
        }
       ],
       "_js2py_pointsCallback": {},
       "_js2py_relayout": {},
       "_js2py_restyle": {},
       "_js2py_update": {},
       "_last_layout_edit_id": 1,
       "_layout": {
        "height": 700,
        "template": {
         "data": {
          "bar": [
           {
            "marker": {
             "autocolorscale": false,
             "colorbar": {
              "outlinewidth": 0,
              "tickcolor": "rgb(237,237,237)",
              "ticklen": 6,
              "ticks": "inside"
             },
             "colorscale": [
              [
               0,
               "rgb(20,44,66)"
              ],
              [
               1,
               "rgb(90,179,244)"
              ]
             ],
             "line": {
              "autocolorscale": false,
              "colorscale": [
               [
                0,
                "rgb(20,44,66)"
               ],
               [
                1,
                "rgb(90,179,244)"
               ]
              ]
             }
            },
            "type": "bar"
           }
          ],
          "carpet": [
           {
            "aaxis": {
             "endlinecolor": "rgb(51,51,51)",
             "gridcolor": "white",
             "linecolor": "white",
             "minorgridcolor": "white",
             "startlinecolor": "rgb(51,51,51)"
            },
            "baxis": {
             "endlinecolor": "rgb(51,51,51)",
             "gridcolor": "white",
             "linecolor": "white",
             "minorgridcolor": "white",
             "startlinecolor": "rgb(51,51,51)"
            },
            "type": "carpet"
           }
          ],
          "choropleth": [
           {
            "autocolorscale": false,
            "colorbar": {
             "outlinewidth": 0,
             "tickcolor": "rgb(237,237,237)",
             "ticklen": 6,
             "ticks": "inside"
            },
            "colorscale": [
             [
              0,
              "rgb(20,44,66)"
             ],
             [
              1,
              "rgb(90,179,244)"
             ]
            ],
            "type": "choropleth"
           }
          ],
          "contour": [
           {
            "autocolorscale": false,
            "colorbar": {
             "outlinewidth": 0,
             "tickcolor": "rgb(237,237,237)",
             "ticklen": 6,
             "ticks": "inside"
            },
            "colorscale": [
             [
              0,
              "rgb(20,44,66)"
             ],
             [
              1,
              "rgb(90,179,244)"
             ]
            ],
            "type": "contour"
           }
          ],
          "contourcarpet": [
           {
            "autocolorscale": false,
            "colorbar": {
             "outlinewidth": 0,
             "tickcolor": "rgb(237,237,237)",
             "ticklen": 6,
             "ticks": "inside"
            },
            "colorscale": [
             [
              0,
              "rgb(20,44,66)"
             ],
             [
              1,
              "rgb(90,179,244)"
             ]
            ],
            "type": "contourcarpet"
           }
          ],
          "heatmap": [
           {
            "autocolorscale": false,
            "colorbar": {
             "outlinewidth": 0,
             "tickcolor": "rgb(237,237,237)",
             "ticklen": 6,
             "ticks": "inside"
            },
            "colorscale": [
             [
              0,
              "rgb(20,44,66)"
             ],
             [
              1,
              "rgb(90,179,244)"
             ]
            ],
            "type": "heatmap"
           }
          ],
          "heatmapgl": [
           {
            "autocolorscale": false,
            "colorbar": {
             "outlinewidth": 0,
             "tickcolor": "rgb(237,237,237)",
             "ticklen": 6,
             "ticks": "inside"
            },
            "colorscale": [
             [
              0,
              "rgb(20,44,66)"
             ],
             [
              1,
              "rgb(90,179,244)"
             ]
            ],
            "type": "heatmapgl"
           }
          ],
          "histogram": [
           {
            "marker": {
             "autocolorscale": false,
             "colorbar": {
              "outlinewidth": 0,
              "tickcolor": "rgb(237,237,237)",
              "ticklen": 6,
              "ticks": "inside"
             },
             "colorscale": [
              [
               0,
               "rgb(20,44,66)"
              ],
              [
               1,
               "rgb(90,179,244)"
              ]
             ]
            },
            "type": "histogram"
           }
          ],
          "histogram2d": [
           {
            "autocolorscale": false,
            "colorbar": {
             "outlinewidth": 0,
             "tickcolor": "rgb(237,237,237)",
             "ticklen": 6,
             "ticks": "inside"
            },
            "colorscale": [
             [
              0,
              "rgb(20,44,66)"
             ],
             [
              1,
              "rgb(90,179,244)"
             ]
            ],
            "type": "histogram2d"
           }
          ],
          "histogram2dcontour": [
           {
            "autocolorscale": false,
            "colorbar": {
             "outlinewidth": 0,
             "tickcolor": "rgb(237,237,237)",
             "ticklen": 6,
             "ticks": "inside"
            },
            "colorscale": [
             [
              0,
              "rgb(20,44,66)"
             ],
             [
              1,
              "rgb(90,179,244)"
             ]
            ],
            "type": "histogram2dcontour"
           }
          ],
          "mesh3d": [
           {
            "autocolorscale": false,
            "colorbar": {
             "outlinewidth": 0,
             "tickcolor": "rgb(237,237,237)",
             "ticklen": 6,
             "ticks": "inside"
            },
            "colorscale": [
             [
              0,
              "rgb(20,44,66)"
             ],
             [
              1,
              "rgb(90,179,244)"
             ]
            ],
            "type": "mesh3d"
           }
          ],
          "parcoords": [
           {
            "line": {
             "autocolorscale": false,
             "colorbar": {
              "outlinewidth": 0,
              "tickcolor": "rgb(237,237,237)",
              "ticklen": 6,
              "ticks": "inside"
             },
             "colorscale": [
              [
               0,
               "rgb(20,44,66)"
              ],
              [
               1,
               "rgb(90,179,244)"
              ]
             ]
            },
            "type": "parcoords"
           }
          ],
          "scatter": [
           {
            "marker": {
             "autocolorscale": false,
             "colorbar": {
              "outlinewidth": 0,
              "tickcolor": "rgb(237,237,237)",
              "ticklen": 6,
              "ticks": "inside"
             },
             "colorscale": [
              [
               0,
               "rgb(20,44,66)"
              ],
              [
               1,
               "rgb(90,179,244)"
              ]
             ],
             "line": {
              "autocolorscale": false,
              "colorscale": [
               [
                0,
                "rgb(20,44,66)"
               ],
               [
                1,
                "rgb(90,179,244)"
               ]
              ]
             }
            },
            "type": "scatter"
           }
          ],
          "scatter3d": [
           {
            "line": {
             "autocolorscale": false,
             "colorscale": [
              [
               0,
               "rgb(20,44,66)"
              ],
              [
               1,
               "rgb(90,179,244)"
              ]
             ]
            },
            "marker": {
             "autocolorscale": false,
             "colorbar": {
              "outlinewidth": 0,
              "tickcolor": "rgb(237,237,237)",
              "ticklen": 6,
              "ticks": "inside"
             },
             "colorscale": [
              [
               0,
               "rgb(20,44,66)"
              ],
              [
               1,
               "rgb(90,179,244)"
              ]
             ]
            },
            "type": "scatter3d"
           }
          ],
          "scattercarpet": [
           {
            "marker": {
             "autocolorscale": false,
             "colorbar": {
              "outlinewidth": 0,
              "tickcolor": "rgb(237,237,237)",
              "ticklen": 6,
              "ticks": "inside"
             },
             "colorscale": [
              [
               0,
               "rgb(20,44,66)"
              ],
              [
               1,
               "rgb(90,179,244)"
              ]
             ]
            },
            "type": "scattercarpet"
           }
          ],
          "scattergeo": [
           {
            "marker": {
             "autocolorscale": false,
             "colorbar": {
              "outlinewidth": 0,
              "tickcolor": "rgb(237,237,237)",
              "ticklen": 6,
              "ticks": "inside"
             },
             "colorscale": [
              [
               0,
               "rgb(20,44,66)"
              ],
              [
               1,
               "rgb(90,179,244)"
              ]
             ]
            },
            "type": "scattergeo"
           }
          ],
          "scattergl": [
           {
            "marker": {
             "autocolorscale": false,
             "colorbar": {
              "outlinewidth": 0,
              "tickcolor": "rgb(237,237,237)",
              "ticklen": 6,
              "ticks": "inside"
             },
             "colorscale": [
              [
               0,
               "rgb(20,44,66)"
              ],
              [
               1,
               "rgb(90,179,244)"
              ]
             ]
            },
            "type": "scattergl"
           }
          ],
          "scattermapbox": [
           {
            "marker": {
             "autocolorscale": false,
             "colorbar": {
              "outlinewidth": 0,
              "tickcolor": "rgb(237,237,237)",
              "ticklen": 6,
              "ticks": "inside"
             },
             "colorscale": [
              [
               0,
               "rgb(20,44,66)"
              ],
              [
               1,
               "rgb(90,179,244)"
              ]
             ]
            },
            "type": "scattermapbox"
           }
          ],
          "scatterpolar": [
           {
            "marker": {
             "autocolorscale": false,
             "colorbar": {
              "outlinewidth": 0,
              "tickcolor": "rgb(237,237,237)",
              "ticklen": 6,
              "ticks": "inside"
             },
             "colorscale": [
              [
               0,
               "rgb(20,44,66)"
              ],
              [
               1,
               "rgb(90,179,244)"
              ]
             ]
            },
            "type": "scatterpolar"
           }
          ],
          "scatterpolargl": [
           {
            "marker": {
             "autocolorscale": false,
             "colorbar": {
              "outlinewidth": 0,
              "tickcolor": "rgb(237,237,237)",
              "ticklen": 6,
              "ticks": "inside"
             },
             "colorscale": [
              [
               0,
               "rgb(20,44,66)"
              ],
              [
               1,
               "rgb(90,179,244)"
              ]
             ],
             "line": {
              "autocolorscale": false,
              "colorscale": [
               [
                0,
                "rgb(20,44,66)"
               ],
               [
                1,
                "rgb(90,179,244)"
               ]
              ]
             }
            },
            "type": "scatterpolargl"
           }
          ],
          "scatterternary": [
           {
            "marker": {
             "autocolorscale": false,
             "colorbar": {
              "outlinewidth": 0,
              "tickcolor": "rgb(237,237,237)",
              "ticklen": 6,
              "ticks": "inside"
             },
             "colorscale": [
              [
               0,
               "rgb(20,44,66)"
              ],
              [
               1,
               "rgb(90,179,244)"
              ]
             ]
            },
            "type": "scatterternary"
           }
          ],
          "surface": [
           {
            "autocolorscale": false,
            "colorbar": {
             "outlinewidth": 0,
             "tickcolor": "rgb(237,237,237)",
             "ticklen": 6,
             "ticks": "inside"
            },
            "colorscale": [
             [
              0,
              "rgb(20,44,66)"
             ],
             [
              1,
              "rgb(90,179,244)"
             ]
            ],
            "type": "surface"
           }
          ],
          "table": [
           {
            "cells": {
             "fill": {
              "color": "rgb(237,237,237)"
             },
             "line": {
              "color": "white"
             }
            },
            "header": {
             "fill": {
              "color": "rgb(217,217,217)"
             },
             "line": {
              "color": "white"
             }
            },
            "type": "table"
           }
          ]
         },
         "layout": {
          "annotationdefaults": {
           "arrowhead": 0,
           "arrowwidth": 1
          },
          "colorway": [
           "#F8766D",
           "#A3A500",
           "#00BF7D",
           "#00B0F6",
           "#E76BF3"
          ],
          "font": {
           "color": "rgb(51,51,51)"
          },
          "geo": {
           "bgcolor": "white",
           "lakecolor": "white",
           "landcolor": "rgb(237,237,237)",
           "showlakes": true,
           "showland": true,
           "subunitcolor": "white"
          },
          "paper_bgcolor": "white",
          "plot_bgcolor": "rgb(237,237,237)",
          "polar": {
           "angularaxis": {
            "gridcolor": "white",
            "linecolor": "white",
            "showgrid": true,
            "tickcolor": "rgb(51,51,51)",
            "ticks": "outside"
           },
           "bgcolor": "rgb(237,237,237)",
           "radialaxis": {
            "gridcolor": "white",
            "linecolor": "white",
            "showgrid": true,
            "tickcolor": "rgb(51,51,51)",
            "ticks": "outside"
           }
          },
          "scene": {
           "xaxis": {
            "backgroundcolor": "rgb(237,237,237)",
            "gridcolor": "white",
            "gridwidth": 2,
            "linecolor": "white",
            "showbackground": true,
            "showgrid": true,
            "tickcolor": "rgb(51,51,51)",
            "ticks": "outside",
            "zerolinecolor": "white"
           },
           "yaxis": {
            "backgroundcolor": "rgb(237,237,237)",
            "gridcolor": "white",
            "gridwidth": 2,
            "linecolor": "white",
            "showbackground": true,
            "showgrid": true,
            "tickcolor": "rgb(51,51,51)",
            "ticks": "outside",
            "zerolinecolor": "white"
           },
           "zaxis": {
            "backgroundcolor": "rgb(237,237,237)",
            "gridcolor": "white",
            "gridwidth": 2,
            "linecolor": "white",
            "showbackground": true,
            "showgrid": true,
            "tickcolor": "rgb(51,51,51)",
            "ticks": "outside",
            "zerolinecolor": "white"
           }
          },
          "shapedefaults": {
           "fillcolor": "black",
           "line": {
            "width": 0
           },
           "opacity": 0.3
          },
          "ternary": {
           "aaxis": {
            "gridcolor": "white",
            "linecolor": "white",
            "showgrid": true,
            "tickcolor": "rgb(51,51,51)",
            "ticks": "outside"
           },
           "baxis": {
            "gridcolor": "white",
            "linecolor": "white",
            "showgrid": true,
            "tickcolor": "rgb(51,51,51)",
            "ticks": "outside"
           },
           "bgcolor": "rgb(237,237,237)",
           "caxis": {
            "gridcolor": "white",
            "linecolor": "white",
            "showgrid": true,
            "tickcolor": "rgb(51,51,51)",
            "ticks": "outside"
           }
          },
          "xaxis": {
           "gridcolor": "white",
           "linecolor": "white",
           "showgrid": true,
           "tickcolor": "rgb(51,51,51)",
           "ticks": "outside",
           "zerolinecolor": "white"
          },
          "yaxis": {
           "gridcolor": "white",
           "linecolor": "white",
           "showgrid": true,
           "tickcolor": "rgb(51,51,51)",
           "ticks": "outside",
           "zerolinecolor": "white"
          }
         }
        },
        "title": "Life Expectancy and GDP per capita (1982)",
        "width": 900,
        "xaxis": {
         "title": "Life Expectancy"
        },
        "yaxis": {
         "title": "GDP per capita",
         "type": "log"
        }
       },
       "_py2js_addTraces": {},
       "_py2js_animate": {},
       "_py2js_deleteTraces": {},
       "_py2js_moveTraces": {},
       "_py2js_removeLayoutProps": {},
       "_py2js_removeTraceProps": {},
       "_py2js_restyle": {},
       "_py2js_update": {},
       "_view_count": 1
      }
     },
     "fcd9004e7db64d5bb0545be0371a3755": {
      "buffers": [
       {
        "data": "yXa+nxqvTkB/arx0k/hDQMDKoUW2c0lAyqFFtvO9TkBWDi2ynQ9IQEA1XrpJvEdAX7pJDAJ7SkD2KFyPwiVIQBgEVg4twkhAgZVDi2x3SkAxCKwcWuRHQClcj8L1WExA6Pup8dL9SkAOLbKd72dIQFTjpZvEAExA2/l+arzURUBSuB6F6/FFQGmR7Xw/dUZA1HjpJjFITEAK16NwPcpGQKwcWmQ730pANl66SQxyRUBg5dAi26lDQDZeukkMYk1ARIts5/uJS0CTGARWDm1GQKRwPQrXE09AeOkmMQh8SEAYBFYOLdJGQGmR7Xw/9UVA6SYxCKzMSkAv3SQGga1QQDMzMzMz001A9ihcj8JlRUCWQ4ts53tNQAaBlUOLTEVAfT81XrrpRkBxPQrXo3hRQJZDi2znG0dAsXJoke0sTkCNl24SgzBKQClcj8L1OENACtejcD16RUD4U+OlmxRNQCUGgZVDK0lALIcW2c7HS0Do+6nx0k1JQEA1XrpJvEtAUI2XbhIDUEDpJjEIrOxIQA0CK4cW6UlAWDm0yHYuTkA=",
        "encoding": "base64",
        "path": [
         "_data",
         0,
         "x",
         "value"
        ]
       },
       {
        "data": "ZRu4AylxtkA5RrJH6ImlQHcRpiiX95NAIEHxYyTHsUCun/6zljmJQHdHxmrTfIFAfgG9cPd/okCJ9fwfBuaNQNNTP8pD74hAi28ofGbMk0DbVg6I+w2FQAA49uyBD7NARGtFm2tVpECtUnqm736mQPiL2ZJ1X6tA8QNGTZr+jEDMHUe9AWeAQAQlYM/iDoJAj8cMVK6EzUDnIzoVeh6KQOguibNCYItAaq6JuwDKikA9gnbi/TCKQO2CwTXnEJVAr3IN2BrqiEBCcte3mOGBQH9v058R9dBAejnsvoNblECRsBRubsaDQGGMo80cUINA4Cwly5kkl0CRtYZSE9CsQME3TZ89HaVAMhaX9GHjfEDjwRa7GV+wQEay7O7GbYxA7FG4HuWjmEBIqYQnOJO0QJCQN6+QjItAzxYQWt+InUBq+uyA67mXQEj99QoL5JZAb59VZjpjkkCkVMITIrzAQIz2eCEtnp1AJ94BnsRurkBG6uLb8FGLQIBG6dJPApVAjyCVYnfQq0CMOoQ7IVKFQNdMvtm2ApZA48nJH9emiEA=",
        "encoding": "base64",
        "path": [
         "_data",
         0,
         "y",
         "value"
        ]
       },
       {
        "data": "PzVeukl8UUDKoUW28+1KQF+6SQwCq09AcT0K16PwUkBcj8L1KKRRQG8Sg8DKqVBAzczMzMxcUkDZzvdT421SQJMYBFYO3U9A2c73U+MVUEBaZDvfT01MQKjGSzeJEU1AX7pJDAK7SUAxCKwcWnROQD0K16NwzVFAUrgehevZUECgGi/dJKZNQJHtfD81nlFADi2yne+3UECIFtnO97NOQAAAAAAAcFJAaJHtfD81UUCamZmZmalSQOxRuB6Fs1FAz/dT46UjUUA=",
        "encoding": "base64",
        "path": [
         "_data",
         1,
         "x",
         "value"
        ]
       },
       {
        "data": "hXtl3vKSwUBb7PZZBamoQHLBGfzVdrtAd/hrsrJc1kC1Oc5tquezQKZiY16TLbFAtDukGLyOtEA6cw8J65S8QDfBN00vWqZAaF95kMotvEAaUdobWAKwQGO0jqp+1LJAbyTQYKNsn0D9icqGhWOoQKYKRiUNtLdA6Zyf4pLFwkDlgcgirRyrQFeXUwKaYbtAIhYx7ICisEA7qMR1gCK5QGuad5x+LcRAuOhkqcPPwUB5I/PIY2zYQFjO3hk5CLtA4QZ8fjTIxUA=",
        "encoding": "base64",
        "path": [
         "_data",
         1,
         "y",
         "value"
        ]
       },
       {
        "data": "WmQ730/tQ0AW2c73U0NRQP3UeOkmAUlA0SLb+X56SUCamZmZmWFQQM3MzMzM3FJAQDVeuklMTEAxCKwcWhRMQI/C9Shcz01Av58aL90ET0DNzMzMzJxSQNejcD0KR1NAO99PjZfeT0BmZmZmZkZRQB1aZDvfx1BAsp3vp8bTUUD0/dR46b5QQAAAAAAAAFFAO99PjZe+TEC7SQwCKwdNQHjpJjEIzEhAd76fGi9dT0BOYhBYORRMQNEi2/l+Ck9AqMZLN4mBT0BxPQrXo/BRQJzEILByMFFA9ihcj8IlUEAK16NwPQpSQJHtfD81JlBAnMQgsHJoTUBEi2zn+xlQQFg5tMh2jkhA",
        "encoding": "base64",
        "path": [
         "_data",
         2,
         "x",
         "value"
        ]
       },
       {
        "data": "P785bReQjkAY7IZtycLSQIoIWtzaJ4VAo4+ex82Dg0BgVb38XhOOQBluwOdDcMxAYzcizsm9ikA095DwfbOXQC0HeqhVuL1A8DMuHPRazECGWtO8gwPOQDfg88MG7tJAev1JfGpBsEDRH5p5hgqwQKgZUkXx9rVAX3tmSYKe3kCVCFT/hNi9QPrPmh9bOLNAxR9FnWlCn0AAAAAAAIB6QH32Ehn8coZAZ9DQP2VNyUAZO+EluI2WQJQT7SqMVqRAVOOlm6Vz4EBdhZSflKDNQFMmNbRRwJlAvAD76KxjrUB4B3jSWgK9QJCeIodwsqJAwnrt4+IZhkDKpIY2CPCwQC9W1GA65p5A",
        "encoding": "base64",
        "path": [
         "_data",
         2,
         "y",
         "value"
        ]
       },
       {
        "data": "exSuR+GaUUDsUbgehUtSQOxRuB6Fe1JAXI/C9SisUUCF61G4HsVRQD0K16NwnVFAPQrXo3C9UUC4HoXrUahSQDMzMzMzo1JAKVyPwvW4UkAzMzMzM3NSQI/C9Shcz1JAKVyPwvVYUUCPwvUoXD9TQGZmZmZmRlJAH4XrUbi+UkBYObTIdoZSQDMzMzMzA1NArkfhehT+UkAUrkfhetRRQOF6FK5HMVJACtejcD1qUUDtfD81XopRQDMzMzMzs1FAeekmMQjEUUAzMzMzMxNTQHsUrkfhGlNAPQrXo3ANU0D4U+Olm4ROQMP1KFyPglJA",
        "encoding": "base64",
        "path": [
         "_data",
         3,
         "x",
         "value"
        ]
       },
       {
        "data": "vHX+7cJdrEBSswdaRRfVQIHPDyP2fNRAUG7b95wesECwjuOHGBDAQEaZDTLp0slAwFsgQZ0IzkAJbTmXAi7VQOFASBZKGdJAXhH8b3nR00BSg2kY4oPVQJw4ud810s1Aumbyzf6AyEAUrkfhZrnWQE1/9iMppchA5/up8V4m0EA91SE3S+vFQEc4LXjd5dRANEbrqKiu2UAGZ/D3w4HAQLyReeTr9MZAG4LjMqjCwkAr9pfdi6bNQEOtad5FKsZAeekmMa5y0UCms5PBFTPLQGZmZmbYLtRALa2GxG2720AgQlw5W5GwQCDvVSsbztFA",
        "encoding": "base64",
        "path": [
         "_data",
         3,
         "y",
         "value"
        ]
       },
       {
        "data": "j8L1KFyvUkD2KFyPwnVSQA==",
        "encoding": "base64",
        "path": [
         "_data",
         4,
         "x",
         "value"
        ]
       },
       {
        "data": "ISQLmEAF00CSXP5DGjjRQA==",
        "encoding": "base64",
        "path": [
         "_data",
         4,
         "y",
         "value"
        ]
       }
      ],
      "model_module": "plotlywidget",
      "model_module_version": "^0.5.0-rc.1",
      "model_name": "FigureModel",
      "state": {
       "_data": [
        {
         "marker": {
          "size": [
           20033753,
           7016384,
           3641603,
           970347,
           6634596,
           4580410,
           9250831,
           2476971,
           4875118,
           348643,
           30646495,
           1774735,
           9025951,
           305991,
           45681811,
           285483,
           2637297,
           38111756,
           753874,
           715523,
           11400338,
           4710497,
           825987,
           17661452,
           1411807,
           1956875,
           3344074,
           9171477,
           6502825,
           6998256,
           1622136,
           992040,
           20198730,
           12587223,
           1099010,
           6437188,
           73039376,
           517810,
           5507565,
           98593,
           6147783,
           3464522,
           5828892,
           31140029,
           20367053,
           649901,
           19844382,
           2644765,
           6734098,
           12939400,
           6100407,
           7636524
          ],
          "sizemode": "area",
          "sizeref": 200000
         },
         "mode": "markers",
         "name": "Africa",
         "text": [
          "Algeria",
          "Angola",
          "Benin",
          "Botswana",
          "Burkina Faso",
          "Burundi",
          "Cameroon",
          "Central African Republic",
          "Chad",
          "Comoros",
          "Congo, Dem. Rep.",
          "Congo, Rep.",
          "Cote d'Ivoire",
          "Djibouti",
          "Egypt",
          "Equatorial Guinea",
          "Eritrea",
          "Ethiopia",
          "Gabon",
          "Gambia",
          "Ghana",
          "Guinea",
          "Guinea-Bissau",
          "Kenya",
          "Lesotho",
          "Liberia",
          "Libya",
          "Madagascar",
          "Malawi",
          "Mali",
          "Mauritania",
          "Mauritius",
          "Morocco",
          "Mozambique",
          "Namibia",
          "Niger",
          "Nigeria",
          "Reunion",
          "Rwanda",
          "Sao Tome and Principe",
          "Senegal",
          "Sierra Leone",
          "Somalia",
          "South Africa",
          "Sudan",
          "Swaziland",
          "Tanzania",
          "Togo",
          "Tunisia",
          "Uganda",
          "Zambia",
          "Zimbabwe"
         ],
         "type": "scatter",
         "uid": "ac40ab72-3cca-4585-b9a5-72462e54e207",
         "x": {
          "dtype": "float64",
          "shape": [
           52
          ]
         },
         "y": {
          "dtype": "float64",
          "shape": [
           52
          ]
         }
        },
        {
         "marker": {
          "size": [
           29341374,
           5642224,
           128962939,
           25201900,
           11487112,
           27764644,
           2424367,
           9789224,
           5968349,
           8365850,
           4474873,
           6395630,
           5198399,
           3669448,
           2298309,
           71640904,
           2979423,
           2036305,
           3366439,
           18125129,
           3279001,
           1116479,
           232187835,
           2953997,
           15620766
          ],
          "sizemode": "area",
          "sizeref": 200000
         },
         "mode": "markers",
         "name": "Americas",
         "text": [
          "Argentina",
          "Bolivia",
          "Brazil",
          "Canada",
          "Chile",
          "Colombia",
          "Costa Rica",
          "Cuba",
          "Dominican Republic",
          "Ecuador",
          "El Salvador",
          "Guatemala",
          "Haiti",
          "Honduras",
          "Jamaica",
          "Mexico",
          "Nicaragua",
          "Panama",
          "Paraguay",
          "Peru",
          "Puerto Rico",
          "Trinidad and Tobago",
          "United States",
          "Uruguay",
          "Venezuela"
         ],
         "type": "scatter",
         "uid": "7a34ec48-352b-4f8c-9414-0dc4134b317e",
         "x": {
          "dtype": "float64",
          "shape": [
           25
          ]
         },
         "y": {
          "dtype": "float64",
          "shape": [
           25
          ]
         }
        },
        {
         "marker": {
          "size": [
           12881816,
           377967,
           93074406,
           7272485,
           1000281000,
           5264500,
           708000000,
           153343000,
           43072751,
           14173318,
           3858421,
           118454974,
           2347031,
           17647518,
           39326000,
           1497494,
           3086876,
           14441916,
           1756032,
           34680442,
           15796314,
           1301048,
           91462088,
           53456774,
           11254672,
           2651869,
           15410151,
           9410494,
           18501390,
           48827160,
           56142181,
           1425876,
           9657618
          ],
          "sizemode": "area",
          "sizeref": 200000
         },
         "mode": "markers",
         "name": "Asia",
         "text": [
          "Afghanistan",
          "Bahrain",
          "Bangladesh",
          "Cambodia",
          "China",
          "Hong Kong, China",
          "India",
          "Indonesia",
          "Iran",
          "Iraq",
          "Israel",
          "Japan",
          "Jordan",
          "Korea, Dem. Rep.",
          "Korea, Rep.",
          "Kuwait",
          "Lebanon",
          "Malaysia",
          "Mongolia",
          "Myanmar",
          "Nepal",
          "Oman",
          "Pakistan",
          "Philippines",
          "Saudi Arabia",
          "Singapore",
          "Sri Lanka",
          "Syria",
          "Taiwan",
          "Thailand",
          "Vietnam",
          "West Bank and Gaza",
          "Yemen, Rep."
         ],
         "type": "scatter",
         "uid": "ed9743be-845f-4c1d-af78-4ca75b96c82a",
         "x": {
          "dtype": "float64",
          "shape": [
           33
          ]
         },
         "y": {
          "dtype": "float64",
          "shape": [
           33
          ]
         }
        },
        {
         "marker": {
          "size": [
           2780097,
           7574613,
           9856303,
           4172693,
           8892098,
           4413368,
           10303704,
           5117810,
           4826933,
           54433565,
           78335266,
           9786480,
           10705535,
           233997,
           3480000,
           56535636,
           562548,
           14310401,
           4114787,
           36227381,
           9859650,
           22356726,
           9032824,
           5048043,
           1861252,
           37983310,
           8325260,
           6468126,
           47328791,
           56339704
          ],
          "sizemode": "area",
          "sizeref": 200000
         },
         "mode": "markers",
         "name": "Europe",
         "text": [
          "Albania",
          "Austria",
          "Belgium",
          "Bosnia and Herzegovina",
          "Bulgaria",
          "Croatia",
          "Czech Republic",
          "Denmark",
          "Finland",
          "France",
          "Germany",
          "Greece",
          "Hungary",
          "Iceland",
          "Ireland",
          "Italy",
          "Montenegro",
          "Netherlands",
          "Norway",
          "Poland",
          "Portugal",
          "Romania",
          "Serbia",
          "Slovak Republic",
          "Slovenia",
          "Spain",
          "Sweden",
          "Switzerland",
          "Turkey",
          "United Kingdom"
         ],
         "type": "scatter",
         "uid": "9c04f42a-8dfe-46f0-8b7a-bd74b83f5ec7",
         "x": {
          "dtype": "float64",
          "shape": [
           30
          ]
         },
         "y": {
          "dtype": "float64",
          "shape": [
           30
          ]
         }
        },
        {
         "marker": {
          "size": [
           15184200,
           3210650
          ],
          "sizemode": "area",
          "sizeref": 200000
         },
         "mode": "markers",
         "name": "Oceania",
         "text": [
          "Australia",
          "New Zealand"
         ],
         "type": "scatter",
         "uid": "c1b6a112-2d03-4071-ab35-78332cd91df3",
         "x": {
          "dtype": "float64",
          "shape": [
           2
          ]
         },
         "y": {
          "dtype": "float64",
          "shape": [
           2
          ]
         }
        }
       ],
       "_js2py_pointsCallback": {},
       "_js2py_relayout": {},
       "_js2py_restyle": {},
       "_js2py_update": {},
       "_last_layout_edit_id": 1,
       "_layout": {
        "height": 700,
        "template": {
         "data": {
          "scatter": [
           {
            "line": {
             "width": 3
            },
            "marker": {
             "size": 9
            },
            "type": "scatter"
           }
          ],
          "scatter3d": [
           {
            "line": {
             "width": 3
            },
            "marker": {
             "size": 9
            },
            "type": "scatter3d"
           }
          ],
          "scattergeo": [
           {
            "line": {
             "width": 3
            },
            "marker": {
             "size": 9
            },
            "type": "scattergeo"
           }
          ],
          "scattergl": [
           {
            "line": {
             "width": 3
            },
            "marker": {
             "size": 9
            },
            "type": "scattergl"
           }
          ],
          "scatterpolar": [
           {
            "line": {
             "width": 3
            },
            "marker": {
             "size": 9
            },
            "type": "scatterpolar"
           }
          ],
          "scatterpolargl": [
           {
            "line": {
             "width": 3
            },
            "marker": {
             "size": 9
            },
            "type": "scatterpolargl"
           }
          ],
          "scatterternary": [
           {
            "line": {
             "width": 3
            },
            "marker": {
             "size": 9
            },
            "type": "scatterternary"
           }
          ],
          "table": [
           {
            "cells": {
             "height": 30
            },
            "header": {
             "height": 36
            },
            "type": "table"
           }
          ]
         },
         "layout": {
          "font": {
           "size": 18
          },
          "xaxis": {
           "automargin": true
          },
          "yaxis": {
           "automargin": true
          }
         }
        },
        "title": "Life Expectancy and GDP per capita (1982)",
        "width": 900,
        "xaxis": {
         "title": "Life Expectancy"
        },
        "yaxis": {
         "title": "GDP per capita",
         "type": "log"
        }
       },
       "_py2js_addTraces": {},
       "_py2js_animate": {},
       "_py2js_deleteTraces": {},
       "_py2js_moveTraces": {},
       "_py2js_removeLayoutProps": {},
       "_py2js_removeTraceProps": {},
       "_py2js_restyle": {},
       "_py2js_update": {},
       "_view_count": 1
      }
     }
    },
    "version_major": 2,
    "version_minor": 0
   }
  }
 },
 "nbformat": 4,
 "nbformat_minor": 2
}
